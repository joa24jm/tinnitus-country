{
 "cells": [
  {
   "cell_type": "markdown",
   "id": "single-villa",
   "metadata": {},
   "source": [
    "# Gradient Boosting Machine performance report\n"
   ]
  },
  {
   "cell_type": "code",
   "execution_count": 27,
   "id": "offensive-mailing",
   "metadata": {},
   "outputs": [],
   "source": [
    "# imports\n",
    "import pandas as pd\n",
    "import seaborn as sns\n",
    "import matplotlib.pyplot as plt\n",
    "from sklearn.model_selection import train_test_split\n",
    "from sklearn.ensemble import GradientBoostingClassifier\n",
    "\n",
    "from sklearn.metrics import classification_report\n",
    "import joblib\n",
    "from sklearn.metrics import confusion_matrix, accuracy_score\n",
    "import datetime\n"
   ]
  },
  {
   "cell_type": "code",
   "execution_count": 2,
   "id": "referenced-music",
   "metadata": {},
   "outputs": [],
   "source": [
    "#%% read in df\n",
    "p_loc = 'C:/Users/joa24jm/Documents/tinnitus-country/'\n",
    "\n",
    "df = pd.read_csv(p_loc + 'data/03_processed/df_equal_splits.csv')"
   ]
  },
  {
   "cell_type": "markdown",
   "id": "arctic-diameter",
   "metadata": {},
   "source": [
    "### Determine features and split data"
   ]
  },
  {
   "cell_type": "code",
   "execution_count": 15,
   "id": "continuing-native",
   "metadata": {},
   "outputs": [],
   "source": [
    "features = ['AT', 'CA', 'CH','DE','GB', 'IT', 'NL', 'NO', 'RU', 'US', # countries\n",
    "            'autumn', 'spring', 'summer', 'winter',                  # season\n",
    "            'Male', 'year_of_birth',                                 # demographics\n",
    "            'question4', 'question5', 'question6', 'question7'\n",
    "            ]      # EMAs\n",
    "\n",
    "X = df[features] # all columns except for the last\n",
    "y = df['question1']  # last col as target\n",
    "\n",
    "\n",
    "# split up data into train and test, stratify on y, set random_state and shuffle\n",
    "x_train, x_test, y_train, y_test = train_test_split(X, y,\n",
    "                                                    test_size = 0.3,\n",
    "                                                    random_state = 42,\n",
    "                                                    shuffle = True,\n",
    "                                                    stratify = y)"
   ]
  },
  {
   "cell_type": "code",
   "execution_count": 16,
   "id": "seasonal-rental",
   "metadata": {},
   "outputs": [
    {
     "name": "stderr",
     "output_type": "stream",
     "text": [
      "C:\\ProgramData\\Anaconda3\\lib\\site-packages\\sklearn\\base.py:315: UserWarning: Trying to unpickle estimator DummyClassifier from version 0.23.2 when using version 0.24.1. This might lead to breaking code or invalid results. Use at your own risk.\n",
      "  UserWarning)\n",
      "C:\\ProgramData\\Anaconda3\\lib\\site-packages\\sklearn\\base.py:315: UserWarning: Trying to unpickle estimator DecisionTreeRegressor from version 0.23.2 when using version 0.24.1. This might lead to breaking code or invalid results. Use at your own risk.\n",
      "  UserWarning)\n",
      "C:\\ProgramData\\Anaconda3\\lib\\site-packages\\sklearn\\base.py:315: UserWarning: Trying to unpickle estimator GradientBoostingClassifier from version 0.23.2 when using version 0.24.1. This might lead to breaking code or invalid results. Use at your own risk.\n",
      "  UserWarning)\n"
     ]
    }
   ],
   "source": [
    "# read in trained model\n",
    "clf = joblib.load(p_loc + 'results/04_models/best_estimator/gb.pkl')"
   ]
  },
  {
   "cell_type": "code",
   "execution_count": 17,
   "id": "legislative-checklist",
   "metadata": {},
   "outputs": [],
   "source": [
    "# predict unseen data\n",
    "y_pred = clf.predict(x_test)"
   ]
  },
  {
   "cell_type": "markdown",
   "id": "imposed-perry",
   "metadata": {},
   "source": [
    "### Classification report"
   ]
  },
  {
   "cell_type": "code",
   "execution_count": 21,
   "id": "selective-folks",
   "metadata": {
    "scrolled": true
   },
   "outputs": [
    {
     "name": "stdout",
     "output_type": "stream",
     "text": [
      "              precision    recall  f1-score   support\n",
      "\n",
      "         0.0       0.90      0.97      0.94     17709\n",
      "         1.0       0.97      0.89      0.93     17708\n",
      "\n",
      "    accuracy                           0.93     35417\n",
      "   macro avg       0.94      0.93      0.93     35417\n",
      "weighted avg       0.94      0.93      0.93     35417\n",
      "\n"
     ]
    }
   ],
   "source": [
    "print(classification_report(y_test, y_pred))"
   ]
  },
  {
   "cell_type": "markdown",
   "id": "julian-notification",
   "metadata": {},
   "source": [
    "### Confusion Matrix"
   ]
  },
  {
   "cell_type": "code",
   "execution_count": 31,
   "id": "sitting-timeline",
   "metadata": {},
   "outputs": [
    {
     "data": {
      "image/png": "[encoded data removed]",
      "text/plain": [
       "<Figure size 432x288 with 2 Axes>"
      ]
     },
     "metadata": {
      "needs_background": "light"
     },
     "output_type": "display_data"
    }
   ],
   "source": [
    "ax = sns.heatmap(confusion_matrix(y_test, y_pred), annot = True,\n",
    "            fmt = 'd', cmap = 'Blues')\n",
    "ax.set_xticklabels(['No', 'Yes'])\n",
    "ax.set_yticklabels(['No', 'Yes'])\n",
    "\n",
    "ax.set_xlabel('Predicted')\n",
    "ax.set_ylabel('Actual')\n",
    "\n",
    "acc = accuracy_score(y_test, y_pred)\n",
    "\n",
    "ax.set_title('Accuracy on test: {:.2%}'.format(acc))\n",
    "\n",
    "plt.savefig(p_loc + 'results/07_plots/gbm_confusion.svg')"
   ]
  },
  {
   "cell_type": "code",
   "execution_count": null,
   "id": "round-monkey",
   "metadata": {},
   "outputs": [],
   "source": []
  }
 ],
 "metadata": {
  "kernelspec": {
   "display_name": "Python 3",
   "language": "python",
   "name": "python3"
  },
  "language_info": {
   "codemirror_mode": {
    "name": "ipython",
    "version": 3
   },
   "file_extension": ".py",
   "mimetype": "text/x-python",
   "name": "python",
   "nbconvert_exporter": "python",
   "pygments_lexer": "ipython3",
   "version": "3.7.6"
  }
 },
 "nbformat": 4,
 "nbformat_minor": 5
}
