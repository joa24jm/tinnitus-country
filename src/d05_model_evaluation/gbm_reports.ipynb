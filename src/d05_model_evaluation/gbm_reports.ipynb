{
 "cells": [
  {
   "cell_type": "markdown",
   "id": "threaded-clark",
   "metadata": {},
   "source": [
    "# Gradient Boosting Machine performance report\n"
   ]
  },
  {
   "cell_type": "code",
   "execution_count": 1,
   "id": "final-ribbon",
   "metadata": {},
   "outputs": [],
   "source": [
    "# imports\n",
    "import pandas as pd\n",
    "import seaborn as sns\n",
    "import matplotlib.pyplot as plt\n",
    "from sklearn.model_selection import train_test_split\n",
    "from sklearn.ensemble import GradientBoostingClassifier\n",
    "\n",
    "from sklearn.metrics import classification_report\n",
    "import joblib\n",
    "from sklearn.metrics import confusion_matrix, accuracy_score, f1_score\n",
    "import datetime\n"
   ]
  },
  {
   "cell_type": "code",
   "execution_count": 2,
   "id": "light-bundle",
   "metadata": {},
   "outputs": [],
   "source": [
    "#%% read in df\n",
    "p_loc = 'C:/Users/joa24jm/Documents/tinnitus-country/'\n",
    "\n",
    "df = pd.read_csv(p_loc + 'data/03_processed/df_equal_splits_with_age.csv')"
   ]
  },
  {
   "cell_type": "markdown",
   "id": "consistent-liquid",
   "metadata": {},
   "source": [
    "### Determine features and split data"
   ]
  },
  {
   "cell_type": "code",
   "execution_count": 3,
   "id": "indirect-metadata",
   "metadata": {},
   "outputs": [],
   "source": [
    "features = ['AT', 'CA', 'CH','DE','GB', 'IT', 'NL', 'NO', 'RU', 'US', # countries\n",
    "            'autumn', 'spring', 'summer', 'winter',                  # season\n",
    "            'Male', 'age',                                 # demographics\n",
    "            'question4', 'question5', 'question6', 'question7'\n",
    "            ]      # EMAs\n",
    "\n",
    "X = df[features] # all columns except for the last\n",
    "y = df['question1']  # last col as target\n",
    "\n",
    "\n",
    "# split up data into train and test, stratify on y, set random_state and shuffle\n",
    "x_train, x_test, y_train, y_test = train_test_split(X, y,\n",
    "                                                    test_size = 0.3,\n",
    "                                                    random_state = 42,\n",
    "                                                    shuffle = True,\n",
    "                                                    stratify = y)"
   ]
  },
  {
   "cell_type": "code",
   "execution_count": 4,
   "id": "hearing-malta",
   "metadata": {},
   "outputs": [],
   "source": [
    "# read in trained model\n",
    "clf = joblib.load(p_loc + 'results/04_models/best_estimator/gb_21_06_25_11_54.pkl')"
   ]
  },
  {
   "cell_type": "code",
   "execution_count": 5,
   "id": "exterior-diamond",
   "metadata": {},
   "outputs": [],
   "source": [
    "# predict unseen data\n",
    "y_pred = clf.predict(x_test)"
   ]
  },
  {
   "cell_type": "markdown",
   "id": "willing-likelihood",
   "metadata": {},
   "source": [
    "### Classification report"
   ]
  },
  {
   "cell_type": "code",
   "execution_count": 6,
   "id": "alternative-trustee",
   "metadata": {
    "scrolled": true
   },
   "outputs": [
    {
     "name": "stdout",
     "output_type": "stream",
     "text": [
      "              precision    recall  f1-score   support\n",
      "\n",
      "         0.0       0.91      0.98      0.94     17709\n",
      "         1.0       0.98      0.90      0.94     17708\n",
      "\n",
      "    accuracy                           0.94     35417\n",
      "   macro avg       0.94      0.94      0.94     35417\n",
      "weighted avg       0.94      0.94      0.94     35417\n",
      "\n"
     ]
    }
   ],
   "source": [
    "print(classification_report(y_test, y_pred))"
   ]
  },
  {
   "cell_type": "markdown",
   "id": "controlled-benefit",
   "metadata": {},
   "source": [
    "### Confusion Matrix"
   ]
  },
  {
   "cell_type": "code",
   "execution_count": 8,
   "id": "strong-florida",
   "metadata": {},
   "outputs": [
    {
     "data": {
      "image/png": "[encoded data removed]",
      "text/plain": [
       "<Figure size 432x288 with 2 Axes>"
      ]
     },
     "metadata": {
      "needs_background": "light"
     },
     "output_type": "display_data"
    }
   ],
   "source": [
    "ax = sns.heatmap(confusion_matrix(y_test, y_pred), annot = True,\n",
    "            fmt = 'd', cmap = 'Blues')\n",
    "ax.set_xticklabels(['No', 'Yes'])\n",
    "ax.set_yticklabels(['No', 'Yes'])\n",
    "\n",
    "ax.set_xlabel('Predicted')\n",
    "ax.set_ylabel('Actual')\n",
    "\n",
    "acc = f1_score(y_test, y_pred)\n",
    "\n",
    "ax.set_title('F1-score on test: {:.2%}'.format(acc))\n",
    "\n",
    "plt.savefig(p_loc + 'results/07_plots/gbm_confusion.svg')"
   ]
  },
  {
   "cell_type": "code",
   "execution_count": null,
   "id": "isolated-validation",
   "metadata": {},
   "outputs": [],
   "source": []
  }
 ],
 "metadata": {
  "kernelspec": {
   "display_name": "Python 3",
   "language": "python",
   "name": "python3"
  },
  "language_info": {
   "codemirror_mode": {
    "name": "ipython",
    "version": 3
   },
   "file_extension": ".py",
   "mimetype": "text/x-python",
   "name": "python",
   "nbconvert_exporter": "python",
   "pygments_lexer": "ipython3",
   "version": "3.7.6"
  }
 },
 "nbformat": 4,
 "nbformat_minor": 5
}
