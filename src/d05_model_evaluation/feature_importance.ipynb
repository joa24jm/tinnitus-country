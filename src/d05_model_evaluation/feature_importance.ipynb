{
 "cells": [
  {
   "cell_type": "markdown",
   "id": "valuable-strand",
   "metadata": {},
   "source": [
    "# Which feature is most important for the gradient boosting classifier to determine tinnitus occurcence?\n",
    "We used three different methods to determine the feature importance:\n",
    "- correlation\n",
    "- permutation importance\n",
    "- gini importance"
   ]
  },
  {
   "cell_type": "code",
   "execution_count": 1,
   "id": "similar-windsor",
   "metadata": {},
   "outputs": [],
   "source": [
    "# imports\n",
    "import pandas as pd\n",
    "from sklearn.model_selection import train_test_split\n",
    "from sklearn.ensemble import GradientBoostingClassifier\n",
    "import joblib\n",
    "from sklearn.inspection import permutation_importance\n",
    "from scipy.stats import pointbiserialr"
   ]
  },
  {
   "cell_type": "code",
   "execution_count": 2,
   "id": "seventh-trustee",
   "metadata": {},
   "outputs": [],
   "source": [
    "# add src to path so the noteboook can import utilities.py\n",
    "import sys\n",
    "sys.path.append('C:\\\\Users\\\\joa24jm\\\\Documents\\\\tinnitus-country\\\\src\\\\')\n",
    "\n",
    "from d00_utils import utilities as u"
   ]
  },
  {
   "cell_type": "code",
   "execution_count": 3,
   "id": "accomplished-carbon",
   "metadata": {},
   "outputs": [],
   "source": [
    "#%% read in df\n",
    "p_loc = 'C:/Users/joa24jm/Documents/tinnitus-country/'\n",
    "\n",
    "df = pd.read_csv(p_loc + 'data/03_processed/df_equal_splits.csv')"
   ]
  },
  {
   "cell_type": "code",
   "execution_count": 4,
   "id": "official-school",
   "metadata": {},
   "outputs": [],
   "source": [
    "features = ['AT', 'CA', 'CH','DE','GB', 'IT', 'NL', 'NO', 'RU', 'US', # countries\n",
    "            'autumn', 'spring', 'summer', 'winter',                  # season\n",
    "            'Male', 'year_of_birth',                                 # demographics\n",
    "            'question4', 'question5', 'question6', 'question7'\n",
    "            ]      # EMAs\n",
    "\n",
    "X = df[features] # all columns except for the last\n",
    "y = df['question1']  # last col as target\n",
    "\n",
    "\n",
    "# split up data into train and test, stratify on y, set random_state and shuffle\n",
    "x_train, x_test, y_train, y_test = train_test_split(X, y,\n",
    "                                                    test_size = 0.3,\n",
    "                                                    random_state = 42,\n",
    "                                                    shuffle = True,\n",
    "                                                    stratify = y)"
   ]
  },
  {
   "cell_type": "code",
   "execution_count": 5,
   "id": "chemical-nightmare",
   "metadata": {
    "scrolled": false
   },
   "outputs": [
    {
     "name": "stderr",
     "output_type": "stream",
     "text": [
      "C:\\ProgramData\\Anaconda3\\lib\\site-packages\\sklearn\\base.py:315: UserWarning: Trying to unpickle estimator DummyClassifier from version 0.23.2 when using version 0.24.1. This might lead to breaking code or invalid results. Use at your own risk.\n",
      "  UserWarning)\n",
      "C:\\ProgramData\\Anaconda3\\lib\\site-packages\\sklearn\\base.py:315: UserWarning: Trying to unpickle estimator DecisionTreeRegressor from version 0.23.2 when using version 0.24.1. This might lead to breaking code or invalid results. Use at your own risk.\n",
      "  UserWarning)\n",
      "C:\\ProgramData\\Anaconda3\\lib\\site-packages\\sklearn\\base.py:315: UserWarning: Trying to unpickle estimator GradientBoostingClassifier from version 0.23.2 when using version 0.24.1. This might lead to breaking code or invalid results. Use at your own risk.\n",
      "  UserWarning)\n"
     ]
    }
   ],
   "source": [
    "# read in trained model\n",
    "clf = joblib.load(p_loc + 'results/04_models/best_estimator/gb.pkl')"
   ]
  },
  {
   "cell_type": "code",
   "execution_count": 6,
   "id": "creative-elder",
   "metadata": {},
   "outputs": [
    {
     "data": {
      "text/plain": [
       "GradientBoostingClassifier(learning_rate=0.5, max_depth=10, max_features=0.5,\n",
       "                           random_state=42, subsample=1, verbose=1)"
      ]
     },
     "execution_count": 6,
     "metadata": {},
     "output_type": "execute_result"
    }
   ],
   "source": [
    "clf"
   ]
  },
  {
   "cell_type": "code",
   "execution_count": 6,
   "id": "supported-davis",
   "metadata": {},
   "outputs": [],
   "source": [
    "# set up result dataframe\n",
    "res = pd.DataFrame(index = features)"
   ]
  },
  {
   "cell_type": "markdown",
   "id": "conditional-marketplace",
   "metadata": {},
   "source": [
    "## Gini importance\n"
   ]
  },
  {
   "cell_type": "code",
   "execution_count": 7,
   "id": "established-steel",
   "metadata": {},
   "outputs": [],
   "source": [
    "gini_importances = clf.feature_importances_.tolist()"
   ]
  },
  {
   "cell_type": "code",
   "execution_count": 8,
   "id": "centered-geography",
   "metadata": {},
   "outputs": [],
   "source": [
    "res['gini'] = gini_importances"
   ]
  },
  {
   "cell_type": "markdown",
   "id": "proper-fusion",
   "metadata": {},
   "source": [
    "## Permutation importance"
   ]
  },
  {
   "cell_type": "code",
   "execution_count": 9,
   "id": "handy-penguin",
   "metadata": {},
   "outputs": [],
   "source": [
    "r = permutation_importance(clf, x_test, y_test, n_repeats = 10, random_state = 42)"
   ]
  },
  {
   "cell_type": "code",
   "execution_count": 10,
   "id": "standard-switzerland",
   "metadata": {},
   "outputs": [],
   "source": [
    "permutation_importances = r.importances_mean.tolist()\n",
    "res['permutation'] = permutation_importances"
   ]
  },
  {
   "cell_type": "markdown",
   "id": "backed-wedding",
   "metadata": {},
   "source": [
    "## Correlation\n",
    "- categorical-categorical: Cramer's V\n",
    "- categorical-continous  : Point Biserial"
   ]
  },
  {
   "cell_type": "code",
   "execution_count": 12,
   "id": "complimentary-anime",
   "metadata": {},
   "outputs": [],
   "source": [
    "# define feature types\n",
    "feature_types = {'AT': 'categorical',\n",
    " 'CA': 'categorical',\n",
    " 'CH': 'categorical',\n",
    " 'DE': 'categorical',\n",
    " 'GB': 'categorical',\n",
    " 'IT': 'categorical',\n",
    " 'NL': 'categorical',\n",
    " 'NO': 'categorical',\n",
    " 'RU': 'categorical',\n",
    " 'US': 'categorical',\n",
    " 'autumn': 'categorical',\n",
    " 'spring': 'categorical',\n",
    " 'summer': 'categorical',\n",
    " 'winter': 'categorical',\n",
    " 'Male': 'categorical',\n",
    " 'year_of_birth': 'continous',\n",
    " 'question4': 'continous',\n",
    " 'question5': 'continous',\n",
    " 'question6': 'continous',\n",
    " 'question7': 'continous'}"
   ]
  },
  {
   "cell_type": "code",
   "execution_count": 13,
   "id": "equivalent-cheese",
   "metadata": {},
   "outputs": [],
   "source": [
    "# calculation correlations\n",
    "res['correlations'] = None\n",
    "for col in feature_types.keys():\n",
    "    if feature_types[col] == 'categorical':\n",
    "        c = u.cramers_corrected_stat(pd.crosstab(X[col], y))\n",
    "    else:\n",
    "        c = pointbiserialr(X[col].values, y.values)[0]\n",
    "    res.loc[col, 'correlations'] = c\n",
    "        "
   ]
  },
  {
   "cell_type": "markdown",
   "id": "tired-finger",
   "metadata": {},
   "source": [
    "## Rank features importances"
   ]
  },
  {
   "cell_type": "code",
   "execution_count": 14,
   "id": "typical-tennis",
   "metadata": {},
   "outputs": [],
   "source": [
    "res[['gini_rank', 'permutation_rank', 'correlations_rank']] = res.abs().rank(ascending = False)"
   ]
  },
  {
   "cell_type": "code",
   "execution_count": 15,
   "id": "sorted-somerset",
   "metadata": {
    "scrolled": true
   },
   "outputs": [
    {
     "data": {
      "text/html": [
       "<style  type=\"text/css\" >\n",
       "</style><table id=\"T_89abe_\" ><thead>    <tr>        <th class=\"blank level0\" ></th>        <th class=\"col_heading level0 col0\" >gini</th>        <th class=\"col_heading level0 col1\" >permutation</th>        <th class=\"col_heading level0 col2\" >correlations</th>        <th class=\"col_heading level0 col3\" >gini_rank</th>        <th class=\"col_heading level0 col4\" >permutation_rank</th>        <th class=\"col_heading level0 col5\" >correlations_rank</th>    </tr></thead><tbody>\n",
       "                <tr>\n",
       "                        <th id=\"T_89abe_level0_row0\" class=\"row_heading level0 row0\" >AT</th>\n",
       "                        <td id=\"T_89abe_row0_col0\" class=\"data row0 col0\" >0.35%</td>\n",
       "                        <td id=\"T_89abe_row0_col1\" class=\"data row0 col1\" >0.19%</td>\n",
       "                        <td id=\"T_89abe_row0_col2\" class=\"data row0 col2\" >2.88%</td>\n",
       "                        <td id=\"T_89abe_row0_col3\" class=\"data row0 col3\" >20</td>\n",
       "                        <td id=\"T_89abe_row0_col4\" class=\"data row0 col4\" >20</td>\n",
       "                        <td id=\"T_89abe_row0_col5\" class=\"data row0 col5\" >14</td>\n",
       "            </tr>\n",
       "            <tr>\n",
       "                        <th id=\"T_89abe_level0_row1\" class=\"row_heading level0 row1\" >CA</th>\n",
       "                        <td id=\"T_89abe_row1_col0\" class=\"data row1 col0\" >0.59%</td>\n",
       "                        <td id=\"T_89abe_row1_col1\" class=\"data row1 col1\" >0.85%</td>\n",
       "                        <td id=\"T_89abe_row1_col2\" class=\"data row1 col2\" >4.37%</td>\n",
       "                        <td id=\"T_89abe_row1_col3\" class=\"data row1 col3\" >19</td>\n",
       "                        <td id=\"T_89abe_row1_col4\" class=\"data row1 col4\" >16</td>\n",
       "                        <td id=\"T_89abe_row1_col5\" class=\"data row1 col5\" >11</td>\n",
       "            </tr>\n",
       "            <tr>\n",
       "                        <th id=\"T_89abe_level0_row2\" class=\"row_heading level0 row2\" >CH</th>\n",
       "                        <td id=\"T_89abe_row2_col0\" class=\"data row2 col0\" >1.65%</td>\n",
       "                        <td id=\"T_89abe_row2_col1\" class=\"data row2 col1\" >1.26%</td>\n",
       "                        <td id=\"T_89abe_row2_col2\" class=\"data row2 col2\" >9.38%</td>\n",
       "                        <td id=\"T_89abe_row2_col3\" class=\"data row2 col3\" >14</td>\n",
       "                        <td id=\"T_89abe_row2_col4\" class=\"data row2 col4\" >13</td>\n",
       "                        <td id=\"T_89abe_row2_col5\" class=\"data row2 col5\" >5</td>\n",
       "            </tr>\n",
       "            <tr>\n",
       "                        <th id=\"T_89abe_level0_row3\" class=\"row_heading level0 row3\" >DE</th>\n",
       "                        <td id=\"T_89abe_row3_col0\" class=\"data row3 col0\" >2.37%</td>\n",
       "                        <td id=\"T_89abe_row3_col1\" class=\"data row3 col1\" >1.99%</td>\n",
       "                        <td id=\"T_89abe_row3_col2\" class=\"data row3 col2\" >3.64%</td>\n",
       "                        <td id=\"T_89abe_row3_col3\" class=\"data row3 col3\" >9</td>\n",
       "                        <td id=\"T_89abe_row3_col4\" class=\"data row3 col4\" >9</td>\n",
       "                        <td id=\"T_89abe_row3_col5\" class=\"data row3 col5\" >13</td>\n",
       "            </tr>\n",
       "            <tr>\n",
       "                        <th id=\"T_89abe_level0_row4\" class=\"row_heading level0 row4\" >GB</th>\n",
       "                        <td id=\"T_89abe_row4_col0\" class=\"data row4 col0\" >0.92%</td>\n",
       "                        <td id=\"T_89abe_row4_col1\" class=\"data row4 col1\" >0.78%</td>\n",
       "                        <td id=\"T_89abe_row4_col2\" class=\"data row4 col2\" >0.00%</td>\n",
       "                        <td id=\"T_89abe_row4_col3\" class=\"data row4 col3\" >16</td>\n",
       "                        <td id=\"T_89abe_row4_col4\" class=\"data row4 col4\" >17</td>\n",
       "                        <td id=\"T_89abe_row4_col5\" class=\"data row4 col5\" >20</td>\n",
       "            </tr>\n",
       "            <tr>\n",
       "                        <th id=\"T_89abe_level0_row5\" class=\"row_heading level0 row5\" >IT</th>\n",
       "                        <td id=\"T_89abe_row5_col0\" class=\"data row5 col0\" >0.62%</td>\n",
       "                        <td id=\"T_89abe_row5_col1\" class=\"data row5 col1\" >0.35%</td>\n",
       "                        <td id=\"T_89abe_row5_col2\" class=\"data row5 col2\" >7.61%</td>\n",
       "                        <td id=\"T_89abe_row5_col3\" class=\"data row5 col3\" >18</td>\n",
       "                        <td id=\"T_89abe_row5_col4\" class=\"data row5 col4\" >19</td>\n",
       "                        <td id=\"T_89abe_row5_col5\" class=\"data row5 col5\" >7</td>\n",
       "            </tr>\n",
       "            <tr>\n",
       "                        <th id=\"T_89abe_level0_row6\" class=\"row_heading level0 row6\" >NL</th>\n",
       "                        <td id=\"T_89abe_row6_col0\" class=\"data row6 col0\" >0.93%</td>\n",
       "                        <td id=\"T_89abe_row6_col1\" class=\"data row6 col1\" >0.99%</td>\n",
       "                        <td id=\"T_89abe_row6_col2\" class=\"data row6 col2\" >0.25%</td>\n",
       "                        <td id=\"T_89abe_row6_col3\" class=\"data row6 col3\" >15</td>\n",
       "                        <td id=\"T_89abe_row6_col4\" class=\"data row6 col4\" >15</td>\n",
       "                        <td id=\"T_89abe_row6_col5\" class=\"data row6 col5\" >17</td>\n",
       "            </tr>\n",
       "            <tr>\n",
       "                        <th id=\"T_89abe_level0_row7\" class=\"row_heading level0 row7\" >NO</th>\n",
       "                        <td id=\"T_89abe_row7_col0\" class=\"data row7 col0\" >0.84%</td>\n",
       "                        <td id=\"T_89abe_row7_col1\" class=\"data row7 col1\" >0.38%</td>\n",
       "                        <td id=\"T_89abe_row7_col2\" class=\"data row7 col2\" >7.51%</td>\n",
       "                        <td id=\"T_89abe_row7_col3\" class=\"data row7 col3\" >17</td>\n",
       "                        <td id=\"T_89abe_row7_col4\" class=\"data row7 col4\" >18</td>\n",
       "                        <td id=\"T_89abe_row7_col5\" class=\"data row7 col5\" >8</td>\n",
       "            </tr>\n",
       "            <tr>\n",
       "                        <th id=\"T_89abe_level0_row8\" class=\"row_heading level0 row8\" >RU</th>\n",
       "                        <td id=\"T_89abe_row8_col0\" class=\"data row8 col0\" >2.19%</td>\n",
       "                        <td id=\"T_89abe_row8_col1\" class=\"data row8 col1\" >1.09%</td>\n",
       "                        <td id=\"T_89abe_row8_col2\" class=\"data row8 col2\" >13.41%</td>\n",
       "                        <td id=\"T_89abe_row8_col3\" class=\"data row8 col3\" >10</td>\n",
       "                        <td id=\"T_89abe_row8_col4\" class=\"data row8 col4\" >14</td>\n",
       "                        <td id=\"T_89abe_row8_col5\" class=\"data row8 col5\" >3</td>\n",
       "            </tr>\n",
       "            <tr>\n",
       "                        <th id=\"T_89abe_level0_row9\" class=\"row_heading level0 row9\" >US</th>\n",
       "                        <td id=\"T_89abe_row9_col0\" class=\"data row9 col0\" >2.10%</td>\n",
       "                        <td id=\"T_89abe_row9_col1\" class=\"data row9 col1\" >2.26%</td>\n",
       "                        <td id=\"T_89abe_row9_col2\" class=\"data row9 col2\" >7.77%</td>\n",
       "                        <td id=\"T_89abe_row9_col3\" class=\"data row9 col3\" >11</td>\n",
       "                        <td id=\"T_89abe_row9_col4\" class=\"data row9 col4\" >7</td>\n",
       "                        <td id=\"T_89abe_row9_col5\" class=\"data row9 col5\" >6</td>\n",
       "            </tr>\n",
       "            <tr>\n",
       "                        <th id=\"T_89abe_level0_row10\" class=\"row_heading level0 row10\" >autumn</th>\n",
       "                        <td id=\"T_89abe_row10_col0\" class=\"data row10 col0\" >2.48%</td>\n",
       "                        <td id=\"T_89abe_row10_col1\" class=\"data row10 col1\" >1.88%</td>\n",
       "                        <td id=\"T_89abe_row10_col2\" class=\"data row10 col2\" >3.87%</td>\n",
       "                        <td id=\"T_89abe_row10_col3\" class=\"data row10 col3\" >7</td>\n",
       "                        <td id=\"T_89abe_row10_col4\" class=\"data row10 col4\" >10</td>\n",
       "                        <td id=\"T_89abe_row10_col5\" class=\"data row10 col5\" >12</td>\n",
       "            </tr>\n",
       "            <tr>\n",
       "                        <th id=\"T_89abe_level0_row11\" class=\"row_heading level0 row11\" >spring</th>\n",
       "                        <td id=\"T_89abe_row11_col0\" class=\"data row11 col0\" >1.93%</td>\n",
       "                        <td id=\"T_89abe_row11_col1\" class=\"data row11 col1\" >1.29%</td>\n",
       "                        <td id=\"T_89abe_row11_col2\" class=\"data row11 col2\" >0.14%</td>\n",
       "                        <td id=\"T_89abe_row11_col3\" class=\"data row11 col3\" >12</td>\n",
       "                        <td id=\"T_89abe_row11_col4\" class=\"data row11 col4\" >12</td>\n",
       "                        <td id=\"T_89abe_row11_col5\" class=\"data row11 col5\" >18</td>\n",
       "            </tr>\n",
       "            <tr>\n",
       "                        <th id=\"T_89abe_level0_row12\" class=\"row_heading level0 row12\" >summer</th>\n",
       "                        <td id=\"T_89abe_row12_col0\" class=\"data row12 col0\" >1.86%</td>\n",
       "                        <td id=\"T_89abe_row12_col1\" class=\"data row12 col1\" >1.66%</td>\n",
       "                        <td id=\"T_89abe_row12_col2\" class=\"data row12 col2\" >1.59%</td>\n",
       "                        <td id=\"T_89abe_row12_col3\" class=\"data row12 col3\" >13</td>\n",
       "                        <td id=\"T_89abe_row12_col4\" class=\"data row12 col4\" >11</td>\n",
       "                        <td id=\"T_89abe_row12_col5\" class=\"data row12 col5\" >16</td>\n",
       "            </tr>\n",
       "            <tr>\n",
       "                        <th id=\"T_89abe_level0_row13\" class=\"row_heading level0 row13\" >winter</th>\n",
       "                        <td id=\"T_89abe_row13_col0\" class=\"data row13 col0\" >2.46%</td>\n",
       "                        <td id=\"T_89abe_row13_col1\" class=\"data row13 col1\" >2.23%</td>\n",
       "                        <td id=\"T_89abe_row13_col2\" class=\"data row13 col2\" >5.15%</td>\n",
       "                        <td id=\"T_89abe_row13_col3\" class=\"data row13 col3\" >8</td>\n",
       "                        <td id=\"T_89abe_row13_col4\" class=\"data row13 col4\" >8</td>\n",
       "                        <td id=\"T_89abe_row13_col5\" class=\"data row13 col5\" >10</td>\n",
       "            </tr>\n",
       "            <tr>\n",
       "                        <th id=\"T_89abe_level0_row14\" class=\"row_heading level0 row14\" >Male</th>\n",
       "                        <td id=\"T_89abe_row14_col0\" class=\"data row14 col0\" >3.81%</td>\n",
       "                        <td id=\"T_89abe_row14_col1\" class=\"data row14 col1\" >4.38%</td>\n",
       "                        <td id=\"T_89abe_row14_col2\" class=\"data row14 col2\" >6.43%</td>\n",
       "                        <td id=\"T_89abe_row14_col3\" class=\"data row14 col3\" >6</td>\n",
       "                        <td id=\"T_89abe_row14_col4\" class=\"data row14 col4\" >6</td>\n",
       "                        <td id=\"T_89abe_row14_col5\" class=\"data row14 col5\" >9</td>\n",
       "            </tr>\n",
       "            <tr>\n",
       "                        <th id=\"T_89abe_level0_row15\" class=\"row_heading level0 row15\" >year_of_birth</th>\n",
       "                        <td id=\"T_89abe_row15_col0\" class=\"data row15 col0\" >24.89%</td>\n",
       "                        <td id=\"T_89abe_row15_col1\" class=\"data row15 col1\" >29.77%</td>\n",
       "                        <td id=\"T_89abe_row15_col2\" class=\"data row15 col2\" >-11.57%</td>\n",
       "                        <td id=\"T_89abe_row15_col3\" class=\"data row15 col3\" >1</td>\n",
       "                        <td id=\"T_89abe_row15_col4\" class=\"data row15 col4\" >1</td>\n",
       "                        <td id=\"T_89abe_row15_col5\" class=\"data row15 col5\" >4</td>\n",
       "            </tr>\n",
       "            <tr>\n",
       "                        <th id=\"T_89abe_level0_row16\" class=\"row_heading level0 row16\" >question4</th>\n",
       "                        <td id=\"T_89abe_row16_col0\" class=\"data row16 col0\" >9.12%</td>\n",
       "                        <td id=\"T_89abe_row16_col1\" class=\"data row16 col1\" >11.41%</td>\n",
       "                        <td id=\"T_89abe_row16_col2\" class=\"data row16 col2\" >-18.38%</td>\n",
       "                        <td id=\"T_89abe_row16_col3\" class=\"data row16 col3\" >4</td>\n",
       "                        <td id=\"T_89abe_row16_col4\" class=\"data row16 col4\" >4</td>\n",
       "                        <td id=\"T_89abe_row16_col5\" class=\"data row16 col5\" >1</td>\n",
       "            </tr>\n",
       "            <tr>\n",
       "                        <th id=\"T_89abe_level0_row17\" class=\"row_heading level0 row17\" >question5</th>\n",
       "                        <td id=\"T_89abe_row17_col0\" class=\"data row17 col0\" >6.70%</td>\n",
       "                        <td id=\"T_89abe_row17_col1\" class=\"data row17 col1\" >8.25%</td>\n",
       "                        <td id=\"T_89abe_row17_col2\" class=\"data row17 col2\" >0.07%</td>\n",
       "                        <td id=\"T_89abe_row17_col3\" class=\"data row17 col3\" >5</td>\n",
       "                        <td id=\"T_89abe_row17_col4\" class=\"data row17 col4\" >5</td>\n",
       "                        <td id=\"T_89abe_row17_col5\" class=\"data row17 col5\" >19</td>\n",
       "            </tr>\n",
       "            <tr>\n",
       "                        <th id=\"T_89abe_level0_row18\" class=\"row_heading level0 row18\" >question6</th>\n",
       "                        <td id=\"T_89abe_row18_col0\" class=\"data row18 col0\" >17.45%</td>\n",
       "                        <td id=\"T_89abe_row18_col1\" class=\"data row18 col1\" >16.46%</td>\n",
       "                        <td id=\"T_89abe_row18_col2\" class=\"data row18 col2\" >17.84%</td>\n",
       "                        <td id=\"T_89abe_row18_col3\" class=\"data row18 col3\" >2</td>\n",
       "                        <td id=\"T_89abe_row18_col4\" class=\"data row18 col4\" >3</td>\n",
       "                        <td id=\"T_89abe_row18_col5\" class=\"data row18 col5\" >2</td>\n",
       "            </tr>\n",
       "            <tr>\n",
       "                        <th id=\"T_89abe_level0_row19\" class=\"row_heading level0 row19\" >question7</th>\n",
       "                        <td id=\"T_89abe_row19_col0\" class=\"data row19 col0\" >16.73%</td>\n",
       "                        <td id=\"T_89abe_row19_col1\" class=\"data row19 col1\" >17.33%</td>\n",
       "                        <td id=\"T_89abe_row19_col2\" class=\"data row19 col2\" >-2.31%</td>\n",
       "                        <td id=\"T_89abe_row19_col3\" class=\"data row19 col3\" >3</td>\n",
       "                        <td id=\"T_89abe_row19_col4\" class=\"data row19 col4\" >2</td>\n",
       "                        <td id=\"T_89abe_row19_col5\" class=\"data row19 col5\" >15</td>\n",
       "            </tr>\n",
       "    </tbody></table>"
      ],
      "text/plain": [
       "<pandas.io.formats.style.Styler at 0x1e0da950888>"
      ]
     },
     "execution_count": 15,
     "metadata": {},
     "output_type": "execute_result"
    }
   ],
   "source": [
    "res.style.format({'gini': '{:.2%}', \n",
    "                  'permutation':'{:.2%}', \n",
    "                  'correlations':'{:.2%}',\n",
    "                  'gini_rank':'{:.0f}',\n",
    "                  'permutation_rank':'{:.0f}',\n",
    "                  'correlations_rank':'{:.0f}'})"
   ]
  },
  {
   "cell_type": "code",
   "execution_count": 16,
   "id": "worst-directory",
   "metadata": {},
   "outputs": [],
   "source": [
    "# save results\n",
    "# res.to_csv(p_loc + 'results/01_tables/feature_importance.csv')"
   ]
  },
  {
   "cell_type": "code",
   "execution_count": null,
   "id": "historic-welding",
   "metadata": {},
   "outputs": [],
   "source": []
  }
 ],
 "metadata": {
  "kernelspec": {
   "display_name": "Python 3",
   "language": "python",
   "name": "python3"
  },
  "language_info": {
   "codemirror_mode": {
    "name": "ipython",
    "version": 3
   },
   "file_extension": ".py",
   "mimetype": "text/x-python",
   "name": "python",
   "nbconvert_exporter": "python",
   "pygments_lexer": "ipython3",
   "version": "3.7.6"
  }
 },
 "nbformat": 4,
 "nbformat_minor": 5
}
