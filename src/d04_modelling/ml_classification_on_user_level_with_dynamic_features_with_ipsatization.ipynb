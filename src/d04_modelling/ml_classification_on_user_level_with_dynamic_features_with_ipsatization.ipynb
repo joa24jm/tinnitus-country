{
 "cells": [
  {
   "cell_type": "markdown",
   "id": "4680060e",
   "metadata": {},
   "source": [
    "# Momentary tinnitus with a user split approach\n",
    "How do the machine learning classification results vary, if we create a sub_df containing only a subset of users and split on a *user_level*, i.e. one user id goes into training but is excluded from testing and vice versa.\n",
    "Additionally, we **ipsatize** the features so the distribution of features between users becomes more comparable.\n"
   ]
  },
  {
   "cell_type": "code",
   "execution_count": 1,
   "id": "7fbfc59b",
   "metadata": {},
   "outputs": [],
   "source": [
    "# project location\n",
    "p_loc = 'C:/Users/joa24jm/Documents/tinnitus-country/'"
   ]
  },
  {
   "cell_type": "code",
   "execution_count": 2,
   "id": "32bcf0c6",
   "metadata": {},
   "outputs": [],
   "source": [
    "# !pip install imblearn"
   ]
  },
  {
   "cell_type": "code",
   "execution_count": 3,
   "id": "aa8d0e9a",
   "metadata": {},
   "outputs": [],
   "source": [
    "# imports\n",
    "import pandas as pd\n",
    "import seaborn as sns\n",
    "import matplotlib.pyplot as plt\n",
    "import numpy as np\n",
    "import utilities as u\n",
    "from scipy.stats import ks_2samp\n",
    "from sklearn.model_selection import train_test_split\n",
    "import random\n",
    "from sklearn.ensemble import GradientBoostingClassifier\n",
    "from sklearn.model_selection import GridSearchCV\n",
    "from sklearn.metrics import classification_report\n",
    "import joblib\n",
    "from sklearn.metrics import confusion_matrix\n",
    "import datetime\n",
    "from imblearn.over_sampling import RandomOverSampler\n",
    "from sklearn.model_selection import GroupKFold\n",
    "import seaborn as sns\n",
    "from sklearn.metrics import accuracy_score"
   ]
  },
  {
   "cell_type": "code",
   "execution_count": 4,
   "id": "da5567d2",
   "metadata": {},
   "outputs": [],
   "source": [
    "# read in dfs\n",
    "df = pd.read_csv(p_loc + 'data/03_processed/df_equal_splits_with_age_with_question2_question_3.csv')"
   ]
  },
  {
   "cell_type": "code",
   "execution_count": 5,
   "id": "2516fb88",
   "metadata": {},
   "outputs": [],
   "source": [
    "# map filled_out_bins to column 'user_id' to create a groupby object\n",
    "dic = dict(zip(df.user_id.value_counts().index, df.user_id.value_counts().values))\n",
    "df['filled_out_questionnaires'] = df['user_id'].map(dic)"
   ]
  },
  {
   "cell_type": "code",
   "execution_count": 6,
   "id": "f490e4d3",
   "metadata": {},
   "outputs": [],
   "source": [
    "# keep only users that have more than 10 filled out questionnaires\n",
    "df = df[(df.filled_out_questionnaires > 100) & (df.filled_out_questionnaires <= 1000)]"
   ]
  },
  {
   "cell_type": "markdown",
   "id": "c9a67a86",
   "metadata": {},
   "source": [
    "### Perform ipzitazation"
   ]
  },
  {
   "cell_type": "code",
   "execution_count": 7,
   "id": "713fc882",
   "metadata": {},
   "outputs": [],
   "source": [
    "features_to_ipsatize = ['question4', 'question5', 'question6', 'question7']\n",
    "#df[features_to_ipsatize] = df.groupby('user_id')[features_to_ipsatize].apply(lambda x: x - np.mean(x))"
   ]
  },
  {
   "cell_type": "code",
   "execution_count": 8,
   "id": "40cf9247",
   "metadata": {},
   "outputs": [],
   "source": [
    "#%% select features and target\n",
    "features = ['question4', 'question5', 'question6', 'question7',\n",
    "            'user_id']      # EMAs\n",
    "\n",
    "X = df[features] # all columns except for the last\n",
    "y = df['question1']  # Did you perceive the tinnitus right now? -> Classification problem"
   ]
  },
  {
   "cell_type": "markdown",
   "id": "8a3f4332",
   "metadata": {},
   "source": [
    "Ignore the warning, operation works as intended"
   ]
  },
  {
   "cell_type": "code",
   "execution_count": 9,
   "id": "63c7b812",
   "metadata": {},
   "outputs": [],
   "source": [
    "# create groups of user ids for a grouped kfold crossvalidation\n",
    "groups = np.array(df['user_id'].tolist())\n",
    "group_kfold = GroupKFold(n_splits=5)"
   ]
  },
  {
   "cell_type": "code",
   "execution_count": 10,
   "id": "c470529e",
   "metadata": {},
   "outputs": [],
   "source": [
    "# split users randomly into train and test users\n",
    "user_ids = df.user_id.unique()\n",
    "test_size = 0.2\n",
    "# random.seed(42)\n",
    "train_users = random.sample(set(user_ids), k=int(len(user_ids)*(1-test_size)))\n",
    "test_users = list(set(user_ids) - set(train_users))"
   ]
  },
  {
   "cell_type": "code",
   "execution_count": 11,
   "id": "0e0a1f83",
   "metadata": {},
   "outputs": [
    {
     "data": {
      "text/plain": [
       "True"
      ]
     },
     "execution_count": 11,
     "metadata": {},
     "output_type": "execute_result"
    }
   ],
   "source": [
    "# check if train_users and test_users are distinct\n",
    "len(user_ids) == len(set(train_users) | set(test_users))"
   ]
  },
  {
   "cell_type": "code",
   "execution_count": 13,
   "id": "bfc2930f",
   "metadata": {},
   "outputs": [
    {
     "name": "stdout",
     "output_type": "stream",
     "text": [
      "Fold  1\n",
      "Train shape before re-sampling:  (51600, 25)\n",
      "Test shape before re-sampling:  (12927, 25)\n",
      "      question4  question5  question6  question7      user_id\n",
      "mean   0.577635   0.249583   0.257120   0.567460  3546.916906\n",
      "std    0.199785   0.209340   0.221239   0.306895  2221.269203\n",
      "\n",
      "      question4  question5  question6  question7      user_id\n",
      "mean   0.538551   0.293494   0.292047   0.506564  3446.733522\n",
      "std    0.239382   0.258359   0.263356   0.319335  1970.197714\n",
      "Fitting 3 folds for each of 1 candidates, totalling 3 fits\n",
      "{'question4': 0.12802229614296093, 'question5': 0.08037759121938456, 'question6': 0.16834791410412087, 'question7': 0.17703692736397808}\n",
      "Accuracy:\t 0.5485471296952515\n",
      "Confusion Matrix\n",
      "              Tinnitus NO  Tinnitus YES\n",
      "Tinnitus NO          2153          4902\n",
      "Tinnitus YES         1468          5587\n",
      "##################################\n",
      "Fold  2\n",
      "Train shape before re-sampling:  (51601, 25)\n",
      "Test shape before re-sampling:  (12926, 25)\n",
      "      question4  question5  question6  question7      user_id\n",
      "mean   0.561609   0.251955   0.270549   0.537851  3510.646206\n",
      "std    0.207901   0.216890   0.223497   0.310718  2112.247508\n",
      "\n",
      "      question4  question5  question6  question7      user_id\n",
      "mean   0.600019   0.282097   0.239020   0.621359  3588.123650\n",
      "std    0.209003   0.231875   0.255566   0.299920  2423.776546\n",
      "Fitting 3 folds for each of 1 candidates, totalling 3 fits\n",
      "{'question4': 0.10056968246816626, 'question5': 0.07772776267813258, 'question6': 0.14916428541365345, 'question7': 0.17779693308351313}\n",
      "Accuracy:\t 0.5856273764258555\n",
      "Confusion Matrix\n",
      "              Tinnitus NO  Tinnitus YES\n",
      "Tinnitus NO          2564          4011\n",
      "Tinnitus YES         1438          5137\n",
      "##################################\n",
      "Fold  3\n",
      "Train shape before re-sampling:  (51601, 25)\n",
      "Test shape before re-sampling:  (12926, 25)\n",
      "      question4  question5  question6  question7      user_id\n",
      "mean   0.570039   0.261729   0.264666   0.559409  3592.866251\n",
      "std    0.212778   0.222257   0.238816   0.313268  2232.632475\n",
      "\n",
      "      question4  question5  question6  question7      user_id\n",
      "mean   0.566481   0.241466   0.261172   0.537504  3272.046367\n",
      "std    0.193185   0.212194   0.196898   0.299001  1888.952992\n",
      "Fitting 3 folds for each of 1 candidates, totalling 3 fits\n",
      "{'question4': 0.10969943697741057, 'question5': 0.09411112026705352, 'question6': 0.16688900886935332, 'question7': 0.16025493260333584}\n",
      "Accuracy:\t 0.5472338581539795\n",
      "Confusion Matrix\n",
      "              Tinnitus NO  Tinnitus YES\n",
      "Tinnitus NO          2107          4816\n",
      "Tinnitus YES         1453          5470\n",
      "##################################\n",
      "Fold  4\n",
      "Train shape before re-sampling:  (51602, 25)\n",
      "Test shape before re-sampling:  (12925, 25)\n",
      "      question4  question5  question6  question7      user_id\n",
      "mean   0.572222   0.256344   0.268587   0.557787  3500.167904\n",
      "std    0.215360   0.224054   0.233825   0.311270  2115.620401\n",
      "\n",
      "      question4  question5  question6  question7      user_id\n",
      "mean   0.558215   0.262020   0.243506   0.535403  3584.834396\n",
      "std    0.178175   0.203912   0.215428   0.309055  2406.236473\n",
      "Fitting 3 folds for each of 1 candidates, totalling 3 fits\n",
      "{'question4': 0.10658281324649876, 'question5': 0.08238933779893996, 'question6': 0.16824526913256801, 'question7': 0.18750110036420148}\n",
      "Accuracy:\t 0.5545454545454546\n",
      "Confusion Matrix\n",
      "              Tinnitus NO  Tinnitus YES\n",
      "Tinnitus NO          2162          5208\n",
      "Tinnitus YES         1358          6012\n",
      "##################################\n",
      "Fold  5\n",
      "Train shape before re-sampling:  (51704, 25)\n",
      "Test shape before re-sampling:  (12823, 25)\n",
      "      question4  question5  question6  question7      user_id\n",
      "mean   0.565424   0.268877   0.259744   0.550751  3473.226185\n",
      "std    0.207349   0.227605   0.235658   0.310006  2194.809637\n",
      "\n",
      "      question4  question5  question6  question7      user_id\n",
      "mean   0.587321   0.210110   0.280538   0.571809  3686.007175\n",
      "std    0.212644   0.177996   0.209854   0.315090  2086.863742\n",
      "Fitting 3 folds for each of 1 candidates, totalling 3 fits\n",
      "{'question4': 0.10640858923456624, 'question5': 0.08062206055444762, 'question6': 0.16788687890281193, 'question7': 0.18419101195220594}\n",
      "Accuracy:\t 0.5789997158283603\n",
      "Confusion Matrix\n",
      "              Tinnitus NO  Tinnitus YES\n",
      "Tinnitus NO          3164          3874\n",
      "Tinnitus YES         2052          4986\n",
      "##################################\n"
     ]
    }
   ],
   "source": [
    "cnt = 0\n",
    "for train_idxs, test_idxs in group_kfold.split(X, y, groups):\n",
    "    \n",
    "    # print to console which at fold we are\n",
    "    cnt = cnt + 1\n",
    "    print('Fold ', cnt)    \n",
    "    \n",
    "    # create train and test df\n",
    "    df_train = df.iloc[train_idxs, :]\n",
    "    df_test = df.iloc[test_idxs, :]\n",
    "    \n",
    "    print('Train shape before re-sampling: ', df_train.shape)\n",
    "    print('Test shape before re-sampling: ', df_test.shape)\n",
    "    \n",
    "\n",
    "    \n",
    "    #%% draw randomly from the stratum with question1 == 0 and add these to the df\n",
    "    # so that question1 becomes equally distributed\n",
    "\n",
    "    # train users\n",
    "    times_to_draw = abs(df_train.question1.value_counts()[1] - df_train.question1.value_counts()[0])\n",
    "    minority_class = df_train.question1.value_counts().idxmin()\n",
    "    sampled_df = df_train[df_train.question1 == minority_class].sample(n=times_to_draw, replace = True)\n",
    "    df_train = df_train.append(sampled_df, ignore_index = True)\n",
    "\n",
    "    # test users\n",
    "    times_to_draw = abs(df_test.question1.value_counts()[1] - df_test.question1.value_counts()[0])\n",
    "    minority_class = df_test.question1.value_counts().idxmin()\n",
    "    sampled_df = df_test[df_test.question1 == minority_class].sample(n=times_to_draw, replace = True)\n",
    "    df_test = df_test.append(sampled_df, ignore_index = True)\n",
    "    \n",
    "    # shuffle data before training\n",
    "    df_test = df_test.sample(frac=1).reset_index(drop=True)\n",
    "    df_train = df_train.sample(frac=1).reset_index(drop=True)\n",
    "    \n",
    "    # create x and y\n",
    "    x_train = df_train[features] # all columns except for the last\n",
    "    y_train = df_train['question1']  # Did you perceive the tinnitus right now? -> Classification problem\n",
    "\n",
    "    x_test = df_test[features]\n",
    "    y_test = df_test['question1']\n",
    "    \n",
    "    # print info\n",
    "    print(x_train.describe().loc[['mean', 'std'], :])\n",
    "    print()\n",
    "    print(x_test.describe().loc[['mean', 'std'], :])\n",
    "    \n",
    "    # safe date of approach\n",
    "    tday = datetime.datetime.now().strftime('%y_%m_%d_%H_%M')\n",
    "\n",
    "    clfs = [GradientBoostingClassifier()]\n",
    "\n",
    "    # use the optimum parameters from the grid_search as reported in the country paper\n",
    "    params_gb = {'learning_rate': [0.5], # helps for inbalanced classes as we have, maybe something like a learning rate?\n",
    "                'max_depth': [10],\n",
    "                'verbose': [0],\n",
    "                'random_state' : [42],\n",
    "                'subsample': [1],\n",
    "                'min_samples_leaf': [1],\n",
    "                'max_features': [.75]\n",
    "                } \n",
    "\n",
    "    # safe params into a list of params to loop over\n",
    "    param_grids = [params_gb]\n",
    "\n",
    "    # set up scores\n",
    "    scores = {'gb': None}\n",
    "\n",
    "    # save trained clfs\n",
    "    trained_clfs= []\n",
    "    \n",
    "    for param_grid, clf, key in zip(param_grids, clfs, scores.keys()):\n",
    "        gridsearch = GridSearchCV(estimator = clf, \n",
    "                                  param_grid = param_grid,\n",
    "                                  scoring = 'accuracy',\n",
    "                                  n_jobs = -1,\n",
    "                                  cv = 3,\n",
    "                                  refit = True,\n",
    "                                  verbose = 2)\n",
    "\n",
    "        # perform gridsearch on train data\n",
    "        gridsearch.fit(x_train, y_train)\n",
    "\n",
    "        # refit best estimator\n",
    "        gridsearch.best_estimator_.fit(x_train, y_train)\n",
    "        \n",
    "        # feature_importance\n",
    "        dic = dict(zip(features_to_ipsatize, gridsearch.best_estimator_.feature_importances_))\n",
    "        print(dic)\n",
    "        \n",
    "        # predict on test set\n",
    "        y_pred = gridsearch.best_estimator_.predict(x_test)\n",
    "        \n",
    "        # calculate accuracy\n",
    "        print('Accuracy:\\t', accuracy_score(y_test, y_pred))\n",
    "        \n",
    "        # calculate confusion matrix\n",
    "        print('Confusion Matrix')\n",
    "        labels = ['Tinnitus NO', 'Tinnitus YES']\n",
    "        print(pd.DataFrame(confusion_matrix(y_test, y_pred), index = labels, \n",
    "                     columns = labels))\n",
    "        \n",
    "        print('##################################')\n",
    "        \n",
    "        "
   ]
  },
  {
   "cell_type": "markdown",
   "id": "16f728ad",
   "metadata": {},
   "source": [
    "### Poor accuracy in the % 50s if we split on a user level, even for a grouped 5 fold validation"
   ]
  },
  {
   "cell_type": "markdown",
   "id": "0facb90f",
   "metadata": {},
   "source": [
    "Keeping the dynamic questions and predict momentary tinnitus with a user split leads to poor accuracy, no matter which users we choose."
   ]
  },
  {
   "cell_type": "markdown",
   "id": "075f1679",
   "metadata": {},
   "source": [
    "https://www.kaggle.com/reighns/groupkfold-and-stratified-groupkfold-efficientnet"
   ]
  },
  {
   "cell_type": "code",
   "execution_count": null,
   "id": "84aab8ce",
   "metadata": {},
   "outputs": [],
   "source": []
  }
 ],
 "metadata": {
  "kernelspec": {
   "display_name": "Python 3",
   "language": "python",
   "name": "python3"
  },
  "language_info": {
   "codemirror_mode": {
    "name": "ipython",
    "version": 3
   },
   "file_extension": ".py",
   "mimetype": "text/x-python",
   "name": "python",
   "nbconvert_exporter": "python",
   "pygments_lexer": "ipython3",
   "version": "3.7.6"
  }
 },
 "nbformat": 4,
 "nbformat_minor": 5
}
