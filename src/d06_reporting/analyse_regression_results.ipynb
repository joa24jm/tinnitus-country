{
 "cells": [
  {
   "cell_type": "markdown",
   "source": [
    "# Analyse results from regression report\n",
    "- Check the distribution y_pred compared to y_test\n",
    "- Check the correlations from target `loudness` (with binwidth of `0.05`) with the most important features\n",
    "- How do users report `loudness` within the year for different countries?\n",
    "\n",
    "### Distribution of y_pred and y_test"
   ],
   "metadata": {
    "collapsed": false
   }
  },
  {
   "cell_type": "code",
   "execution_count": 74,
   "outputs": [],
   "source": [
    "p_loc = 'C:/Users/joa24jm/Documents/tinnitus-country/'"
   ],
   "metadata": {
    "collapsed": false,
    "pycharm": {
     "name": "#%% set up p_loc\n"
    }
   }
  },
  {
   "cell_type": "code",
   "execution_count": 75,
   "outputs": [],
   "source": [
    "import pandas as pd\n",
    "import numpy as np\n",
    "import matplotlib.pyplot as plt\n",
    "import seaborn as sns\n",
    "import pickle"
   ],
   "metadata": {
    "collapsed": false,
    "pycharm": {
     "name": "#%% imports\n"
    }
   }
  },
  {
   "cell_type": "code",
   "execution_count": 76,
   "outputs": [],
   "source": [
    "y_test = pd.read_csv(p_loc + 'data/04_models/y_test.csv', index_col='index')\n",
    "x_test = pd.read_csv(p_loc + 'data/04_models/x_test.csv', index_col='index')"
   ],
   "metadata": {
    "collapsed": false,
    "pycharm": {
     "name": "#%% read in the regressor and its data\n"
    }
   }
  },
  {
   "cell_type": "code",
   "execution_count": 77,
   "outputs": [],
   "source": [
    "model_path = p_loc + 'results/04_models/best_estimator/gb_regressor/gb_21_07_12_16_34.sav'\n",
    "\n",
    "# Load the Model back from file\n",
    "with open(model_path, 'rb') as file:\n",
    "    gb = pickle.load(file)"
   ],
   "metadata": {
    "collapsed": false,
    "pycharm": {
     "name": "#%% load model\n"
    }
   }
  },
  {
   "cell_type": "code",
   "execution_count": 78,
   "outputs": [],
   "source": [
    "y_pred = gb.predict(x_test)"
   ],
   "metadata": {
    "collapsed": false,
    "pycharm": {
     "name": "#%% calculate y_pred\n"
    }
   }
  },
  {
   "cell_type": "code",
   "execution_count": 91,
   "outputs": [],
   "source": [
    "res = pd.read_csv(p_loc + 'results/06_reports/regression_reports/gb_21_07_12_16_34.csv')"
   ],
   "metadata": {
    "collapsed": false,
    "pycharm": {
     "name": "#%% read in the results from the regression\n"
    }
   }
  },
  {
   "cell_type": "code",
   "execution_count": 97,
   "outputs": [
    {
     "data": {
      "text/plain": "<Figure size 432x288 with 1 Axes>",
      "image/png": "[encoded data removed]"
     },
     "metadata": {},
     "output_type": "display_data"
    }
   ],
   "source": [
    "plt.close() # clear figure if replotted\n",
    "\n",
    "# create a df 'cache' than contains\n",
    "cache = pd.DataFrame(y_test)\n",
    "cache['estimated_loudness'] = y_pred\n",
    "cache.rename(columns = {'question2': 'reported_loudness'}, inplace = True)\n",
    "\n",
    "sns.set_context(\"paper\", font_scale=1.2)\n",
    "sns.set_style('whitegrid')\n",
    "ax = sns.kdeplot(data = cache)\n",
    "ax.set_xlim(xmin = 0, xmax = 1)\n",
    "ax.set_title(f\"Mean Absolut Error: \" +  '{:.1%}'.format(res.mean_absolute_error[0]))\n",
    "ax.set_xlabel('loudness with 0 = min and 1 = max ')\n",
    "plt.show()"
   ],
   "metadata": {
    "collapsed": false,
    "pycharm": {
     "name": "#%% plot the distribution of the predictions vs actual values\n"
    }
   }
  },
  {
   "cell_type": "markdown",
   "source": [
    "The gradient boosting machine underestimates the extreme values from `[0.0, 0.2)` and `[0.7, 1.0]`,\n",
    "and overestimates in the middle ranges from `[0.2, 0.7)`."
   ],
   "metadata": {
    "collapsed": false,
    "pycharm": {
     "name": "#%% md\n"
    }
   }
  },
  {
   "cell_type": "code",
   "execution_count": 101,
   "outputs": [
    {
     "data": {
      "text/plain": "{'RU': 0.001564617451743012,\n 'CA': 0.0023793270916620235,\n 'IT': 0.0023984020939284098,\n 'NO': 0.0029809487858589064,\n 'AT': 0.004005770607977503,\n 'NL': 0.006994795145202882,\n 'CH': 0.008985429871409852,\n 'US': 0.009645271600897254,\n 'spring': 0.010962208755617035,\n 'GB': 0.011135356496379294,\n 'summer': 0.013191562459933963,\n 'autumn': 0.013330201279390191,\n 'winter': 0.015881838317825237,\n 'DE': 0.019754157129697185,\n 'Male': 0.033155737636983845,\n 'question5': 0.047075259419085226,\n 'question4': 0.07361243581241782,\n 'question7': 0.14403335365881031,\n 'question6': 0.2731327285608401,\n 'age': 0.30578059782433986}"
     },
     "execution_count": 101,
     "metadata": {},
     "output_type": "execute_result"
    }
   ],
   "source": [
    "dic = (dict((zip(x_test.columns, gb.feature_importances_))))\n",
    "{k: v for k, v in sorted(dic.items(), key=lambda item: item[1])}"
   ],
   "metadata": {
    "collapsed": false,
    "pycharm": {
     "name": "#%% create a dict with the most important features of the gbm for the regression on loudness\n"
    }
   }
  },
  {
   "cell_type": "markdown",
   "source": [
    "Most relevant features are `age`, `question6` (stress), `question7` (concentration),\n",
    "`question4` (mood), `question5` (arousal).\n",
    "Least important features are the countries.\n",
    "That is, we can not generally say, that Canadian people have louder tinnitus than Non-Canadian, i.e."
   ],
   "metadata": {
    "collapsed": false,
    "pycharm": {
     "name": "#%% md\n"
    }
   }
  },
  {
   "cell_type": "markdown",
   "source": [
    "### Correlations with the target `loudness`\n",
    "- `loudness`, `age`, `stress`, `mood` have all continuous and non-parametric (= not normally distributed) distributions.\n",
    "So we can apply the $\\rho$ spearman correlation.\n",
    "\n",
    "# TODO calculate rho spearman"
   ],
   "metadata": {
    "collapsed": false,
    "pycharm": {
     "name": "#%% md\n"
    }
   }
  },
  {
   "cell_type": "code",
   "execution_count": null,
   "outputs": [],
   "source": [],
   "metadata": {
    "collapsed": false,
    "pycharm": {
     "name": "#%%\n"
    }
   }
  }
 ],
 "metadata": {
  "kernelspec": {
   "display_name": "Python 3",
   "language": "python",
   "name": "python3"
  },
  "language_info": {
   "codemirror_mode": {
    "name": "ipython",
    "version": 2
   },
   "file_extension": ".py",
   "mimetype": "text/x-python",
   "name": "python",
   "nbconvert_exporter": "python",
   "pygments_lexer": "ipython2",
   "version": "2.7.6"
  }
 },
 "nbformat": 4,
 "nbformat_minor": 0
}