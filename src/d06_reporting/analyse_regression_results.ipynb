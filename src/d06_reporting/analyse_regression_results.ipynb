{
 "cells": [
  {
   "cell_type": "markdown",
   "metadata": {},
   "source": [
    "# Analyse results from regression report\n",
    "- Check the distribution y_pred compared to y_test\n",
    "- Check the correlations from target `loudness` (with binwidth of `0.05`) with the most important features\n",
    "- How do users report `loudness` within the year for different countries?\n",
    "\n",
    "### Distribution of y_pred and y_test"
   ]
  },
  {
   "cell_type": "code",
   "execution_count": 1,
   "metadata": {
    "pycharm": {
     "name": "#%% set up p_loc\n"
    }
   },
   "outputs": [],
   "source": [
    "p_loc = 'C:/Users/joa24jm/Documents/tinnitus-country/'"
   ]
  },
  {
   "cell_type": "code",
   "execution_count": 2,
   "metadata": {
    "pycharm": {
     "name": "#%% imports\n"
    }
   },
   "outputs": [],
   "source": [
    "import pandas as pd\n",
    "import numpy as np\n",
    "import matplotlib.pyplot as plt\n",
    "import seaborn as sns\n",
    "import pickle\n",
    "from scipy.stats import spearmanr"
   ]
  },
  {
   "cell_type": "code",
   "execution_count": 3,
   "metadata": {
    "pycharm": {
     "name": "#%% read in the regressor and its data\n"
    }
   },
   "outputs": [],
   "source": [
    "y_test = pd.read_csv(p_loc + 'data/04_models/y_test.csv', index_col='index')\n",
    "x_test = pd.read_csv(p_loc + 'data/04_models/x_test.csv', index_col='index')"
   ]
  },
  {
   "cell_type": "code",
   "execution_count": 4,
   "metadata": {
    "pycharm": {
     "name": "#%% load model\n"
    }
   },
   "outputs": [],
   "source": [
    "model_path = p_loc + 'results/04_models/best_estimator/gb_regressor/gb_21_07_12_16_34.sav'\n",
    "\n",
    "# Load the Model back from file\n",
    "with open(model_path, 'rb') as file:\n",
    "    gb = pickle.load(file)"
   ]
  },
  {
   "cell_type": "code",
   "execution_count": 5,
   "metadata": {},
   "outputs": [
    {
     "data": {
      "text/plain": [
       "GradientBoostingRegressor(learning_rate=0.5, max_depth=10, max_features=0.75,\n",
       "                          random_state=42, subsample=1, verbose=1)"
      ]
     },
     "execution_count": 5,
     "metadata": {},
     "output_type": "execute_result"
    }
   ],
   "source": [
    "gb"
   ]
  },
  {
   "cell_type": "code",
   "execution_count": 6,
   "metadata": {
    "pycharm": {
     "name": "#%% calculate y_pred\n"
    }
   },
   "outputs": [],
   "source": [
    "y_pred = gb.predict(x_test)"
   ]
  },
  {
   "cell_type": "code",
   "execution_count": 15,
   "metadata": {},
   "outputs": [
    {
     "data": {
      "text/html": [
       "<div>\n",
       "<style scoped>\n",
       "    .dataframe tbody tr th:only-of-type {\n",
       "        vertical-align: middle;\n",
       "    }\n",
       "\n",
       "    .dataframe tbody tr th {\n",
       "        vertical-align: top;\n",
       "    }\n",
       "\n",
       "    .dataframe thead th {\n",
       "        text-align: right;\n",
       "    }\n",
       "</style>\n",
       "<table border=\"1\" class=\"dataframe\">\n",
       "  <thead>\n",
       "    <tr style=\"text-align: right;\">\n",
       "      <th></th>\n",
       "      <th>reported_loudness</th>\n",
       "      <th>estimated_loudness</th>\n",
       "    </tr>\n",
       "    <tr>\n",
       "      <th>index</th>\n",
       "      <th></th>\n",
       "      <th></th>\n",
       "    </tr>\n",
       "  </thead>\n",
       "  <tbody>\n",
       "    <tr>\n",
       "      <th>79885</th>\n",
       "      <td>0.180000</td>\n",
       "      <td>0.174683</td>\n",
       "    </tr>\n",
       "    <tr>\n",
       "      <th>63161</th>\n",
       "      <td>0.470000</td>\n",
       "      <td>0.573287</td>\n",
       "    </tr>\n",
       "    <tr>\n",
       "      <th>70955</th>\n",
       "      <td>0.040621</td>\n",
       "      <td>0.034889</td>\n",
       "    </tr>\n",
       "    <tr>\n",
       "      <th>48210</th>\n",
       "      <td>0.025735</td>\n",
       "      <td>0.071467</td>\n",
       "    </tr>\n",
       "    <tr>\n",
       "      <th>52353</th>\n",
       "      <td>1.000000</td>\n",
       "      <td>0.942397</td>\n",
       "    </tr>\n",
       "    <tr>\n",
       "      <th>...</th>\n",
       "      <td>...</td>\n",
       "      <td>...</td>\n",
       "    </tr>\n",
       "    <tr>\n",
       "      <th>13808</th>\n",
       "      <td>0.266544</td>\n",
       "      <td>0.057820</td>\n",
       "    </tr>\n",
       "    <tr>\n",
       "      <th>16383</th>\n",
       "      <td>0.790000</td>\n",
       "      <td>0.353910</td>\n",
       "    </tr>\n",
       "    <tr>\n",
       "      <th>79398</th>\n",
       "      <td>0.020000</td>\n",
       "      <td>0.039978</td>\n",
       "    </tr>\n",
       "    <tr>\n",
       "      <th>112860</th>\n",
       "      <td>0.840000</td>\n",
       "      <td>0.826798</td>\n",
       "    </tr>\n",
       "    <tr>\n",
       "      <th>102640</th>\n",
       "      <td>0.963235</td>\n",
       "      <td>0.999868</td>\n",
       "    </tr>\n",
       "  </tbody>\n",
       "</table>\n",
       "<p>34617 rows × 2 columns</p>\n",
       "</div>"
      ],
      "text/plain": [
       "        reported_loudness  estimated_loudness\n",
       "index                                        \n",
       "79885            0.180000            0.174683\n",
       "63161            0.470000            0.573287\n",
       "70955            0.040621            0.034889\n",
       "48210            0.025735            0.071467\n",
       "52353            1.000000            0.942397\n",
       "...                   ...                 ...\n",
       "13808            0.266544            0.057820\n",
       "16383            0.790000            0.353910\n",
       "79398            0.020000            0.039978\n",
       "112860           0.840000            0.826798\n",
       "102640           0.963235            0.999868\n",
       "\n",
       "[34617 rows x 2 columns]"
      ]
     },
     "execution_count": 15,
     "metadata": {},
     "output_type": "execute_result"
    }
   ],
   "source": [
    "y_test"
   ]
  },
  {
   "cell_type": "code",
   "execution_count": 7,
   "metadata": {},
   "outputs": [],
   "source": [
    "# little post-processing\n",
    "y_pred = np.where(y_pred > 1, 1, y_pred)\n",
    "y_pred = np.where(y_pred < 0, 0, y_pred)"
   ]
  },
  {
   "cell_type": "code",
   "execution_count": 8,
   "metadata": {
    "pycharm": {
     "name": "#%% read in the results from the regression\n"
    }
   },
   "outputs": [],
   "source": [
    "res = pd.read_csv(p_loc + 'results/06_reports/regression_reports/gb_21_07_12_16_34.csv')"
   ]
  },
  {
   "cell_type": "markdown",
   "metadata": {
    "pycharm": {
     "name": "#%% md\n"
    }
   },
   "source": [
    "The gradient boosting machine underestimates the extreme values from `[0.0, 0.2)` and `[0.7, 1.0]`,\n",
    "and overestimates in the middle ranges from `[0.2, 0.7)`."
   ]
  },
  {
   "cell_type": "code",
   "execution_count": 9,
   "metadata": {
    "pycharm": {
     "name": "#%% create a dict with the most important features of the gbm for the regression on loudness\n"
    },
    "scrolled": true
   },
   "outputs": [
    {
     "data": {
      "text/plain": [
       "{'RU': 0.001564617451743012,\n",
       " 'CA': 0.0023793270916620235,\n",
       " 'IT': 0.0023984020939284098,\n",
       " 'NO': 0.0029809487858589064,\n",
       " 'AT': 0.004005770607977503,\n",
       " 'NL': 0.006994795145202882,\n",
       " 'CH': 0.008985429871409852,\n",
       " 'US': 0.009645271600897254,\n",
       " 'spring': 0.010962208755617035,\n",
       " 'GB': 0.011135356496379294,\n",
       " 'summer': 0.013191562459933963,\n",
       " 'autumn': 0.013330201279390191,\n",
       " 'winter': 0.015881838317825237,\n",
       " 'DE': 0.019754157129697185,\n",
       " 'Male': 0.033155737636983845,\n",
       " 'question5': 0.047075259419085226,\n",
       " 'question4': 0.07361243581241782,\n",
       " 'question7': 0.14403335365881031,\n",
       " 'question6': 0.2731327285608401,\n",
       " 'age': 0.30578059782433986}"
      ]
     },
     "execution_count": 9,
     "metadata": {},
     "output_type": "execute_result"
    }
   ],
   "source": [
    "dic = (dict((zip(x_test.columns, gb.feature_importances_))))\n",
    "{k: v for k, v in sorted(dic.items(), key=lambda item: item[1])}"
   ]
  },
  {
   "cell_type": "markdown",
   "metadata": {
    "pycharm": {
     "name": "#%% md\n"
    }
   },
   "source": [
    "Most relevant features are `age`, `question6` (stress), `question7` (concentration),\n",
    "`question4` (mood), `question5` (arousal).\n",
    "Least important features are the countries.\n",
    "That is, we can not generally say, that Canadian people have louder tinnitus than Non-Canadian, i.e."
   ]
  },
  {
   "cell_type": "markdown",
   "metadata": {
    "pycharm": {
     "name": "#%% md\n"
    }
   },
   "source": [
    "### Correlations with the target `loudness`\n",
    "- `loudness`, `age`, `stress`, `mood` have all continuous and non-parametric (= not normally distributed) distributions.\n",
    "So we can apply the $\\rho$ spearman correlation."
   ]
  },
  {
   "cell_type": "code",
   "execution_count": 10,
   "metadata": {
    "pycharm": {
     "name": "#%% calculate the rho spearman correlation\n"
    }
   },
   "outputs": [],
   "source": [
    "# create a df 'cache' than contains\n",
    "cache = pd.DataFrame(y_test)\n",
    "cache['estimated_loudness'] = y_pred\n",
    "cache.rename(columns = {'question2': 'reported_loudness'}, inplace = True)\n",
    "\n",
    "rho, pval = spearmanr(x_test.question6.values.tolist(), y_test['reported_loudness'].values.tolist())"
   ]
  },
  {
   "cell_type": "code",
   "execution_count": 11,
   "metadata": {
    "pycharm": {
     "name": "#%% rename columns for a more readble heatmap\n"
    }
   },
   "outputs": [],
   "source": [
    "x_test.rename(columns = {'question4': 'mood', 'question5': 'arousal',\n",
    "                         'question6': 'stress', 'question7': 'concentration'}, inplace = True)"
   ]
  },
  {
   "cell_type": "code",
   "execution_count": 12,
   "metadata": {
    "pycharm": {
     "name": "#%% Seaborn heatmap of the must correlative variables\n"
    }
   },
   "outputs": [
    {
     "data": {
      "image/png": "[encoded data removed]",
      "text/plain": [
       "<Figure size 720x360 with 3 Axes>"
      ]
     },
     "metadata": {},
     "output_type": "display_data"
    }
   ],
   "source": [
    "plt.close() # clear figure if replotted\n",
    "\n",
    "sns.set_context(\"paper\", font_scale=1.2)\n",
    "sns.set_style('whitegrid')\n",
    "\n",
    "fig, ax = plt.subplots(ncols = 2, nrows = 1)\n",
    "fig.set_size_inches(10, 5)\n",
    "sns.kdeplot(data = cache, ax = ax[0])\n",
    "ax[0].set_xlim(xmin = 0, xmax = 1)\n",
    "ax[0].set_title(f\"Mean Absolut Error: \" +  '{:.1%}'.format(res.mean_absolute_error[0]))\n",
    "ax[0].set_xlabel('loudness with 0 = min and 1 = max ')\n",
    "\n",
    "corr = x_test[['age', 'mood', 'arousal',\n",
    "       'stress', 'concentration']].join(y_test['reported_loudness']).corr(method = 'spearman')\n",
    "sns.heatmap(corr, annot = True, cmap = 'PuOr', ax = ax[1])\n",
    "plt.tight_layout()\n",
    "plt.savefig(p_loc + 'results/07_plots/heatmap_regression_loudness.pdf')\n",
    "\n",
    "plt.show()"
   ]
  }
 ],
 "metadata": {
  "kernelspec": {
   "display_name": "Python 3",
   "language": "python",
   "name": "python3"
  },
  "language_info": {
   "codemirror_mode": {
    "name": "ipython",
    "version": 3
   },
   "file_extension": ".py",
   "mimetype": "text/x-python",
   "name": "python",
   "nbconvert_exporter": "python",
   "pygments_lexer": "ipython3",
   "version": "3.7.6"
  }
 },
 "nbformat": 4,
 "nbformat_minor": 1
}