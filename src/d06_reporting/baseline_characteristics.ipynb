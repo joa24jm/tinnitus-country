{
 "cells": [
  {
   "cell_type": "code",
   "execution_count": 15,
   "id": "injured-spencer",
   "metadata": {},
   "outputs": [],
   "source": [
    "# imports\n",
    "import pandas as pd\n",
    "import numpy as np\n",
    "import seaborn as sns\n",
    "import matplotlib.pyplot as plt\n",
    "from scipy.stats import ks_2samp, chi2_contingency, f_oneway"
   ]
  },
  {
   "cell_type": "code",
   "execution_count": 2,
   "id": "registered-travel",
   "metadata": {},
   "outputs": [],
   "source": [
    "# project location\n",
    "p_loc = 'C:/Users/joa24jm/Documents/tinnitus-country/'\n",
    "\n",
    "# add src to path so the noteboook can import utilities.py\n",
    "import sys\n",
    "sys.path.append('C:\\\\Users\\\\joa24jm\\\\Documents\\\\tinnitus-country\\\\src\\\\')\n",
    "from d00_utils import utilities as u"
   ]
  },
  {
   "cell_type": "code",
   "execution_count": 3,
   "id": "consistent-french",
   "metadata": {},
   "outputs": [],
   "source": [
    "# read in dataframe for baseline users\n",
    "proj_loc = 'C:/Users/joa24jm/Documents/tinnitus-country'\n",
    "\n",
    "bl = pd.read_csv(proj_loc + '/data/02_intermediate/baseline.csv', index_col = 'Unnamed: 0',\n",
    "                parse_dates = ['4', '9', 'created_at'],na_values = ['??.??.????', '27.02.2522']\n",
    "                )"
   ]
  },
  {
   "cell_type": "code",
   "execution_count": 4,
   "id": "express-optimization",
   "metadata": {},
   "outputs": [],
   "source": [
    "# convert column '4' (birthdate) and '9' (first time of tinnitus) to datetime objects\n",
    "formats = '%d.%m.%Y'\n",
    "bl.loc[:, '4'] = pd.to_datetime(bl['4'], errors = 'raise', format = formats)\n",
    "bl.loc[:, '9'] = pd.to_datetime(bl['4'], errors = 'raise', format = formats)"
   ]
  },
  {
   "cell_type": "code",
   "execution_count": 5,
   "id": "thorough-farming",
   "metadata": {},
   "outputs": [],
   "source": [
    "# calculate the age by the time of filling out the questionnaire\n",
    "bl['age'] = bl.created_at.dt.year - bl['4'].dt.year"
   ]
  },
  {
   "cell_type": "code",
   "execution_count": 6,
   "id": "mental-contribution",
   "metadata": {},
   "outputs": [],
   "source": [
    "# countries to compare baseline characteristics\n",
    "countries = ['CH', 'DE', 'GB', 'NL', 'US']\n",
    "sub_df = bl[bl.country.isin(countries)]"
   ]
  },
  {
   "cell_type": "markdown",
   "id": "scenic-portland",
   "metadata": {},
   "source": [
    "## By Sex grouped by country\n",
    "### Age "
   ]
  },
  {
   "cell_type": "code",
   "execution_count": 7,
   "id": "stuffed-walker",
   "metadata": {
    "scrolled": false
   },
   "outputs": [],
   "source": [
    "ct_sub = sub_df[sub_df.age > 0].groupby(['country', '5'])['age'].describe()\n",
    "ct_all = bl[bl.age > 0].groupby('5')['age'].describe().set_index([pd.Index(['all', 'all']), ['Female', 'Male']])\n",
    "res = ct_sub.append(ct_all)\n"
   ]
  },
  {
   "cell_type": "markdown",
   "id": "hindu-saturday",
   "metadata": {},
   "source": [
    "### Handedness"
   ]
  },
  {
   "cell_type": "code",
   "execution_count": 8,
   "id": "configured-blackjack",
   "metadata": {
    "scrolled": true
   },
   "outputs": [],
   "source": [
    "ct_sub = pd.crosstab([sub_df.country, sub_df['5']], sub_df['6'], normalize = 'index')\n",
    "ct_all = pd.crosstab(bl['5'], bl['6'], normalize = 'index').set_index([pd.Index(['all', 'all']), ['Female', 'Male']])\n",
    "res = res.join(ct_sub.append(ct_all))\n"
   ]
  },
  {
   "cell_type": "markdown",
   "id": "contained-aluminum",
   "metadata": {},
   "source": [
    "### Family history"
   ]
  },
  {
   "cell_type": "code",
   "execution_count": 9,
   "id": "altered-coordination",
   "metadata": {},
   "outputs": [],
   "source": [
    "ct_sub = pd.crosstab([sub_df.country, sub_df['5']], sub_df['7'], normalize = 'index')\n",
    "ct_all = pd.crosstab(sub_df['5'], sub_df['7'], normalize = 'index').set_index([pd.Index(['all', 'all']), ['Female', 'Male']])\n",
    "res = res.join(ct_sub.append(ct_all))\n"
   ]
  },
  {
   "cell_type": "code",
   "execution_count": 10,
   "id": "wound-label",
   "metadata": {},
   "outputs": [
    {
     "data": {
      "text/plain": [
       "Index(['count', 'mean', 'std', 'min', '25%', '50%', '75%', 'max', 'Both Sides',\n",
       "       'Left', 'Right', 'No', 'Yes'],\n",
       "      dtype='object')"
      ]
     },
     "execution_count": 10,
     "metadata": {},
     "output_type": "execute_result"
    }
   ],
   "source": [
    "res.columns"
   ]
  },
  {
   "cell_type": "markdown",
   "id": "widespread-trauma",
   "metadata": {},
   "source": [
    "#### View results"
   ]
  },
  {
   "cell_type": "code",
   "execution_count": 11,
   "id": "checked-responsibility",
   "metadata": {
    "scrolled": true
   },
   "outputs": [
    {
     "data": {
      "text/plain": [
       "Index(['count', 'mean', 'std', 'min', '25%', '50%', '75%', 'max', 'Both Sides',\n",
       "       'Left', 'Right', 'No', 'Yes'],\n",
       "      dtype='object')"
      ]
     },
     "execution_count": 11,
     "metadata": {},
     "output_type": "execute_result"
    }
   ],
   "source": [
    "res.columns\n"
   ]
  },
  {
   "cell_type": "code",
   "execution_count": 12,
   "id": "unusual-badge",
   "metadata": {},
   "outputs": [],
   "source": [
    "# set dict styles for convenient output\n",
    "a = dict.fromkeys(['count', 'mean', 'std', 'min', '25%', '50%', '75%', 'max'], '{:.2f}')\n",
    "b = dict.fromkeys(['Both Sides', 'Left', 'Right', 'No', 'Yes'], '{:.2%}')\n",
    "a.update(b)"
   ]
  },
  {
   "cell_type": "markdown",
   "id": "solid-worry",
   "metadata": {
    "scrolled": true
   },
   "source": [
    "res.style.format(a)"
   ]
  },
  {
   "cell_type": "code",
   "execution_count": 14,
   "id": "ongoing-dominant",
   "metadata": {},
   "outputs": [],
   "source": [
    "# save results\n",
    "res.to_csv(proj_loc + '/results/01_tables/baseline_comparison_21-03-19.csv')"
   ]
  },
  {
   "cell_type": "markdown",
   "id": "similar-collective",
   "metadata": {},
   "source": [
    "### Compare age distributions for each countries with all countries"
   ]
  },
  {
   "cell_type": "code",
   "execution_count": 100,
   "id": "described-parts",
   "metadata": {
    "scrolled": true
   },
   "outputs": [
    {
     "data": {
      "text/html": [
       "<div>\n",
       "<style scoped>\n",
       "    .dataframe tbody tr th:only-of-type {\n",
       "        vertical-align: middle;\n",
       "    }\n",
       "\n",
       "    .dataframe tbody tr th {\n",
       "        vertical-align: top;\n",
       "    }\n",
       "\n",
       "    .dataframe thead th {\n",
       "        text-align: right;\n",
       "    }\n",
       "</style>\n",
       "<table border=\"1\" class=\"dataframe\">\n",
       "  <thead>\n",
       "    <tr style=\"text-align: right;\">\n",
       "      <th></th>\n",
       "      <th>statistic</th>\n",
       "      <th>pvalue</th>\n",
       "    </tr>\n",
       "  </thead>\n",
       "  <tbody>\n",
       "    <tr>\n",
       "      <th>CH</th>\n",
       "      <td>0.0985161070</td>\n",
       "      <td>0.1885751952</td>\n",
       "    </tr>\n",
       "    <tr>\n",
       "      <th>DE</th>\n",
       "      <td>0.0438940032</td>\n",
       "      <td>0.0378333631</td>\n",
       "    </tr>\n",
       "    <tr>\n",
       "      <th>GB</th>\n",
       "      <td>0.0938898995</td>\n",
       "      <td>0.0562220502</td>\n",
       "    </tr>\n",
       "    <tr>\n",
       "      <th>NL</th>\n",
       "      <td>0.2219723652</td>\n",
       "      <td>0.0000000656</td>\n",
       "    </tr>\n",
       "    <tr>\n",
       "      <th>US</th>\n",
       "      <td>0.1066239555</td>\n",
       "      <td>0.0000281229</td>\n",
       "    </tr>\n",
       "  </tbody>\n",
       "</table>\n",
       "</div>"
      ],
      "text/plain": [
       "       statistic        pvalue\n",
       "CH  0.0985161070  0.1885751952\n",
       "DE  0.0438940032  0.0378333631\n",
       "GB  0.0938898995  0.0562220502\n",
       "NL  0.2219723652  0.0000000656\n",
       "US  0.1066239555  0.0000281229"
      ]
     },
     "execution_count": 100,
     "metadata": {},
     "output_type": "execute_result"
    }
   ],
   "source": [
    "stats = pd.DataFrame(index = countries, columns = ['statistic', 'pvalue'])\n",
    "\n",
    "for c in countries:\n",
    "    all_ages = bl['age'].values\n",
    "    c_ages = bl[bl.country == c]['age'].values\n",
    "\n",
    "    s = ks_2samp(all_ages, c_ages)[0]\n",
    "    p = ks_2samp(all_ages, c_ages)[1]\n",
    "    \n",
    "    stats.loc[c, 'statistic'] = '{:.10f}'.format(s)\n",
    "    stats.loc[c, 'pvalue'] = '{:.10f}'.format(p)\n",
    "stats"
   ]
  },
  {
   "cell_type": "markdown",
   "id": "actual-boulder",
   "metadata": {},
   "source": [
    "### Anova Test to compare distributions of all countries "
   ]
  },
  {
   "cell_type": "code",
   "execution_count": 46,
   "id": "whole-links",
   "metadata": {},
   "outputs": [
    {
     "name": "stdout",
     "output_type": "stream",
     "text": [
      "F(4, 2267)= 5.17 , p =  0.00038\n"
     ]
    }
   ],
   "source": [
    "samples = [np.array(bl[bl.country == c]['age'].dropna().values) for c in countries]\n",
    "s = dict(zip(countries, samples))\n",
    "\n",
    "F, p = f_oneway(s['CH'], s['DE'], s['GB'], s['NL'], s['US'])\n",
    "k = len(samples)\n",
    "N = sum([len(s) for s in samples])\n",
    "\n",
    "print(f'F({k-1}, {N-k})=',round(F, 2), ', p = ' , (round(p,5)))"
   ]
  },
  {
   "cell_type": "markdown",
   "id": "optical-navigator",
   "metadata": {},
   "source": [
    "#### p-value of oneway ANOVA is significant, so perform post-hoc Tukey test to find out which group differs"
   ]
  },
  {
   "cell_type": "code",
   "execution_count": 56,
   "id": "diverse-cleaners",
   "metadata": {},
   "outputs": [],
   "source": [
    "bl_t = bl[bl.country.isin(countries)]\n",
    "bl_t = bl_t.dropna(subset=['age'])"
   ]
  },
  {
   "cell_type": "code",
   "execution_count": 58,
   "id": "comprehensive-painting",
   "metadata": {
    "scrolled": false
   },
   "outputs": [
    {
     "name": "stdout",
     "output_type": "stream",
     "text": [
      "Multiple Comparison of Means - Tukey HSD, FWER=0.05\n",
      "===================================================\n",
      "group1 group2 meandiff p-adj   lower  upper  reject\n",
      "---------------------------------------------------\n",
      "    CH     DE  -1.4711 0.8332  -5.455 2.5128  False\n",
      "    CH     GB  -4.1766 0.1207 -8.9623 0.6092  False\n",
      "    CH     NL  -2.6078  0.639 -7.8791 2.6636  False\n",
      "    CH     US   0.8908    0.9 -3.3152 5.0969  False\n",
      "    DE     GB  -2.7055 0.1202 -5.8036 0.3926  False\n",
      "    DE     NL  -1.1367    0.9 -4.9422 2.6688  False\n",
      "    DE     US   2.3619 0.0179  0.2676 4.4562   True\n",
      "    GB     NL   1.5688 0.8813 -3.0695 6.2071  False\n",
      "    GB     US   5.0674  0.001  1.6883 8.4464   True\n",
      "    NL     US   3.4986  0.125 -0.5389 7.5361  False\n",
      "---------------------------------------------------\n"
     ]
    }
   ],
   "source": [
    "from statsmodels.stats.multicomp import pairwise_tukeyhsd\n",
    "# perform multiple pairwise comparison (Tukey HSD)\n",
    "m_comp = pairwise_tukeyhsd(endog=bl_t['age'], groups=bl_t['country'], alpha=0.05)\n",
    "print(m_comp)"
   ]
  },
  {
   "cell_type": "markdown",
   "id": "political-lexington",
   "metadata": {},
   "source": [
    "Post-hoc TukeyHSD test reveals age differences between Germany - U.S., and GB - U.S."
   ]
  },
  {
   "cell_type": "markdown",
   "id": "black-honduras",
   "metadata": {},
   "source": [
    "### Compare handedness distributions for each country with all countries\n",
    "- use Chi²"
   ]
  },
  {
   "cell_type": "code",
   "execution_count": 161,
   "id": "operating-seven",
   "metadata": {},
   "outputs": [
    {
     "name": "stdout",
     "output_type": "stream",
     "text": [
      "X²(8, N=2319) = 6.64, p=0.58\n"
     ]
    }
   ],
   "source": [
    "table = np.array(pd.crosstab(bl[bl.country.isin(countries)].country, bl[bl.country.isin(countries)]['6']))\n",
    "stat, p, dof, expected = chi2_contingency(table)\n",
    "N = table.sum().sum()\n",
    "print(f'X²({dof}, N={N}) = {round(stat,2)}, p={round(p,2)}')"
   ]
  },
  {
   "cell_type": "code",
   "execution_count": 146,
   "id": "funded-turkish",
   "metadata": {},
   "outputs": [
    {
     "data": {
      "text/html": [
       "<div>\n",
       "<style scoped>\n",
       "    .dataframe tbody tr th:only-of-type {\n",
       "        vertical-align: middle;\n",
       "    }\n",
       "\n",
       "    .dataframe tbody tr th {\n",
       "        vertical-align: top;\n",
       "    }\n",
       "\n",
       "    .dataframe thead th {\n",
       "        text-align: right;\n",
       "    }\n",
       "</style>\n",
       "<table border=\"1\" class=\"dataframe\">\n",
       "  <thead>\n",
       "    <tr style=\"text-align: right;\">\n",
       "      <th></th>\n",
       "      <th>X²</th>\n",
       "    </tr>\n",
       "  </thead>\n",
       "  <tbody>\n",
       "    <tr>\n",
       "      <th>CH</th>\n",
       "      <td>X²(2, N=3464) = 1.46, p=0.48</td>\n",
       "    </tr>\n",
       "    <tr>\n",
       "      <th>DE</th>\n",
       "      <td>X²(2, N=3464) = 13.89, p=0.0</td>\n",
       "    </tr>\n",
       "    <tr>\n",
       "      <th>GB</th>\n",
       "      <td>X²(2, N=3464) = 3.11, p=0.21</td>\n",
       "    </tr>\n",
       "    <tr>\n",
       "      <th>NL</th>\n",
       "      <td>X²(2, N=3464) = 2.97, p=0.23</td>\n",
       "    </tr>\n",
       "    <tr>\n",
       "      <th>US</th>\n",
       "      <td>X²(2, N=3464) = 3.66, p=0.16</td>\n",
       "    </tr>\n",
       "  </tbody>\n",
       "</table>\n",
       "</div>"
      ],
      "text/plain": [
       "                              X²\n",
       "CH  X²(2, N=3464) = 1.46, p=0.48\n",
       "DE  X²(2, N=3464) = 13.89, p=0.0\n",
       "GB  X²(2, N=3464) = 3.11, p=0.21\n",
       "NL  X²(2, N=3464) = 2.97, p=0.23\n",
       "US  X²(2, N=3464) = 3.66, p=0.16"
      ]
     },
     "execution_count": 146,
     "metadata": {},
     "output_type": "execute_result"
    }
   ],
   "source": [
    "stats = pd.DataFrame(index = countries, columns = ['X²'])\n",
    "for c in countries:\n",
    "    table = [bl[~bl.country.isin([c])]['6'].value_counts().tolist(), bl[bl.country==c]['6'].value_counts().tolist()]\n",
    "    N = np.array(table).sum().sum()\n",
    "    stat, p, dof, expected = chi2_contingency(table)\n",
    "    stats.loc[c, 'X²'] = f'X²({dof}, N={N}) = {round(stat,2)}, p={round(p,2)}'\n",
    "stats"
   ]
  },
  {
   "cell_type": "markdown",
   "id": "atmospheric-demonstration",
   "metadata": {},
   "source": [
    "### Compare History distributions for each country with all countries\n",
    "- use Chi²"
   ]
  },
  {
   "cell_type": "code",
   "execution_count": 162,
   "id": "athletic-laundry",
   "metadata": {},
   "outputs": [
    {
     "name": "stdout",
     "output_type": "stream",
     "text": [
      "X²(4, N=2314) = 4.33, p=0.36\n"
     ]
    }
   ],
   "source": [
    "table = np.array(pd.crosstab(bl[bl.country.isin(countries)].country, bl[bl.country.isin(countries)]['7']))\n",
    "stat, p, dof, expected = chi2_contingency(table)\n",
    "N = table.sum().sum()\n",
    "print(f'X²({dof}, N={N}) = {round(stat,2)}, p={round(p,2)}')"
   ]
  },
  {
   "cell_type": "code",
   "execution_count": 147,
   "id": "dressed-functionality",
   "metadata": {
    "scrolled": true
   },
   "outputs": [
    {
     "data": {
      "text/html": [
       "<div>\n",
       "<style scoped>\n",
       "    .dataframe tbody tr th:only-of-type {\n",
       "        vertical-align: middle;\n",
       "    }\n",
       "\n",
       "    .dataframe tbody tr th {\n",
       "        vertical-align: top;\n",
       "    }\n",
       "\n",
       "    .dataframe thead th {\n",
       "        text-align: right;\n",
       "    }\n",
       "</style>\n",
       "<table border=\"1\" class=\"dataframe\">\n",
       "  <thead>\n",
       "    <tr style=\"text-align: right;\">\n",
       "      <th></th>\n",
       "      <th>X²</th>\n",
       "    </tr>\n",
       "  </thead>\n",
       "  <tbody>\n",
       "    <tr>\n",
       "      <th>CH</th>\n",
       "      <td>X²(1, N=3458) = 1.44, p=0.23</td>\n",
       "    </tr>\n",
       "    <tr>\n",
       "      <th>DE</th>\n",
       "      <td>X²(1, N=3458) = 2.01, p=0.16</td>\n",
       "    </tr>\n",
       "    <tr>\n",
       "      <th>GB</th>\n",
       "      <td>X²(1, N=3458) = 0.02, p=0.88</td>\n",
       "    </tr>\n",
       "    <tr>\n",
       "      <th>NL</th>\n",
       "      <td>X²(1, N=3458) = 0.49, p=0.48</td>\n",
       "    </tr>\n",
       "    <tr>\n",
       "      <th>US</th>\n",
       "      <td>X²(1, N=3458) = 0.72, p=0.4</td>\n",
       "    </tr>\n",
       "  </tbody>\n",
       "</table>\n",
       "</div>"
      ],
      "text/plain": [
       "                              X²\n",
       "CH  X²(1, N=3458) = 1.44, p=0.23\n",
       "DE  X²(1, N=3458) = 2.01, p=0.16\n",
       "GB  X²(1, N=3458) = 0.02, p=0.88\n",
       "NL  X²(1, N=3458) = 0.49, p=0.48\n",
       "US   X²(1, N=3458) = 0.72, p=0.4"
      ]
     },
     "execution_count": 147,
     "metadata": {},
     "output_type": "execute_result"
    }
   ],
   "source": [
    "stats = pd.DataFrame(index = countries, columns = ['X²'])\n",
    "for c in countries:\n",
    "    table = [bl[~bl.country.isin([c])]['7'].value_counts().tolist(), bl[bl.country==c]['7'].value_counts().tolist()]\n",
    "    N = np.array(table).sum().sum()\n",
    "    stat, p, dof, expected = chi2_contingency(table)\n",
    "    stats.loc[c, 'X²'] = f'X²({dof}, N={N}) = {round(stat,2)}, p={round(p,2)}'\n",
    "stats"
   ]
  },
  {
   "cell_type": "markdown",
   "id": "modular-consideration",
   "metadata": {},
   "source": [
    "The N for history is different from the for handedness as not all questions have been answered.\n"
   ]
  },
  {
   "cell_type": "markdown",
   "id": "capital-fossil",
   "metadata": {},
   "source": [
    "## Plot age distribution grouped by Sex and Handedness"
   ]
  },
  {
   "cell_type": "code",
   "execution_count": 5,
   "id": "through-cover",
   "metadata": {
    "scrolled": true
   },
   "outputs": [
    {
     "data": {
      "text/plain": [
       "<matplotlib.legend.Legend at 0x22d1eb74ec8>"
      ]
     },
     "execution_count": 5,
     "metadata": {},
     "output_type": "execute_result"
    },
    {
     "data": {
      "image/png": "[encoded data removed]",
      "text/plain": [
       "<Figure size 432x288 with 2 Axes>"
      ]
     },
     "metadata": {
      "needs_background": "light"
     },
     "output_type": "display_data"
    }
   ],
   "source": [
    "# rename column for legend\n",
    "bl.rename(columns = {'5': 'Sex', '6':'Handedness'}, inplace = True)\n",
    "\n",
    "fig, (ax1, ax2) = plt.subplots(2,1, sharex = True)\n",
    "bins = np.arange(1900, 2020, 10)\n",
    "\n",
    "# draw countplots\n",
    "sns.countplot(x=pd.cut(bl['4'].dt.year, bins = bins), \n",
    "              hue=\"Sex\", data=bl, ax = ax1)\n",
    "sns.countplot(x=pd.cut(bl['4'].dt.year, bins = bins), \n",
    "              hue=\"Handedness\", data=bl, ax = ax2)\n",
    "\n",
    "# set xlabels\n",
    "ax1.set(xticks=range(len(bins)), xticklabels=[str(i)+'s' for i in bins])\n",
    "ax1.set_xlabel('')\n",
    "ax2.set_xlabel('Decade of birth')\n",
    "\n",
    "# set legends\n",
    "ax1.legend(loc = 'upper left')\n",
    "ax2.legend(loc = 'upper left')"
   ]
  },
  {
   "cell_type": "markdown",
   "id": "rubber-prerequisite",
   "metadata": {},
   "source": [
    "### Statistics for ages per Sex"
   ]
  },
  {
   "cell_type": "code",
   "execution_count": 7,
   "id": "multiple-bernard",
   "metadata": {},
   "outputs": [
    {
     "data": {
      "text/plain": [
       "count    2267.000000\n",
       "mean     1970.614027\n",
       "std        14.930366\n",
       "min      1901.000000\n",
       "25%      1960.000000\n",
       "50%      1969.000000\n",
       "75%      1980.000000\n",
       "max      2021.000000\n",
       "Name: 4, dtype: float64"
      ]
     },
     "execution_count": 7,
     "metadata": {},
     "output_type": "execute_result"
    }
   ],
   "source": [
    "filt_male = bl.Sex == 'Male'\n",
    "bl[filt_male]['4'].dt.year.describe()"
   ]
  },
  {
   "cell_type": "code",
   "execution_count": 8,
   "id": "packed-township",
   "metadata": {},
   "outputs": [
    {
     "data": {
      "text/plain": [
       "count    1120.000000\n",
       "mean     1973.639286\n",
       "std        14.653528\n",
       "min      1934.000000\n",
       "25%      1963.000000\n",
       "50%      1972.000000\n",
       "75%      1985.000000\n",
       "max      2020.000000\n",
       "Name: 4, dtype: float64"
      ]
     },
     "execution_count": 8,
     "metadata": {},
     "output_type": "execute_result"
    }
   ],
   "source": [
    "filt_female = bl.Sex == 'Female'\n",
    "bl[filt_female]['4'].dt.year.describe()"
   ]
  },
  {
   "cell_type": "code",
   "execution_count": null,
   "id": "manual-funeral",
   "metadata": {},
   "outputs": [],
   "source": []
  }
 ],
 "metadata": {
  "kernelspec": {
   "display_name": "Python 3",
   "language": "python",
   "name": "python3"
  },
  "language_info": {
   "codemirror_mode": {
    "name": "ipython",
    "version": 3
   },
   "file_extension": ".py",
   "mimetype": "text/x-python",
   "name": "python",
   "nbconvert_exporter": "python",
   "pygments_lexer": "ipython3",
   "version": "3.7.6"
  }
 },
 "nbformat": 4,
 "nbformat_minor": 5
}
