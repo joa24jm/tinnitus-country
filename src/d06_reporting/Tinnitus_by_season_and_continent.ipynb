{
 "cells": [
  {
   "cell_type": "markdown",
   "id": "metric-instrumentation",
   "metadata": {},
   "source": [
    "# Did you perceive the Tinnitus right now?\n",
    "### Crosstab by season and country\n"
   ]
  },
  {
   "cell_type": "code",
   "execution_count": 1,
   "id": "catholic-posting",
   "metadata": {},
   "outputs": [],
   "source": [
    "# project location\n",
    "p_loc = 'C:/Users/joa24jm/Documents/tinnitus-country/'\n",
    "\n",
    "# add src to path so the noteboook can import utilities.py\n",
    "import sys\n",
    "sys.path.append('C:\\\\Users\\\\joa24jm\\\\Documents\\\\tinnitus-country\\\\src\\\\')"
   ]
  },
  {
   "cell_type": "code",
   "execution_count": 92,
   "id": "requested-carnival",
   "metadata": {},
   "outputs": [],
   "source": [
    "# imports\n",
    "import pandas as pd\n",
    "from d00_utils import utilities as u\n",
    "import matplotlib.pyplot as plt\n",
    "import seaborn as sns\n",
    "import numpy as np"
   ]
  },
  {
   "cell_type": "code",
   "execution_count": 3,
   "id": "exciting-detail",
   "metadata": {},
   "outputs": [],
   "source": [
    "# read in df\n",
    "df = pd.read_csv(p_loc + '/data/02_intermediate/merged_users.csv', index_col = 'Unnamed: 0',\n",
    "                parse_dates = ['4', '9', 'fup_answer_from', 'bl_answer_from'],na_values = ['??.??.????', '27.02.2522']\n",
    "                )"
   ]
  },
  {
   "cell_type": "code",
   "execution_count": 4,
   "id": "super-xerox",
   "metadata": {},
   "outputs": [
    {
     "data": {
      "text/plain": [
       "(111,)"
      ]
     },
     "execution_count": 4,
     "metadata": {},
     "output_type": "execute_result"
    }
   ],
   "source": [
    "# number of countries\n",
    "df.country.unique().shape"
   ]
  },
  {
   "cell_type": "code",
   "execution_count": 5,
   "id": "modern-stream",
   "metadata": {},
   "outputs": [],
   "source": [
    "# improve readability\n",
    "df.rename(columns = {'question1':'Tinnitus_right_now'}, inplace = True)\n",
    "df.Tinnitus_right_now.replace({0.0: 'No', 1.0: 'Yes'}, inplace = True)"
   ]
  },
  {
   "cell_type": "code",
   "execution_count": 6,
   "id": "fewer-financing",
   "metadata": {
    "scrolled": false
   },
   "outputs": [
    {
     "name": "stderr",
     "output_type": "stream",
     "text": [
      "C:\\Users\\joa24jm\\Documents\\tinnitus-country\\src\\d00_utils\\utilities.py:177: FutureWarning: Comparison of NaT with datetime.date is deprecated in order to match the standard library behavior.  In a future version these will be considered non-comparable.\n",
      "  if start <= d <= end)\n"
     ]
    }
   ],
   "source": [
    "df['fup_season'] = df.fup_answer_from.dt.date.apply(u.get_season)"
   ]
  },
  {
   "cell_type": "code",
   "execution_count": 53,
   "id": "legislative-scotland",
   "metadata": {},
   "outputs": [
    {
     "data": {
      "text/plain": [
       "['Australia, Commonwealth of',\n",
       " 'Austria, Republic of',\n",
       " 'Belgium, Kingdom of',\n",
       " 'Brazil, Federative Republic of',\n",
       " 'Canada',\n",
       " 'France, French Republic',\n",
       " 'Germany, Federal Republic of',\n",
       " 'Italy, Italian Republic',\n",
       " 'Netherlands, Kingdom of the',\n",
       " 'Norway, Kingdom of',\n",
       " 'Spain, Kingdom of',\n",
       " 'Sweden, Kingdom of',\n",
       " 'Switzerland, Swiss Confederation',\n",
       " 'United Kingdom of Great Britain & Northern Ireland',\n",
       " 'United States of America']"
      ]
     },
     "execution_count": 53,
     "metadata": {},
     "output_type": "execute_result"
    }
   ],
   "source": [
    "# get all countries with more than 30 users\n",
    "u_treshold = 30\n",
    "\n",
    "s = df.groupby('Country_Name').nunique()['user_id'] > u_treshold\n",
    "u_countries = s[s].index.tolist()\n",
    "\n",
    "# from these countries, get all with more than 300 answers\n",
    "s = df[df.Country_Name.isin(u_countries)].groupby('Country_Name').size() > 300\n",
    "countries = s[s].index.tolist()\n",
    "countries"
   ]
  },
  {
   "cell_type": "markdown",
   "id": "dramatic-macro",
   "metadata": {},
   "source": [
    "## Check distribution for Norway"
   ]
  },
  {
   "cell_type": "code",
   "execution_count": 36,
   "id": "demonstrated-browse",
   "metadata": {},
   "outputs": [],
   "source": [
    "# check for norway users as they have 50% tinnitus  and 50% tinnitus NO\n",
    "norway_filt = df['Country_Name'] == 'Norway, Kingdom of'"
   ]
  },
  {
   "cell_type": "code",
   "execution_count": 37,
   "id": "tracked-witness",
   "metadata": {},
   "outputs": [
    {
     "data": {
      "text/plain": [
       "(42,)"
      ]
     },
     "execution_count": 37,
     "metadata": {},
     "output_type": "execute_result"
    }
   ],
   "source": [
    "# how many users from Norway?\n",
    "df[norway_filt].user_id.unique().shape"
   ]
  },
  {
   "cell_type": "code",
   "execution_count": 7,
   "id": "activated-liver",
   "metadata": {
    "scrolled": true
   },
   "outputs": [
    {
     "name": "stdout",
     "output_type": "stream",
     "text": [
      "Season\t\t spring\n",
      "No. of users\t 6\n",
      "Season\t\t summer\n",
      "No. of users\t 11\n",
      "Season\t\t autumn\n",
      "No. of users\t 16\n",
      "Season\t\t winter\n",
      "No. of users\t 7\n"
     ]
    }
   ],
   "source": [
    "for season in ['spring', 'summer', 'autumn', 'winter']:\n",
    "    season_filt = df['fup_season'] == season\n",
    "    print('Season\\t\\t', season)\n",
    "    print('No. of users\\t', df[season_filt & norway_filt].user_id.unique().shape[0])"
   ]
  },
  {
   "cell_type": "markdown",
   "id": "widespread-thermal",
   "metadata": {},
   "source": [
    "####  Norway has about 50% Tinnitus YES and 50 % Tinnitus NO reportings. How do the reportings vary over seasons?"
   ]
  },
  {
   "cell_type": "code",
   "execution_count": 8,
   "id": "passing-daughter",
   "metadata": {
    "scrolled": true
   },
   "outputs": [
    {
     "data": {
      "text/html": [
       "<div>\n",
       "<style scoped>\n",
       "    .dataframe tbody tr th:only-of-type {\n",
       "        vertical-align: middle;\n",
       "    }\n",
       "\n",
       "    .dataframe tbody tr th {\n",
       "        vertical-align: top;\n",
       "    }\n",
       "\n",
       "    .dataframe thead th {\n",
       "        text-align: right;\n",
       "    }\n",
       "</style>\n",
       "<table border=\"1\" class=\"dataframe\">\n",
       "  <thead>\n",
       "    <tr style=\"text-align: right;\">\n",
       "      <th>Tinnitus_right_now</th>\n",
       "      <th>No</th>\n",
       "      <th>Yes</th>\n",
       "    </tr>\n",
       "    <tr>\n",
       "      <th>fup_season</th>\n",
       "      <th></th>\n",
       "      <th></th>\n",
       "    </tr>\n",
       "  </thead>\n",
       "  <tbody>\n",
       "    <tr>\n",
       "      <th>autumn</th>\n",
       "      <td>0.587361</td>\n",
       "      <td>0.412639</td>\n",
       "    </tr>\n",
       "    <tr>\n",
       "      <th>spring</th>\n",
       "      <td>0.417178</td>\n",
       "      <td>0.582822</td>\n",
       "    </tr>\n",
       "    <tr>\n",
       "      <th>summer</th>\n",
       "      <td>0.360577</td>\n",
       "      <td>0.639423</td>\n",
       "    </tr>\n",
       "    <tr>\n",
       "      <th>winter</th>\n",
       "      <td>0.702875</td>\n",
       "      <td>0.297125</td>\n",
       "    </tr>\n",
       "  </tbody>\n",
       "</table>\n",
       "</div>"
      ],
      "text/plain": [
       "Tinnitus_right_now        No       Yes\n",
       "fup_season                            \n",
       "autumn              0.587361  0.412639\n",
       "spring              0.417178  0.582822\n",
       "summer              0.360577  0.639423\n",
       "winter              0.702875  0.297125"
      ]
     },
     "execution_count": 8,
     "metadata": {},
     "output_type": "execute_result"
    }
   ],
   "source": [
    "pd.crosstab(df[df.Country_Name == 'Norway, Kingdom of'].fup_season, df.Tinnitus_right_now, normalize = 'index')\n"
   ]
  },
  {
   "cell_type": "markdown",
   "id": "satisfactory-aggregate",
   "metadata": {},
   "source": [
    "## Check distributions for other countries in Europe"
   ]
  },
  {
   "cell_type": "code",
   "execution_count": 9,
   "id": "advised-marshall",
   "metadata": {},
   "outputs": [],
   "source": [
    "# sort tinnitus answers by country and season\n",
    "ct = pd.crosstab([df[df.Country_Name.isin(countries)].Country_Name, df[df.Country_Name.isin(countries)].fup_season], df.Tinnitus_right_now,\n",
    "                normalize='index')"
   ]
  },
  {
   "cell_type": "code",
   "execution_count": 10,
   "id": "capital-scott",
   "metadata": {
    "scrolled": true
   },
   "outputs": [],
   "source": [
    "# reindex in a logical order\n",
    "ct = ct.reindex(['spring', 'summer', 'autumn', 'winter'], level = 'fup_season')"
   ]
  },
  {
   "cell_type": "code",
   "execution_count": 80,
   "id": "linear-queen",
   "metadata": {},
   "outputs": [
    {
     "data": {
      "text/html": [
       "<div>\n",
       "<style scoped>\n",
       "    .dataframe tbody tr th:only-of-type {\n",
       "        vertical-align: middle;\n",
       "    }\n",
       "\n",
       "    .dataframe tbody tr th {\n",
       "        vertical-align: top;\n",
       "    }\n",
       "\n",
       "    .dataframe thead th {\n",
       "        text-align: right;\n",
       "    }\n",
       "</style>\n",
       "<table border=\"1\" class=\"dataframe\">\n",
       "  <thead>\n",
       "    <tr style=\"text-align: right;\">\n",
       "      <th></th>\n",
       "      <th>Tinnitus_right_now</th>\n",
       "      <th>No</th>\n",
       "      <th>Yes</th>\n",
       "      <th>n_users</th>\n",
       "      <th>n_questionnaires</th>\n",
       "    </tr>\n",
       "    <tr>\n",
       "      <th>Country_Name</th>\n",
       "      <th>fup_season</th>\n",
       "      <th></th>\n",
       "      <th></th>\n",
       "      <th></th>\n",
       "      <th></th>\n",
       "    </tr>\n",
       "  </thead>\n",
       "  <tbody>\n",
       "    <tr>\n",
       "      <th rowspan=\"4\" valign=\"top\">Germany, Federal Republic of</th>\n",
       "      <th>spring</th>\n",
       "      <td>0.223920</td>\n",
       "      <td>0.776080</td>\n",
       "      <td>385</td>\n",
       "      <td>12439</td>\n",
       "    </tr>\n",
       "    <tr>\n",
       "      <th>summer</th>\n",
       "      <td>0.219304</td>\n",
       "      <td>0.780696</td>\n",
       "      <td>378</td>\n",
       "      <td>13670</td>\n",
       "    </tr>\n",
       "    <tr>\n",
       "      <th>autumn</th>\n",
       "      <td>0.169706</td>\n",
       "      <td>0.830294</td>\n",
       "      <td>460</td>\n",
       "      <td>14050</td>\n",
       "    </tr>\n",
       "    <tr>\n",
       "      <th>winter</th>\n",
       "      <td>0.235056</td>\n",
       "      <td>0.764944</td>\n",
       "      <td>387</td>\n",
       "      <td>11375</td>\n",
       "    </tr>\n",
       "    <tr>\n",
       "      <th rowspan=\"4\" valign=\"top\">Netherlands, Kingdom of the</th>\n",
       "      <th>spring</th>\n",
       "      <td>0.352028</td>\n",
       "      <td>0.647972</td>\n",
       "      <td>48</td>\n",
       "      <td>1160</td>\n",
       "    </tr>\n",
       "    <tr>\n",
       "      <th>summer</th>\n",
       "      <td>0.101167</td>\n",
       "      <td>0.898833</td>\n",
       "      <td>44</td>\n",
       "      <td>1031</td>\n",
       "    </tr>\n",
       "    <tr>\n",
       "      <th>autumn</th>\n",
       "      <td>0.370302</td>\n",
       "      <td>0.629698</td>\n",
       "      <td>78</td>\n",
       "      <td>2191</td>\n",
       "    </tr>\n",
       "    <tr>\n",
       "      <th>winter</th>\n",
       "      <td>0.374474</td>\n",
       "      <td>0.625526</td>\n",
       "      <td>60</td>\n",
       "      <td>2861</td>\n",
       "    </tr>\n",
       "    <tr>\n",
       "      <th rowspan=\"4\" valign=\"top\">Switzerland, Swiss Confederation</th>\n",
       "      <th>spring</th>\n",
       "      <td>0.312107</td>\n",
       "      <td>0.687893</td>\n",
       "      <td>40</td>\n",
       "      <td>1273</td>\n",
       "    </tr>\n",
       "    <tr>\n",
       "      <th>summer</th>\n",
       "      <td>0.250427</td>\n",
       "      <td>0.749573</td>\n",
       "      <td>32</td>\n",
       "      <td>1172</td>\n",
       "    </tr>\n",
       "    <tr>\n",
       "      <th>autumn</th>\n",
       "      <td>0.348889</td>\n",
       "      <td>0.651111</td>\n",
       "      <td>38</td>\n",
       "      <td>1352</td>\n",
       "    </tr>\n",
       "    <tr>\n",
       "      <th>winter</th>\n",
       "      <td>0.392694</td>\n",
       "      <td>0.607306</td>\n",
       "      <td>44</td>\n",
       "      <td>1319</td>\n",
       "    </tr>\n",
       "    <tr>\n",
       "      <th rowspan=\"4\" valign=\"top\">United Kingdom of Great Britain &amp; Northern Ireland</th>\n",
       "      <th>spring</th>\n",
       "      <td>0.156069</td>\n",
       "      <td>0.843931</td>\n",
       "      <td>61</td>\n",
       "      <td>1740</td>\n",
       "    </tr>\n",
       "    <tr>\n",
       "      <th>summer</th>\n",
       "      <td>0.042770</td>\n",
       "      <td>0.957230</td>\n",
       "      <td>54</td>\n",
       "      <td>491</td>\n",
       "    </tr>\n",
       "    <tr>\n",
       "      <th>autumn</th>\n",
       "      <td>0.278978</td>\n",
       "      <td>0.721022</td>\n",
       "      <td>48</td>\n",
       "      <td>509</td>\n",
       "    </tr>\n",
       "    <tr>\n",
       "      <th>winter</th>\n",
       "      <td>0.341102</td>\n",
       "      <td>0.658898</td>\n",
       "      <td>69</td>\n",
       "      <td>944</td>\n",
       "    </tr>\n",
       "    <tr>\n",
       "      <th rowspan=\"4\" valign=\"top\">United States of America</th>\n",
       "      <th>spring</th>\n",
       "      <td>0.122672</td>\n",
       "      <td>0.877328</td>\n",
       "      <td>152</td>\n",
       "      <td>1561</td>\n",
       "    </tr>\n",
       "    <tr>\n",
       "      <th>summer</th>\n",
       "      <td>0.188973</td>\n",
       "      <td>0.811027</td>\n",
       "      <td>132</td>\n",
       "      <td>2975</td>\n",
       "    </tr>\n",
       "    <tr>\n",
       "      <th>autumn</th>\n",
       "      <td>0.100504</td>\n",
       "      <td>0.899496</td>\n",
       "      <td>156</td>\n",
       "      <td>3044</td>\n",
       "    </tr>\n",
       "    <tr>\n",
       "      <th>winter</th>\n",
       "      <td>0.108846</td>\n",
       "      <td>0.891154</td>\n",
       "      <td>156</td>\n",
       "      <td>3056</td>\n",
       "    </tr>\n",
       "  </tbody>\n",
       "</table>\n",
       "</div>"
      ],
      "text/plain": [
       "Tinnitus_right_now                                                   No  \\\n",
       "Country_Name                                       fup_season             \n",
       "Germany, Federal Republic of                       spring      0.223920   \n",
       "                                                   summer      0.219304   \n",
       "                                                   autumn      0.169706   \n",
       "                                                   winter      0.235056   \n",
       "Netherlands, Kingdom of the                        spring      0.352028   \n",
       "                                                   summer      0.101167   \n",
       "                                                   autumn      0.370302   \n",
       "                                                   winter      0.374474   \n",
       "Switzerland, Swiss Confederation                   spring      0.312107   \n",
       "                                                   summer      0.250427   \n",
       "                                                   autumn      0.348889   \n",
       "                                                   winter      0.392694   \n",
       "United Kingdom of Great Britain & Northern Ireland spring      0.156069   \n",
       "                                                   summer      0.042770   \n",
       "                                                   autumn      0.278978   \n",
       "                                                   winter      0.341102   \n",
       "United States of America                           spring      0.122672   \n",
       "                                                   summer      0.188973   \n",
       "                                                   autumn      0.100504   \n",
       "                                                   winter      0.108846   \n",
       "\n",
       "Tinnitus_right_now                                                  Yes  \\\n",
       "Country_Name                                       fup_season             \n",
       "Germany, Federal Republic of                       spring      0.776080   \n",
       "                                                   summer      0.780696   \n",
       "                                                   autumn      0.830294   \n",
       "                                                   winter      0.764944   \n",
       "Netherlands, Kingdom of the                        spring      0.647972   \n",
       "                                                   summer      0.898833   \n",
       "                                                   autumn      0.629698   \n",
       "                                                   winter      0.625526   \n",
       "Switzerland, Swiss Confederation                   spring      0.687893   \n",
       "                                                   summer      0.749573   \n",
       "                                                   autumn      0.651111   \n",
       "                                                   winter      0.607306   \n",
       "United Kingdom of Great Britain & Northern Ireland spring      0.843931   \n",
       "                                                   summer      0.957230   \n",
       "                                                   autumn      0.721022   \n",
       "                                                   winter      0.658898   \n",
       "United States of America                           spring      0.877328   \n",
       "                                                   summer      0.811027   \n",
       "                                                   autumn      0.899496   \n",
       "                                                   winter      0.891154   \n",
       "\n",
       "Tinnitus_right_now                                            n_users  \\\n",
       "Country_Name                                       fup_season           \n",
       "Germany, Federal Republic of                       spring         385   \n",
       "                                                   summer         378   \n",
       "                                                   autumn         460   \n",
       "                                                   winter         387   \n",
       "Netherlands, Kingdom of the                        spring          48   \n",
       "                                                   summer          44   \n",
       "                                                   autumn          78   \n",
       "                                                   winter          60   \n",
       "Switzerland, Swiss Confederation                   spring          40   \n",
       "                                                   summer          32   \n",
       "                                                   autumn          38   \n",
       "                                                   winter          44   \n",
       "United Kingdom of Great Britain & Northern Ireland spring          61   \n",
       "                                                   summer          54   \n",
       "                                                   autumn          48   \n",
       "                                                   winter          69   \n",
       "United States of America                           spring         152   \n",
       "                                                   summer         132   \n",
       "                                                   autumn         156   \n",
       "                                                   winter         156   \n",
       "\n",
       "Tinnitus_right_now                                            n_questionnaires  \n",
       "Country_Name                                       fup_season                   \n",
       "Germany, Federal Republic of                       spring                12439  \n",
       "                                                   summer                13670  \n",
       "                                                   autumn                14050  \n",
       "                                                   winter                11375  \n",
       "Netherlands, Kingdom of the                        spring                 1160  \n",
       "                                                   summer                 1031  \n",
       "                                                   autumn                 2191  \n",
       "                                                   winter                 2861  \n",
       "Switzerland, Swiss Confederation                   spring                 1273  \n",
       "                                                   summer                 1172  \n",
       "                                                   autumn                 1352  \n",
       "                                                   winter                 1319  \n",
       "United Kingdom of Great Britain & Northern Ireland spring                 1740  \n",
       "                                                   summer                  491  \n",
       "                                                   autumn                  509  \n",
       "                                                   winter                  944  \n",
       "United States of America                           spring                 1561  \n",
       "                                                   summer                 2975  \n",
       "                                                   autumn                 3044  \n",
       "                                                   winter                 3056  "
      ]
     },
     "execution_count": 80,
     "metadata": {},
     "output_type": "execute_result"
    }
   ],
   "source": [
    "# find out the n_users and n_questionnaires for each country and season\n",
    "ct['n_users'] = None\n",
    "ct['n_questionnaires'] = None\n",
    "\n",
    "for multi_index in ct.index:\n",
    "    c = multi_index[0] # country\n",
    "    s = multi_index[1] # season\n",
    "    n_users = df[(df.Country_Name == c) & (df.fup_season == s)].nunique().user_id\n",
    "    n_questionnaires = df[(df.Country_Name == c) & (df.fup_season == s)].shape[0]\n",
    "    \n",
    "    ct.loc[multi_index, 'n_users'] = n_users\n",
    "    ct.loc[multi_index, 'n_questionnaires'] = n_questionnaires\n",
    "\n",
    "# keep only countries that are above the thresholds for all seasons\n",
    "ct = ct.loc[(ct.n_users > 30) & (ct.n_questionnaires > 300)]\n",
    "s = ct.groupby('Country_Name').size() == 4\n",
    "ct = ct.loc[s[s].index, :]\n",
    "ct.to_csv(p_loc + 'results/01_tables/tinnitus_by_season.csv')\n",
    "ct"
   ]
  },
  {
   "cell_type": "code",
   "execution_count": 98,
   "id": "athletic-trader",
   "metadata": {},
   "outputs": [
    {
     "data": {
      "text/html": [
       "<div>\n",
       "<style scoped>\n",
       "    .dataframe tbody tr th:only-of-type {\n",
       "        vertical-align: middle;\n",
       "    }\n",
       "\n",
       "    .dataframe tbody tr th {\n",
       "        vertical-align: top;\n",
       "    }\n",
       "\n",
       "    .dataframe thead th {\n",
       "        text-align: right;\n",
       "    }\n",
       "</style>\n",
       "<table border=\"1\" class=\"dataframe\">\n",
       "  <thead>\n",
       "    <tr style=\"text-align: right;\">\n",
       "      <th>Tinnitus_right_now</th>\n",
       "      <th>No</th>\n",
       "      <th>Yes</th>\n",
       "    </tr>\n",
       "    <tr>\n",
       "      <th>fup_season</th>\n",
       "      <th></th>\n",
       "      <th></th>\n",
       "    </tr>\n",
       "  </thead>\n",
       "  <tbody>\n",
       "    <tr>\n",
       "      <th>autumn</th>\n",
       "      <td>0.198492</td>\n",
       "      <td>0.801508</td>\n",
       "    </tr>\n",
       "    <tr>\n",
       "      <th>spring</th>\n",
       "      <td>0.214979</td>\n",
       "      <td>0.785021</td>\n",
       "    </tr>\n",
       "    <tr>\n",
       "      <th>summer</th>\n",
       "      <td>0.197533</td>\n",
       "      <td>0.802467</td>\n",
       "    </tr>\n",
       "    <tr>\n",
       "      <th>winter</th>\n",
       "      <td>0.245255</td>\n",
       "      <td>0.754745</td>\n",
       "    </tr>\n",
       "  </tbody>\n",
       "</table>\n",
       "</div>"
      ],
      "text/plain": [
       "Tinnitus_right_now        No       Yes\n",
       "fup_season                            \n",
       "autumn              0.198492  0.801508\n",
       "spring              0.214979  0.785021\n",
       "summer              0.197533  0.802467\n",
       "winter              0.245255  0.754745"
      ]
     },
     "execution_count": 98,
     "metadata": {},
     "output_type": "execute_result"
    }
   ],
   "source": [
    "pd.crosstab(df.fup_season, df.Tinnitus_right_now, normalize = 'index')"
   ]
  },
  {
   "cell_type": "code",
   "execution_count": 78,
   "id": "reflected-bradley",
   "metadata": {},
   "outputs": [
    {
     "data": {
      "text/html": [
       "<div>\n",
       "<style scoped>\n",
       "    .dataframe tbody tr th:only-of-type {\n",
       "        vertical-align: middle;\n",
       "    }\n",
       "\n",
       "    .dataframe tbody tr th {\n",
       "        vertical-align: top;\n",
       "    }\n",
       "\n",
       "    .dataframe thead th {\n",
       "        text-align: right;\n",
       "    }\n",
       "</style>\n",
       "<table border=\"1\" class=\"dataframe\">\n",
       "  <thead>\n",
       "    <tr style=\"text-align: right;\">\n",
       "      <th></th>\n",
       "      <th>count</th>\n",
       "      <th>mean</th>\n",
       "      <th>std</th>\n",
       "      <th>min</th>\n",
       "      <th>25%</th>\n",
       "      <th>50%</th>\n",
       "      <th>75%</th>\n",
       "      <th>max</th>\n",
       "    </tr>\n",
       "    <tr>\n",
       "      <th>fup_season</th>\n",
       "      <th></th>\n",
       "      <th></th>\n",
       "      <th></th>\n",
       "      <th></th>\n",
       "      <th></th>\n",
       "      <th></th>\n",
       "      <th></th>\n",
       "      <th></th>\n",
       "    </tr>\n",
       "  </thead>\n",
       "  <tbody>\n",
       "    <tr>\n",
       "      <th>spring</th>\n",
       "      <td>5.0</td>\n",
       "      <td>0.766641</td>\n",
       "      <td>0.098232</td>\n",
       "      <td>0.647972</td>\n",
       "      <td>0.687893</td>\n",
       "      <td>0.776080</td>\n",
       "      <td>0.843931</td>\n",
       "      <td>0.877328</td>\n",
       "    </tr>\n",
       "    <tr>\n",
       "      <th>summer</th>\n",
       "      <td>5.0</td>\n",
       "      <td>0.839472</td>\n",
       "      <td>0.086221</td>\n",
       "      <td>0.749573</td>\n",
       "      <td>0.780696</td>\n",
       "      <td>0.811027</td>\n",
       "      <td>0.898833</td>\n",
       "      <td>0.957230</td>\n",
       "    </tr>\n",
       "    <tr>\n",
       "      <th>autumn</th>\n",
       "      <td>5.0</td>\n",
       "      <td>0.746324</td>\n",
       "      <td>0.115996</td>\n",
       "      <td>0.629698</td>\n",
       "      <td>0.651111</td>\n",
       "      <td>0.721022</td>\n",
       "      <td>0.830294</td>\n",
       "      <td>0.899496</td>\n",
       "    </tr>\n",
       "    <tr>\n",
       "      <th>winter</th>\n",
       "      <td>5.0</td>\n",
       "      <td>0.709566</td>\n",
       "      <td>0.118457</td>\n",
       "      <td>0.607306</td>\n",
       "      <td>0.625526</td>\n",
       "      <td>0.658898</td>\n",
       "      <td>0.764944</td>\n",
       "      <td>0.891154</td>\n",
       "    </tr>\n",
       "  </tbody>\n",
       "</table>\n",
       "</div>"
      ],
      "text/plain": [
       "            count      mean       std       min       25%       50%       75%  \\\n",
       "fup_season                                                                      \n",
       "spring        5.0  0.766641  0.098232  0.647972  0.687893  0.776080  0.843931   \n",
       "summer        5.0  0.839472  0.086221  0.749573  0.780696  0.811027  0.898833   \n",
       "autumn        5.0  0.746324  0.115996  0.629698  0.651111  0.721022  0.830294   \n",
       "winter        5.0  0.709566  0.118457  0.607306  0.625526  0.658898  0.764944   \n",
       "\n",
       "                 max  \n",
       "fup_season            \n",
       "spring      0.877328  \n",
       "summer      0.957230  \n",
       "autumn      0.899496  \n",
       "winter      0.891154  "
      ]
     },
     "execution_count": 78,
     "metadata": {},
     "output_type": "execute_result"
    }
   ],
   "source": [
    "ct.groupby('fup_season').describe()['Yes']"
   ]
  },
  {
   "cell_type": "markdown",
   "id": "clear-keeping",
   "metadata": {},
   "source": [
    "#### Plot Tinnitus YES NO distribution by country and season"
   ]
  },
  {
   "cell_type": "code",
   "execution_count": 96,
   "id": "tutorial-marathon",
   "metadata": {
    "scrolled": true
   },
   "outputs": [
    {
     "data": {
      "image/png": "[encoded data removed]",
      "text/plain": [
       "<Figure size 432x288 with 5 Axes>"
      ]
     },
     "metadata": {
      "needs_background": "light"
     },
     "output_type": "display_data"
    }
   ],
   "source": [
    "# generate the plot\n",
    "fig, axes = plt.subplots(nrows = 1, ncols = int(ct.shape[0]/4), sharey=True)\n",
    "\n",
    "countries = list(set([i[0] for i in ct.index]))\n",
    "labels = ['spring', 'summer', 'autmn', 'winter']\n",
    "country_labels = ['CH', 'DE', 'US', 'GB', 'NL']\n",
    "\n",
    "for country2, ax, t in zip(countries, axes, country_labels):\n",
    "    \n",
    "\n",
    "    \n",
    "    ct.loc[country2][['No', 'Yes']].plot.bar(stacked = True, ax = ax, zorder=3)\n",
    "    \n",
    "    # remove legend in each axis\n",
    "    ax.get_legend().remove()\n",
    "    \n",
    "    # ax.set_xticklabels(labels = labels, rotation=90, fontsize=10)\n",
    "    \n",
    "    ax.set_xlabel('')\n",
    "    ax.set_ylabel('')\n",
    "    ax.set_yticks(np.arange(0,1.1,.1))\n",
    "    \n",
    "    # set log scale and labels\n",
    "    country_code = df[df.Country_Name.isin([country2])].country.unique().tolist()[0]\n",
    "    n = '\\n n=' + str(ct.loc[country2].n_questionnaires.sum())\n",
    "    title = country_code + n\n",
    "    \n",
    "    ax.set_title(title, fontsize=8)\n",
    "    \n",
    "    # grid for better readability\n",
    "    ax.grid(axis='y', zorder=0)\n",
    "    \n",
    "    \n",
    "    # show values on bars\n",
    "    # u.show_values_on_bars(ax, h_v = 'v', space = 1, normalize = True)\n",
    "    \n",
    "   \n",
    "plt.legend(bbox_to_anchor=(1.05, 1), loc='upper left')\n",
    "\n",
    "plt.tight_layout()\n",
    "\n",
    "plt.savefig(p_loc + 'results/07_plots/tinnitus_by_season.svg')\n",
    "\n",
    "\n",
    "\n"
   ]
  },
  {
   "cell_type": "markdown",
   "id": "furnished-syracuse",
   "metadata": {},
   "source": [
    "### Statistics"
   ]
  },
  {
   "cell_type": "code",
   "execution_count": 73,
   "id": "professional-commission",
   "metadata": {},
   "outputs": [
    {
     "data": {
      "text/html": [
       "<div>\n",
       "<style scoped>\n",
       "    .dataframe tbody tr th:only-of-type {\n",
       "        vertical-align: middle;\n",
       "    }\n",
       "\n",
       "    .dataframe tbody tr th {\n",
       "        vertical-align: top;\n",
       "    }\n",
       "\n",
       "    .dataframe thead th {\n",
       "        text-align: right;\n",
       "    }\n",
       "</style>\n",
       "<table border=\"1\" class=\"dataframe\">\n",
       "  <thead>\n",
       "    <tr style=\"text-align: right;\">\n",
       "      <th>Tinnitus_right_now</th>\n",
       "      <th>No</th>\n",
       "      <th>Yes</th>\n",
       "    </tr>\n",
       "  </thead>\n",
       "  <tbody>\n",
       "    <tr>\n",
       "      <th>count</th>\n",
       "      <td>20.000000</td>\n",
       "      <td>20.000000</td>\n",
       "    </tr>\n",
       "    <tr>\n",
       "      <th>mean</th>\n",
       "      <td>0.234499</td>\n",
       "      <td>0.765501</td>\n",
       "    </tr>\n",
       "    <tr>\n",
       "      <th>std</th>\n",
       "      <td>0.108368</td>\n",
       "      <td>0.108368</td>\n",
       "    </tr>\n",
       "    <tr>\n",
       "      <th>min</th>\n",
       "      <td>0.042770</td>\n",
       "      <td>0.607306</td>\n",
       "    </tr>\n",
       "    <tr>\n",
       "      <th>25%</th>\n",
       "      <td>0.147720</td>\n",
       "      <td>0.656952</td>\n",
       "    </tr>\n",
       "    <tr>\n",
       "      <th>50%</th>\n",
       "      <td>0.229488</td>\n",
       "      <td>0.770512</td>\n",
       "    </tr>\n",
       "    <tr>\n",
       "      <th>75%</th>\n",
       "      <td>0.343048</td>\n",
       "      <td>0.852280</td>\n",
       "    </tr>\n",
       "    <tr>\n",
       "      <th>max</th>\n",
       "      <td>0.392694</td>\n",
       "      <td>0.957230</td>\n",
       "    </tr>\n",
       "  </tbody>\n",
       "</table>\n",
       "</div>"
      ],
      "text/plain": [
       "Tinnitus_right_now         No        Yes\n",
       "count               20.000000  20.000000\n",
       "mean                 0.234499   0.765501\n",
       "std                  0.108368   0.108368\n",
       "min                  0.042770   0.607306\n",
       "25%                  0.147720   0.656952\n",
       "50%                  0.229488   0.770512\n",
       "75%                  0.343048   0.852280\n",
       "max                  0.392694   0.957230"
      ]
     },
     "execution_count": 73,
     "metadata": {},
     "output_type": "execute_result"
    }
   ],
   "source": [
    "ct.describe()"
   ]
  },
  {
   "cell_type": "markdown",
   "id": "coated-vietnam",
   "metadata": {},
   "source": [
    "## Plot distribution by continent"
   ]
  },
  {
   "cell_type": "code",
   "execution_count": 27,
   "id": "proprietary-saint",
   "metadata": {},
   "outputs": [],
   "source": [
    "ct = pd.crosstab([df.Continent_Name, df.fup_season], df.Tinnitus_right_now, normalize = 'index')\n",
    "# reindex in a logical order\n",
    "ct = ct.reindex(['spring', 'summer', 'autumn', 'winter'], level = 'fup_season')"
   ]
  },
  {
   "cell_type": "code",
   "execution_count": 28,
   "id": "green-detective",
   "metadata": {},
   "outputs": [],
   "source": [
    "# Number of answers per continent and season\n",
    "ns = pd.crosstab(df.Continent_Name, df.Tinnitus_right_now, normalize = False).sum(axis = 1)"
   ]
  },
  {
   "cell_type": "code",
   "execution_count": 29,
   "id": "powered-weather",
   "metadata": {},
   "outputs": [],
   "source": [
    "continents = ['Africa', 'Asia', 'Europe', 'Oceania', 'North America', 'South America']"
   ]
  },
  {
   "cell_type": "code",
   "execution_count": 30,
   "id": "nervous-egyptian",
   "metadata": {},
   "outputs": [
    {
     "data": {
      "text/plain": [
       "Text(0.5, 1.05, 'Did you perceive the tinnitus right now?')"
      ]
     },
     "execution_count": 30,
     "metadata": {},
     "output_type": "execute_result"
    },
    {
     "data": {
      "image/png": "[encoded data removed]",
      "text/plain": [
       "<Figure size 432x288 with 6 Axes>"
      ]
     },
     "metadata": {
      "needs_background": "light"
     },
     "output_type": "display_data"
    }
   ],
   "source": [
    "# generate the plot\n",
    "fig, axes = plt.subplots(nrows = 1, ncols = len(continents), sharey=True)\n",
    "\n",
    "labels = ['spring', 'summer', 'autmn', 'winter']\n",
    "\n",
    "for continent, ax, t in zip(continents, axes, continents):\n",
    "        \n",
    "    ct.loc[continent][['No', 'Yes']].plot.bar(stacked = True, ax = ax)\n",
    "    \n",
    "    # remove legend in each axis\n",
    "    ax.get_legend().remove()\n",
    "    \n",
    "    # ax.set_xticklabels(labels = labels, rotation=90, fontsize=10)\n",
    "    \n",
    "    ax.set_xlabel('')\n",
    "    ax.set_ylabel('')\n",
    "    \n",
    "    names = '\\n'.join(t.split(' '))\n",
    "    n = '\\n n=' + str(ns[continent])\n",
    "    title = names + n\n",
    "    \n",
    "    # set log scale and labels\n",
    "    ax.set_title(title, fontsize=8)\n",
    "    \n",
    "    # show values on bars\n",
    "    # u.show_values_on_bars(ax, h_v = 'v', space = 1, normalize = True)\n",
    "    \n",
    "plt.legend(bbox_to_anchor=(1.05, 1), loc='upper left')\n",
    "plt.suptitle('Did you perceive the tinnitus right now?', y = 1.05)"
   ]
  },
  {
   "cell_type": "code",
   "execution_count": 38,
   "id": "toxic-thesaurus",
   "metadata": {},
   "outputs": [
    {
     "data": {
      "text/html": [
       "<div>\n",
       "<style scoped>\n",
       "    .dataframe tbody tr th:only-of-type {\n",
       "        vertical-align: middle;\n",
       "    }\n",
       "\n",
       "    .dataframe tbody tr th {\n",
       "        vertical-align: top;\n",
       "    }\n",
       "\n",
       "    .dataframe thead th {\n",
       "        text-align: right;\n",
       "    }\n",
       "</style>\n",
       "<table border=\"1\" class=\"dataframe\">\n",
       "  <thead>\n",
       "    <tr style=\"text-align: right;\">\n",
       "      <th>Tinnitus_right_now</th>\n",
       "      <th>No</th>\n",
       "      <th>Yes</th>\n",
       "    </tr>\n",
       "    <tr>\n",
       "      <th>fup_season</th>\n",
       "      <th></th>\n",
       "      <th></th>\n",
       "    </tr>\n",
       "  </thead>\n",
       "  <tbody>\n",
       "    <tr>\n",
       "      <th>autumn</th>\n",
       "      <td>5081</td>\n",
       "      <td>20517</td>\n",
       "    </tr>\n",
       "    <tr>\n",
       "      <th>spring</th>\n",
       "      <td>4805</td>\n",
       "      <td>17546</td>\n",
       "    </tr>\n",
       "    <tr>\n",
       "      <th>summer</th>\n",
       "      <td>4532</td>\n",
       "      <td>18411</td>\n",
       "    </tr>\n",
       "    <tr>\n",
       "      <th>winter</th>\n",
       "      <td>6022</td>\n",
       "      <td>18532</td>\n",
       "    </tr>\n",
       "  </tbody>\n",
       "</table>\n",
       "</div>"
      ],
      "text/plain": [
       "Tinnitus_right_now    No    Yes\n",
       "fup_season                     \n",
       "autumn              5081  20517\n",
       "spring              4805  17546\n",
       "summer              4532  18411\n",
       "winter              6022  18532"
      ]
     },
     "execution_count": 38,
     "metadata": {},
     "output_type": "execute_result"
    }
   ],
   "source": [
    "pd.crosstab(df.fup_season, df.Tinnitus_right_now)"
   ]
  },
  {
   "cell_type": "code",
   "execution_count": null,
   "id": "abstract-uganda",
   "metadata": {},
   "outputs": [],
   "source": []
  }
 ],
 "metadata": {
  "kernelspec": {
   "display_name": "Python 3",
   "language": "python",
   "name": "python3"
  },
  "language_info": {
   "codemirror_mode": {
    "name": "ipython",
    "version": 3
   },
   "file_extension": ".py",
   "mimetype": "text/x-python",
   "name": "python",
   "nbconvert_exporter": "python",
   "pygments_lexer": "ipython3",
   "version": "3.7.6"
  }
 },
 "nbformat": 4,
 "nbformat_minor": 5
}
