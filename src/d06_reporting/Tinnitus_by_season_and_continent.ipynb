{
 "cells": [
  {
   "cell_type": "markdown",
   "id": "metric-instrumentation",
   "metadata": {},
   "source": [
    "# Did you perceive the Tinnitus right now?\n",
    "### Crosstab by season and country\n"
   ]
  },
  {
   "cell_type": "code",
   "execution_count": 1,
   "id": "catholic-posting",
   "metadata": {},
   "outputs": [],
   "source": [
    "# project location\n",
    "p_loc = 'C:/Users/joa24jm/Documents/tinnitus-country/'\n",
    "\n",
    "# add src to path so the noteboook can import utilities.py\n",
    "import sys\n",
    "sys.path.append('C:\\\\Users\\\\joa24jm\\\\Documents\\\\tinnitus-country\\\\src\\\\')"
   ]
  },
  {
   "cell_type": "code",
   "execution_count": 2,
   "id": "requested-carnival",
   "metadata": {},
   "outputs": [],
   "source": [
    "# imports\n",
    "import pandas as pd\n",
    "from d00_utils import utilities as u\n",
    "import matplotlib.pyplot as plt\n",
    "import seaborn as sns"
   ]
  },
  {
   "cell_type": "code",
   "execution_count": 3,
   "id": "exciting-detail",
   "metadata": {},
   "outputs": [],
   "source": [
    "# read in df\n",
    "df = pd.read_csv(p_loc + '/data/02_intermediate/merged_users.csv', index_col = 'Unnamed: 0',\n",
    "                parse_dates = ['4', '9', 'fup_answer_from', 'bl_answer_from'],na_values = ['??.??.????', '27.02.2522']\n",
    "                )"
   ]
  },
  {
   "cell_type": "code",
   "execution_count": 5,
   "id": "super-xerox",
   "metadata": {},
   "outputs": [
    {
     "data": {
      "text/plain": [
       "(111,)"
      ]
     },
     "execution_count": 5,
     "metadata": {},
     "output_type": "execute_result"
    }
   ],
   "source": [
    "# number of countries\n",
    "df.country.unique().shape"
   ]
  },
  {
   "cell_type": "code",
   "execution_count": 4,
   "id": "modern-stream",
   "metadata": {},
   "outputs": [],
   "source": [
    "# improve readability\n",
    "df.rename(columns = {'question1':'Tinnitus_right_now'}, inplace = True)\n",
    "df.Tinnitus_right_now.replace({0.0: 'No', 1.0: 'Yes'}, inplace = True)"
   ]
  },
  {
   "cell_type": "code",
   "execution_count": 5,
   "id": "fewer-financing",
   "metadata": {
    "scrolled": true
   },
   "outputs": [
    {
     "name": "stderr",
     "output_type": "stream",
     "text": [
      "C:\\Users\\joa24jm\\Documents\\tinnitus-country\\src\\d00_utils\\utilities.py:172: FutureWarning: Comparison of NaT with datetime.date is deprecated in order to match the standard library behavior.  In a future version these will be considered non-comparable.\n",
      "  if start <= d <= end)\n"
     ]
    }
   ],
   "source": [
    "df['fup_season'] = df.fup_answer_from.dt.date.apply(u.get_season)"
   ]
  },
  {
   "cell_type": "markdown",
   "id": "dramatic-macro",
   "metadata": {},
   "source": [
    "## Check distribution for Norway"
   ]
  },
  {
   "cell_type": "code",
   "execution_count": 36,
   "id": "demonstrated-browse",
   "metadata": {},
   "outputs": [],
   "source": [
    "# check for norway users as they have 50% tinnitus  and 50% tinnitus NO\n",
    "norway_filt = df['Country_Name'] == 'Norway, Kingdom of'"
   ]
  },
  {
   "cell_type": "code",
   "execution_count": 37,
   "id": "tracked-witness",
   "metadata": {},
   "outputs": [
    {
     "data": {
      "text/plain": [
       "(42,)"
      ]
     },
     "execution_count": 37,
     "metadata": {},
     "output_type": "execute_result"
    }
   ],
   "source": [
    "# how many users from Norway?\n",
    "df[norway_filt].user_id.unique().shape"
   ]
  },
  {
   "cell_type": "code",
   "execution_count": 7,
   "id": "activated-liver",
   "metadata": {
    "scrolled": true
   },
   "outputs": [
    {
     "name": "stdout",
     "output_type": "stream",
     "text": [
      "Season\t\t spring\n",
      "No. of users\t 6\n",
      "Season\t\t summer\n",
      "No. of users\t 11\n",
      "Season\t\t autumn\n",
      "No. of users\t 16\n",
      "Season\t\t winter\n",
      "No. of users\t 7\n"
     ]
    }
   ],
   "source": [
    "for season in ['spring', 'summer', 'autumn', 'winter']:\n",
    "    season_filt = df['fup_season'] == season\n",
    "    print('Season\\t\\t', season)\n",
    "    print('No. of users\\t', df[season_filt & norway_filt].user_id.unique().shape[0])"
   ]
  },
  {
   "cell_type": "markdown",
   "id": "widespread-thermal",
   "metadata": {},
   "source": [
    "####  Norway has about 50% Tinnitus YES and 50 % Tinnitus NO reportings. How do the reportings vary over seasons?"
   ]
  },
  {
   "cell_type": "code",
   "execution_count": 8,
   "id": "passing-daughter",
   "metadata": {
    "scrolled": true
   },
   "outputs": [
    {
     "data": {
      "text/html": [
       "<div>\n",
       "<style scoped>\n",
       "    .dataframe tbody tr th:only-of-type {\n",
       "        vertical-align: middle;\n",
       "    }\n",
       "\n",
       "    .dataframe tbody tr th {\n",
       "        vertical-align: top;\n",
       "    }\n",
       "\n",
       "    .dataframe thead th {\n",
       "        text-align: right;\n",
       "    }\n",
       "</style>\n",
       "<table border=\"1\" class=\"dataframe\">\n",
       "  <thead>\n",
       "    <tr style=\"text-align: right;\">\n",
       "      <th>Tinnitus_right_now</th>\n",
       "      <th>No</th>\n",
       "      <th>Yes</th>\n",
       "    </tr>\n",
       "    <tr>\n",
       "      <th>fup_season</th>\n",
       "      <th></th>\n",
       "      <th></th>\n",
       "    </tr>\n",
       "  </thead>\n",
       "  <tbody>\n",
       "    <tr>\n",
       "      <th>autumn</th>\n",
       "      <td>0.587361</td>\n",
       "      <td>0.412639</td>\n",
       "    </tr>\n",
       "    <tr>\n",
       "      <th>spring</th>\n",
       "      <td>0.417178</td>\n",
       "      <td>0.582822</td>\n",
       "    </tr>\n",
       "    <tr>\n",
       "      <th>summer</th>\n",
       "      <td>0.360577</td>\n",
       "      <td>0.639423</td>\n",
       "    </tr>\n",
       "    <tr>\n",
       "      <th>winter</th>\n",
       "      <td>0.702875</td>\n",
       "      <td>0.297125</td>\n",
       "    </tr>\n",
       "  </tbody>\n",
       "</table>\n",
       "</div>"
      ],
      "text/plain": [
       "Tinnitus_right_now        No       Yes\n",
       "fup_season                            \n",
       "autumn              0.587361  0.412639\n",
       "spring              0.417178  0.582822\n",
       "summer              0.360577  0.639423\n",
       "winter              0.702875  0.297125"
      ]
     },
     "execution_count": 8,
     "metadata": {},
     "output_type": "execute_result"
    }
   ],
   "source": [
    "pd.crosstab(df[df.Country_Name == 'Norway, Kingdom of'].fup_season, df.Tinnitus_right_now, normalize = 'index')\n"
   ]
  },
  {
   "cell_type": "markdown",
   "id": "satisfactory-aggregate",
   "metadata": {},
   "source": [
    "## Check distributions for other countries in Europe"
   ]
  },
  {
   "cell_type": "code",
   "execution_count": 16,
   "id": "organic-flour",
   "metadata": {},
   "outputs": [],
   "source": [
    "# get top 5 countries with most answers for Tinnitus = YES \n",
    "countries = ['Germany, Federal Republic of',\n",
    "             'Netherlands, Kingdom of the',\n",
    "             'Switzerland, Swiss Confederation',\n",
    "             'United Kingdom of Great Britain & Northern Ireland',\n",
    "             'Norway, Kingdom of']"
   ]
  },
  {
   "cell_type": "code",
   "execution_count": 17,
   "id": "advised-marshall",
   "metadata": {},
   "outputs": [],
   "source": [
    "# sort tinnitus answers by country and season\n",
    "ct = pd.crosstab([df[df.Country_Name.isin(countries)].Country_Name, df[df.Country_Name.isin(countries)].fup_season], df.Tinnitus_right_now,\n",
    "                normalize='index')"
   ]
  },
  {
   "cell_type": "code",
   "execution_count": 18,
   "id": "capital-scott",
   "metadata": {
    "scrolled": true
   },
   "outputs": [],
   "source": [
    "# reindex in a logical order\n",
    "ct = ct.reindex(['spring', 'summer', 'autumn', 'winter'], level = 'fup_season')"
   ]
  },
  {
   "cell_type": "code",
   "execution_count": 19,
   "id": "loving-receiver",
   "metadata": {},
   "outputs": [
    {
     "data": {
      "text/html": [
       "<div>\n",
       "<style scoped>\n",
       "    .dataframe tbody tr th:only-of-type {\n",
       "        vertical-align: middle;\n",
       "    }\n",
       "\n",
       "    .dataframe tbody tr th {\n",
       "        vertical-align: top;\n",
       "    }\n",
       "\n",
       "    .dataframe thead th {\n",
       "        text-align: right;\n",
       "    }\n",
       "</style>\n",
       "<table border=\"1\" class=\"dataframe\">\n",
       "  <thead>\n",
       "    <tr style=\"text-align: right;\">\n",
       "      <th></th>\n",
       "      <th>Tinnitus_right_now</th>\n",
       "      <th>No</th>\n",
       "      <th>Yes</th>\n",
       "    </tr>\n",
       "    <tr>\n",
       "      <th>Country_Name</th>\n",
       "      <th>fup_season</th>\n",
       "      <th></th>\n",
       "      <th></th>\n",
       "    </tr>\n",
       "  </thead>\n",
       "  <tbody>\n",
       "    <tr>\n",
       "      <th rowspan=\"4\" valign=\"top\">Germany, Federal Republic of</th>\n",
       "      <th>spring</th>\n",
       "      <td>0.223920</td>\n",
       "      <td>0.776080</td>\n",
       "    </tr>\n",
       "    <tr>\n",
       "      <th>summer</th>\n",
       "      <td>0.219304</td>\n",
       "      <td>0.780696</td>\n",
       "    </tr>\n",
       "    <tr>\n",
       "      <th>autumn</th>\n",
       "      <td>0.169706</td>\n",
       "      <td>0.830294</td>\n",
       "    </tr>\n",
       "    <tr>\n",
       "      <th>winter</th>\n",
       "      <td>0.235056</td>\n",
       "      <td>0.764944</td>\n",
       "    </tr>\n",
       "    <tr>\n",
       "      <th rowspan=\"4\" valign=\"top\">Netherlands, Kingdom of the</th>\n",
       "      <th>spring</th>\n",
       "      <td>0.352028</td>\n",
       "      <td>0.647972</td>\n",
       "    </tr>\n",
       "    <tr>\n",
       "      <th>summer</th>\n",
       "      <td>0.101167</td>\n",
       "      <td>0.898833</td>\n",
       "    </tr>\n",
       "    <tr>\n",
       "      <th>autumn</th>\n",
       "      <td>0.370302</td>\n",
       "      <td>0.629698</td>\n",
       "    </tr>\n",
       "    <tr>\n",
       "      <th>winter</th>\n",
       "      <td>0.374474</td>\n",
       "      <td>0.625526</td>\n",
       "    </tr>\n",
       "    <tr>\n",
       "      <th rowspan=\"4\" valign=\"top\">Norway, Kingdom of</th>\n",
       "      <th>spring</th>\n",
       "      <td>0.417178</td>\n",
       "      <td>0.582822</td>\n",
       "    </tr>\n",
       "    <tr>\n",
       "      <th>summer</th>\n",
       "      <td>0.360577</td>\n",
       "      <td>0.639423</td>\n",
       "    </tr>\n",
       "    <tr>\n",
       "      <th>autumn</th>\n",
       "      <td>0.587361</td>\n",
       "      <td>0.412639</td>\n",
       "    </tr>\n",
       "    <tr>\n",
       "      <th>winter</th>\n",
       "      <td>0.702875</td>\n",
       "      <td>0.297125</td>\n",
       "    </tr>\n",
       "    <tr>\n",
       "      <th rowspan=\"4\" valign=\"top\">Switzerland, Swiss Confederation</th>\n",
       "      <th>spring</th>\n",
       "      <td>0.312107</td>\n",
       "      <td>0.687893</td>\n",
       "    </tr>\n",
       "    <tr>\n",
       "      <th>summer</th>\n",
       "      <td>0.250427</td>\n",
       "      <td>0.749573</td>\n",
       "    </tr>\n",
       "    <tr>\n",
       "      <th>autumn</th>\n",
       "      <td>0.348889</td>\n",
       "      <td>0.651111</td>\n",
       "    </tr>\n",
       "    <tr>\n",
       "      <th>winter</th>\n",
       "      <td>0.392694</td>\n",
       "      <td>0.607306</td>\n",
       "    </tr>\n",
       "    <tr>\n",
       "      <th rowspan=\"4\" valign=\"top\">United Kingdom of Great Britain &amp; Northern Ireland</th>\n",
       "      <th>spring</th>\n",
       "      <td>0.156069</td>\n",
       "      <td>0.843931</td>\n",
       "    </tr>\n",
       "    <tr>\n",
       "      <th>summer</th>\n",
       "      <td>0.042770</td>\n",
       "      <td>0.957230</td>\n",
       "    </tr>\n",
       "    <tr>\n",
       "      <th>autumn</th>\n",
       "      <td>0.278978</td>\n",
       "      <td>0.721022</td>\n",
       "    </tr>\n",
       "    <tr>\n",
       "      <th>winter</th>\n",
       "      <td>0.341102</td>\n",
       "      <td>0.658898</td>\n",
       "    </tr>\n",
       "  </tbody>\n",
       "</table>\n",
       "</div>"
      ],
      "text/plain": [
       "Tinnitus_right_now                                                   No  \\\n",
       "Country_Name                                       fup_season             \n",
       "Germany, Federal Republic of                       spring      0.223920   \n",
       "                                                   summer      0.219304   \n",
       "                                                   autumn      0.169706   \n",
       "                                                   winter      0.235056   \n",
       "Netherlands, Kingdom of the                        spring      0.352028   \n",
       "                                                   summer      0.101167   \n",
       "                                                   autumn      0.370302   \n",
       "                                                   winter      0.374474   \n",
       "Norway, Kingdom of                                 spring      0.417178   \n",
       "                                                   summer      0.360577   \n",
       "                                                   autumn      0.587361   \n",
       "                                                   winter      0.702875   \n",
       "Switzerland, Swiss Confederation                   spring      0.312107   \n",
       "                                                   summer      0.250427   \n",
       "                                                   autumn      0.348889   \n",
       "                                                   winter      0.392694   \n",
       "United Kingdom of Great Britain & Northern Ireland spring      0.156069   \n",
       "                                                   summer      0.042770   \n",
       "                                                   autumn      0.278978   \n",
       "                                                   winter      0.341102   \n",
       "\n",
       "Tinnitus_right_now                                                  Yes  \n",
       "Country_Name                                       fup_season            \n",
       "Germany, Federal Republic of                       spring      0.776080  \n",
       "                                                   summer      0.780696  \n",
       "                                                   autumn      0.830294  \n",
       "                                                   winter      0.764944  \n",
       "Netherlands, Kingdom of the                        spring      0.647972  \n",
       "                                                   summer      0.898833  \n",
       "                                                   autumn      0.629698  \n",
       "                                                   winter      0.625526  \n",
       "Norway, Kingdom of                                 spring      0.582822  \n",
       "                                                   summer      0.639423  \n",
       "                                                   autumn      0.412639  \n",
       "                                                   winter      0.297125  \n",
       "Switzerland, Swiss Confederation                   spring      0.687893  \n",
       "                                                   summer      0.749573  \n",
       "                                                   autumn      0.651111  \n",
       "                                                   winter      0.607306  \n",
       "United Kingdom of Great Britain & Northern Ireland spring      0.843931  \n",
       "                                                   summer      0.957230  \n",
       "                                                   autumn      0.721022  \n",
       "                                                   winter      0.658898  "
      ]
     },
     "execution_count": 19,
     "metadata": {},
     "output_type": "execute_result"
    }
   ],
   "source": [
    "ct"
   ]
  },
  {
   "cell_type": "code",
   "execution_count": 21,
   "id": "romantic-parameter",
   "metadata": {},
   "outputs": [],
   "source": [
    "# get the number of answers per country\n",
    "ns = pd.crosstab(df.Country_Name, df.Tinnitus_right_now, normalize = False).sum(axis = 1)"
   ]
  },
  {
   "cell_type": "code",
   "execution_count": 24,
   "id": "impressed-county",
   "metadata": {},
   "outputs": [
    {
     "data": {
      "text/plain": [
       "Country_Name\n",
       "Albania, Republic of                           7\n",
       "Algeria, People's Democratic Republic of       7\n",
       "American Samoa                                 1\n",
       "Andorra, Principality of                       6\n",
       "Angola, Republic of                            4\n",
       "                                            ... \n",
       "United States of America                    9424\n",
       "Uruguay, Eastern Republic of                   1\n",
       "Vanuatu, Republic of                           2\n",
       "Venezuela, Bolivarian Republic of             65\n",
       "Yemen                                          2\n",
       "Length: 103, dtype: int64"
      ]
     },
     "execution_count": 24,
     "metadata": {},
     "output_type": "execute_result"
    }
   ],
   "source": [
    "ns"
   ]
  },
  {
   "cell_type": "markdown",
   "id": "clear-keeping",
   "metadata": {},
   "source": [
    "#### Plot Tinnitus YES NO distribution by country and season"
   ]
  },
  {
   "cell_type": "code",
   "execution_count": 26,
   "id": "tutorial-marathon",
   "metadata": {},
   "outputs": [
    {
     "data": {
      "text/plain": [
       "<matplotlib.legend.Legend at 0x1b034a9a0c8>"
      ]
     },
     "execution_count": 26,
     "metadata": {},
     "output_type": "execute_result"
    },
    {
     "data": {
      "image/png": "[encoded data removed]",
      "text/plain": [
       "<Figure size 432x288 with 5 Axes>"
      ]
     },
     "metadata": {
      "needs_background": "light"
     },
     "output_type": "display_data"
    }
   ],
   "source": [
    "# generate the plot\n",
    "fig, axes = plt.subplots(nrows = 1, ncols = len(countries), sharey=True)\n",
    "\n",
    "labels = ['spring', 'summer', 'autmn', 'winter']\n",
    "country_names = ['Germany', 'Netherlands', 'Switzerland', 'United Kingdom', 'Norway']\n",
    "\n",
    "for country, ax, t in zip(countries, axes, country_names):\n",
    "        \n",
    "    ct.loc[country][['No', 'Yes']].plot.bar(stacked = True, ax = ax)\n",
    "    \n",
    "    # remove legend in each axis\n",
    "    ax.get_legend().remove()\n",
    "    \n",
    "    # ax.set_xticklabels(labels = labels, rotation=90, fontsize=10)\n",
    "    \n",
    "    ax.set_xlabel('')\n",
    "    ax.set_ylabel('')\n",
    "    \n",
    "    # set log scale and labels\n",
    "    names = '\\n'.join(t.split(' '))\n",
    "    n = '\\n n=' + str(ns[country])\n",
    "    title = names + n\n",
    "    \n",
    "    ax.set_title(title, fontsize=8)\n",
    "    \n",
    "    # show values on bars\n",
    "    # u.show_values_on_bars(ax, h_v = 'v', space = 1, normalize = True)\n",
    "    \n",
    "plt.legend(bbox_to_anchor=(1.05, 1), loc='upper left')\n"
   ]
  },
  {
   "cell_type": "markdown",
   "id": "coated-vietnam",
   "metadata": {},
   "source": [
    "## Plot distribution by continent"
   ]
  },
  {
   "cell_type": "code",
   "execution_count": 27,
   "id": "proprietary-saint",
   "metadata": {},
   "outputs": [],
   "source": [
    "ct = pd.crosstab([df.Continent_Name, df.fup_season], df.Tinnitus_right_now, normalize = 'index')\n",
    "# reindex in a logical order\n",
    "ct = ct.reindex(['spring', 'summer', 'autumn', 'winter'], level = 'fup_season')"
   ]
  },
  {
   "cell_type": "code",
   "execution_count": 28,
   "id": "green-detective",
   "metadata": {},
   "outputs": [],
   "source": [
    "# Number of answers per continent and season\n",
    "ns = pd.crosstab(df.Continent_Name, df.Tinnitus_right_now, normalize = False).sum(axis = 1)"
   ]
  },
  {
   "cell_type": "code",
   "execution_count": 29,
   "id": "powered-weather",
   "metadata": {},
   "outputs": [],
   "source": [
    "continents = ['Africa', 'Asia', 'Europe', 'Oceania', 'North America', 'South America']"
   ]
  },
  {
   "cell_type": "code",
   "execution_count": 30,
   "id": "nervous-egyptian",
   "metadata": {},
   "outputs": [
    {
     "data": {
      "text/plain": [
       "Text(0.5, 1.05, 'Did you perceive the tinnitus right now?')"
      ]
     },
     "execution_count": 30,
     "metadata": {},
     "output_type": "execute_result"
    },
    {
     "data": {
      "image/png": "[encoded data removed]",
      "text/plain": [
       "<Figure size 432x288 with 6 Axes>"
      ]
     },
     "metadata": {
      "needs_background": "light"
     },
     "output_type": "display_data"
    }
   ],
   "source": [
    "# generate the plot\n",
    "fig, axes = plt.subplots(nrows = 1, ncols = len(continents), sharey=True)\n",
    "\n",
    "labels = ['spring', 'summer', 'autmn', 'winter']\n",
    "\n",
    "for continent, ax, t in zip(continents, axes, continents):\n",
    "        \n",
    "    ct.loc[continent][['No', 'Yes']].plot.bar(stacked = True, ax = ax)\n",
    "    \n",
    "    # remove legend in each axis\n",
    "    ax.get_legend().remove()\n",
    "    \n",
    "    # ax.set_xticklabels(labels = labels, rotation=90, fontsize=10)\n",
    "    \n",
    "    ax.set_xlabel('')\n",
    "    ax.set_ylabel('')\n",
    "    \n",
    "    names = '\\n'.join(t.split(' '))\n",
    "    n = '\\n n=' + str(ns[continent])\n",
    "    title = names + n\n",
    "    \n",
    "    # set log scale and labels\n",
    "    ax.set_title(title, fontsize=8)\n",
    "    \n",
    "    # show values on bars\n",
    "    # u.show_values_on_bars(ax, h_v = 'v', space = 1, normalize = True)\n",
    "    \n",
    "plt.legend(bbox_to_anchor=(1.05, 1), loc='upper left')\n",
    "plt.suptitle('Did you perceive the tinnitus right now?', y = 1.05)"
   ]
  },
  {
   "cell_type": "code",
   "execution_count": 38,
   "id": "toxic-thesaurus",
   "metadata": {},
   "outputs": [
    {
     "data": {
      "text/html": [
       "<div>\n",
       "<style scoped>\n",
       "    .dataframe tbody tr th:only-of-type {\n",
       "        vertical-align: middle;\n",
       "    }\n",
       "\n",
       "    .dataframe tbody tr th {\n",
       "        vertical-align: top;\n",
       "    }\n",
       "\n",
       "    .dataframe thead th {\n",
       "        text-align: right;\n",
       "    }\n",
       "</style>\n",
       "<table border=\"1\" class=\"dataframe\">\n",
       "  <thead>\n",
       "    <tr style=\"text-align: right;\">\n",
       "      <th>Tinnitus_right_now</th>\n",
       "      <th>No</th>\n",
       "      <th>Yes</th>\n",
       "    </tr>\n",
       "    <tr>\n",
       "      <th>fup_season</th>\n",
       "      <th></th>\n",
       "      <th></th>\n",
       "    </tr>\n",
       "  </thead>\n",
       "  <tbody>\n",
       "    <tr>\n",
       "      <th>autumn</th>\n",
       "      <td>5081</td>\n",
       "      <td>20517</td>\n",
       "    </tr>\n",
       "    <tr>\n",
       "      <th>spring</th>\n",
       "      <td>4805</td>\n",
       "      <td>17546</td>\n",
       "    </tr>\n",
       "    <tr>\n",
       "      <th>summer</th>\n",
       "      <td>4532</td>\n",
       "      <td>18411</td>\n",
       "    </tr>\n",
       "    <tr>\n",
       "      <th>winter</th>\n",
       "      <td>6022</td>\n",
       "      <td>18532</td>\n",
       "    </tr>\n",
       "  </tbody>\n",
       "</table>\n",
       "</div>"
      ],
      "text/plain": [
       "Tinnitus_right_now    No    Yes\n",
       "fup_season                     \n",
       "autumn              5081  20517\n",
       "spring              4805  17546\n",
       "summer              4532  18411\n",
       "winter              6022  18532"
      ]
     },
     "execution_count": 38,
     "metadata": {},
     "output_type": "execute_result"
    }
   ],
   "source": [
    "pd.crosstab(df.fup_season, df.Tinnitus_right_now)"
   ]
  },
  {
   "cell_type": "code",
   "execution_count": null,
   "id": "abstract-uganda",
   "metadata": {},
   "outputs": [],
   "source": []
  }
 ],
 "metadata": {
  "kernelspec": {
   "display_name": "Python 3",
   "language": "python",
   "name": "python3"
  },
  "language_info": {
   "codemirror_mode": {
    "name": "ipython",
    "version": 3
   },
   "file_extension": ".py",
   "mimetype": "text/x-python",
   "name": "python",
   "nbconvert_exporter": "python",
   "pygments_lexer": "ipython3",
   "version": "3.7.6"
  }
 },
 "nbformat": 4,
 "nbformat_minor": 5
}
