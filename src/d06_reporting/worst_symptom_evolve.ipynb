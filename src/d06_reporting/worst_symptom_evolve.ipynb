{
 "cells": [
  {
   "cell_type": "markdown",
   "id": "little-europe",
   "metadata": {},
   "source": [
    "# How does the worst symptom evolve over seasons?"
   ]
  },
  {
   "cell_type": "code",
   "execution_count": 1,
   "id": "further-smoke",
   "metadata": {},
   "outputs": [],
   "source": [
    "# add src to path so the noteboook can import utilities.py\n",
    "import sys\n",
    "sys.path.append('C:\\\\Users\\\\joa24jm\\\\Documents\\\\tinnitus-country\\\\src\\\\d00_utils')"
   ]
  },
  {
   "cell_type": "code",
   "execution_count": 2,
   "id": "potential-hometown",
   "metadata": {},
   "outputs": [],
   "source": [
    "# project location\n",
    "p_loc = 'C:/Users/joa24jm/Documents/tinnitus-country/'"
   ]
  },
  {
   "cell_type": "code",
   "execution_count": 52,
   "id": "sustainable-venezuela",
   "metadata": {},
   "outputs": [],
   "source": [
    "# imports\n",
    "import pandas as pd\n",
    "import utilities as u\n",
    "import numpy as np\n",
    "import matplotlib.pyplot as plt"
   ]
  },
  {
   "cell_type": "code",
   "execution_count": 4,
   "id": "female-marker",
   "metadata": {},
   "outputs": [],
   "source": [
    "# read in df\n",
    "df = pd.read_csv(p_loc + '/data/02_intermediate/merged_users.csv', index_col = 'Unnamed: 0',\n",
    "                parse_dates = ['4', '9', 'fup_answer_from', 'bl_answer_from'],na_values = ['??.??.????', '27.02.2522']\n",
    "                )"
   ]
  },
  {
   "cell_type": "code",
   "execution_count": 37,
   "id": "administrative-venue",
   "metadata": {},
   "outputs": [],
   "source": [
    "# get all users with more than 365 daily questionnaires\n",
    "users_365 = df.user_id.value_counts()[df.user_id.value_counts() > 365].index.tolist()\n",
    "users_b365 = df.user_id.value_counts()[df.user_id.value_counts() <= 365].index.tolist()\n",
    "\n"
   ]
  },
  {
   "cell_type": "code",
   "execution_count": 6,
   "id": "changing-burlington",
   "metadata": {},
   "outputs": [
    {
     "name": "stderr",
     "output_type": "stream",
     "text": [
      "C:\\Users\\joa24jm\\Documents\\tinnitus-country\\src\\d00_utils\\utilities.py:177: FutureWarning: Comparison of NaT with datetime.date is deprecated in order to match the standard library behavior.  In a future version these will be considered non-comparable.\n",
      "  if start <= d <= end)\n"
     ]
    }
   ],
   "source": [
    "# get season column\n",
    "df['season'] = df.fup_answer_from.apply(u.get_season)\n"
   ]
  },
  {
   "cell_type": "code",
   "execution_count": 7,
   "id": "operational-march",
   "metadata": {},
   "outputs": [],
   "source": [
    "# shrink dataframe to users_365\n",
    "sub_df = df[df.user_id.isin(users_365)]"
   ]
  },
  {
   "cell_type": "code",
   "execution_count": 8,
   "id": "occupational-china",
   "metadata": {},
   "outputs": [
    {
     "data": {
      "text/plain": [
       "0.0    0.679848\n",
       "1.0    0.320152\n",
       "Name: question8, dtype: float64"
      ]
     },
     "execution_count": 8,
     "metadata": {},
     "output_type": "execute_result"
    }
   ],
   "source": [
    "# Occurence of worst symptom for users_365\n",
    "df.question8.value_counts(normalize = True)"
   ]
  },
  {
   "cell_type": "code",
   "execution_count": 9,
   "id": "fresh-reset",
   "metadata": {},
   "outputs": [
    {
     "data": {
      "text/html": [
       "<style  type=\"text/css\" >\n",
       "</style><table id=\"T_adaa1_\" ><thead>    <tr>        <th class=\"index_name level0\" >question8</th>        <th class=\"col_heading level0 col0\" >0.0</th>        <th class=\"col_heading level0 col1\" >1.0</th>    </tr>    <tr>        <th class=\"index_name level0\" >season</th>        <th class=\"blank\" ></th>        <th class=\"blank\" ></th>    </tr></thead><tbody>\n",
       "                <tr>\n",
       "                        <th id=\"T_adaa1_level0_row0\" class=\"row_heading level0 row0\" >autumn</th>\n",
       "                        <td id=\"T_adaa1_row0_col0\" class=\"data row0 col0\" >67.51%</td>\n",
       "                        <td id=\"T_adaa1_row0_col1\" class=\"data row0 col1\" >32.49%</td>\n",
       "            </tr>\n",
       "            <tr>\n",
       "                        <th id=\"T_adaa1_level0_row1\" class=\"row_heading level0 row1\" >spring</th>\n",
       "                        <td id=\"T_adaa1_row1_col0\" class=\"data row1 col0\" >67.11%</td>\n",
       "                        <td id=\"T_adaa1_row1_col1\" class=\"data row1 col1\" >32.89%</td>\n",
       "            </tr>\n",
       "            <tr>\n",
       "                        <th id=\"T_adaa1_level0_row2\" class=\"row_heading level0 row2\" >summer</th>\n",
       "                        <td id=\"T_adaa1_row2_col0\" class=\"data row2 col0\" >67.48%</td>\n",
       "                        <td id=\"T_adaa1_row2_col1\" class=\"data row2 col1\" >32.52%</td>\n",
       "            </tr>\n",
       "            <tr>\n",
       "                        <th id=\"T_adaa1_level0_row3\" class=\"row_heading level0 row3\" >winter</th>\n",
       "                        <td id=\"T_adaa1_row3_col0\" class=\"data row3 col0\" >69.60%</td>\n",
       "                        <td id=\"T_adaa1_row3_col1\" class=\"data row3 col1\" >30.40%</td>\n",
       "            </tr>\n",
       "    </tbody></table>"
      ],
      "text/plain": [
       "<pandas.io.formats.style.Styler at 0x1c1daaa4208>"
      ]
     },
     "execution_count": 9,
     "metadata": {},
     "output_type": "execute_result"
    }
   ],
   "source": [
    "# Occurence of worst symptom by season for users_365\n",
    "pd.crosstab(sub_df.season, sub_df.question8, normalize = 'index').style.format('{:,.2%}')\n"
   ]
  },
  {
   "cell_type": "markdown",
   "id": "czech-penguin",
   "metadata": {},
   "source": [
    "For users that filled out the daily questionnaire more than 365 times, the likelihood of the perceiption of the worst symptom dreases by 2 percentpoints in winter."
   ]
  },
  {
   "cell_type": "code",
   "execution_count": null,
   "id": "indian-hanging",
   "metadata": {},
   "outputs": [],
   "source": []
  }
 ],
 "metadata": {
  "kernelspec": {
   "display_name": "Python 3",
   "language": "python",
   "name": "python3"
  },
  "language_info": {
   "codemirror_mode": {
    "name": "ipython",
    "version": 3
   },
   "file_extension": ".py",
   "mimetype": "text/x-python",
   "name": "python",
   "nbconvert_exporter": "python",
   "pygments_lexer": "ipython3",
   "version": "3.7.6"
  }
 },
 "nbformat": 4,
 "nbformat_minor": 5
}
