{
 "cells": [
  {
   "cell_type": "markdown",
   "id": "little-europe",
   "metadata": {},
   "source": [
    "# How does the worst symptom evolve over seasons?"
   ]
  },
  {
   "cell_type": "code",
   "execution_count": 1,
   "id": "further-smoke",
   "metadata": {},
   "outputs": [],
   "source": [
    "# add src to path so the noteboook can import utilities.py\n",
    "import sys\n",
    "sys.path.append('C:\\\\Users\\\\joa24jm\\\\Documents\\\\tinnitus-country\\\\src\\\\d00_utils')"
   ]
  },
  {
   "cell_type": "code",
   "execution_count": 2,
   "id": "potential-hometown",
   "metadata": {},
   "outputs": [],
   "source": [
    "# project location\n",
    "p_loc = 'C:/Users/joa24jm/Documents/tinnitus-country/'"
   ]
  },
  {
   "cell_type": "code",
   "execution_count": 3,
   "id": "sustainable-venezuela",
   "metadata": {},
   "outputs": [],
   "source": [
    "# imports\n",
    "import pandas as pd\n",
    "import utilities as u"
   ]
  },
  {
   "cell_type": "code",
   "execution_count": 4,
   "id": "female-marker",
   "metadata": {},
   "outputs": [],
   "source": [
    "# read in df\n",
    "df = pd.read_csv(p_loc + '/data/02_intermediate/merged_users.csv', index_col = 'Unnamed: 0',\n",
    "                parse_dates = ['4', '9', 'fup_answer_from', 'bl_answer_from'],na_values = ['??.??.????', '27.02.2522']\n",
    "                )"
   ]
  },
  {
   "cell_type": "code",
   "execution_count": 13,
   "id": "administrative-venue",
   "metadata": {},
   "outputs": [],
   "source": [
    "# get all users with more than 365 daily questionnaires\n",
    "users_365 = df.user_id.value_counts()[df.user_id.value_counts() > 365].index.tolist()\n",
    "\n"
   ]
  },
  {
   "cell_type": "code",
   "execution_count": 16,
   "id": "changing-burlington",
   "metadata": {},
   "outputs": [
    {
     "name": "stderr",
     "output_type": "stream",
     "text": [
      "C:\\Users\\joa24jm\\Documents\\tinnitus-country\\src\\d00_utils\\utilities.py:175: FutureWarning: Comparison of NaT with datetime.date is deprecated in order to match the standard library behavior.  In a future version these will be considered non-comparable.\n",
      "  if start <= d <= end)\n"
     ]
    }
   ],
   "source": [
    "# get season column\n",
    "df['season'] = df.fup_answer_from.apply(u.get_season)\n"
   ]
  },
  {
   "cell_type": "code",
   "execution_count": 22,
   "id": "operational-march",
   "metadata": {},
   "outputs": [],
   "source": [
    "# shrink dataframe to users_365\n",
    "sub_df = df[df.user_id.isin(users_365)]"
   ]
  },
  {
   "cell_type": "code",
   "execution_count": 38,
   "id": "occupational-china",
   "metadata": {},
   "outputs": [
    {
     "data": {
      "text/plain": [
       "0.0    0.679848\n",
       "1.0    0.320152\n",
       "Name: question8, dtype: float64"
      ]
     },
     "execution_count": 38,
     "metadata": {},
     "output_type": "execute_result"
    }
   ],
   "source": [
    "# Occurence of worst symptom for users_365\n",
    "df.question8.value_counts(normalize = True)"
   ]
  },
  {
   "cell_type": "code",
   "execution_count": 39,
   "id": "fresh-reset",
   "metadata": {},
   "outputs": [
    {
     "data": {
      "text/html": [
       "<style  type=\"text/css\" >\n",
       "</style><table id=\"T_070d6_\" ><thead>    <tr>        <th class=\"index_name level0\" >question8</th>        <th class=\"col_heading level0 col0\" >0.0</th>        <th class=\"col_heading level0 col1\" >1.0</th>    </tr>    <tr>        <th class=\"index_name level0\" >season</th>        <th class=\"blank\" ></th>        <th class=\"blank\" ></th>    </tr></thead><tbody>\n",
       "                <tr>\n",
       "                        <th id=\"T_070d6_level0_row0\" class=\"row_heading level0 row0\" >autumn</th>\n",
       "                        <td id=\"T_070d6_row0_col0\" class=\"data row0 col0\" >67.51%</td>\n",
       "                        <td id=\"T_070d6_row0_col1\" class=\"data row0 col1\" >32.49%</td>\n",
       "            </tr>\n",
       "            <tr>\n",
       "                        <th id=\"T_070d6_level0_row1\" class=\"row_heading level0 row1\" >spring</th>\n",
       "                        <td id=\"T_070d6_row1_col0\" class=\"data row1 col0\" >67.11%</td>\n",
       "                        <td id=\"T_070d6_row1_col1\" class=\"data row1 col1\" >32.89%</td>\n",
       "            </tr>\n",
       "            <tr>\n",
       "                        <th id=\"T_070d6_level0_row2\" class=\"row_heading level0 row2\" >summer</th>\n",
       "                        <td id=\"T_070d6_row2_col0\" class=\"data row2 col0\" >67.48%</td>\n",
       "                        <td id=\"T_070d6_row2_col1\" class=\"data row2 col1\" >32.52%</td>\n",
       "            </tr>\n",
       "            <tr>\n",
       "                        <th id=\"T_070d6_level0_row3\" class=\"row_heading level0 row3\" >winter</th>\n",
       "                        <td id=\"T_070d6_row3_col0\" class=\"data row3 col0\" >69.60%</td>\n",
       "                        <td id=\"T_070d6_row3_col1\" class=\"data row3 col1\" >30.40%</td>\n",
       "            </tr>\n",
       "    </tbody></table>"
      ],
      "text/plain": [
       "<pandas.io.formats.style.Styler at 0x2b3a5829b48>"
      ]
     },
     "execution_count": 39,
     "metadata": {},
     "output_type": "execute_result"
    }
   ],
   "source": [
    "# Occurence of worst symptom by season for users_365\n",
    "pd.crosstab(sub_df.season, sub_df.question8, normalize = 'index').style.format('{:,.2%}')\n"
   ]
  },
  {
   "cell_type": "markdown",
   "id": "czech-penguin",
   "metadata": {},
   "source": [
    "For users that filled out the daily questionnaire more than 365 times, the likelihood of the perceiption of the worst symptom dreases by 2 percentpoints in winter."
   ]
  },
  {
   "cell_type": "code",
   "execution_count": 42,
   "id": "comfortable-blade",
   "metadata": {},
   "outputs": [
    {
     "data": {
      "text/plain": [
       "1.0    0.828594\n",
       "0.0    0.171406\n",
       "Name: question1, dtype: float64"
      ]
     },
     "execution_count": 42,
     "metadata": {},
     "output_type": "execute_result"
    }
   ],
   "source": [
    "# tinnitus perception for users_365 in general\n",
    "sub_df.question1.value_counts(normalize = True)"
   ]
  },
  {
   "cell_type": "code",
   "execution_count": 40,
   "id": "inclusive-council",
   "metadata": {},
   "outputs": [
    {
     "data": {
      "text/html": [
       "<style  type=\"text/css\" >\n",
       "</style><table id=\"T_5e5d2_\" ><thead>    <tr>        <th class=\"index_name level0\" >question1</th>        <th class=\"col_heading level0 col0\" >0.0</th>        <th class=\"col_heading level0 col1\" >1.0</th>    </tr>    <tr>        <th class=\"index_name level0\" >season</th>        <th class=\"blank\" ></th>        <th class=\"blank\" ></th>    </tr></thead><tbody>\n",
       "                <tr>\n",
       "                        <th id=\"T_5e5d2_level0_row0\" class=\"row_heading level0 row0\" >autumn</th>\n",
       "                        <td id=\"T_5e5d2_row0_col0\" class=\"data row0 col0\" >15.26%</td>\n",
       "                        <td id=\"T_5e5d2_row0_col1\" class=\"data row0 col1\" >84.74%</td>\n",
       "            </tr>\n",
       "            <tr>\n",
       "                        <th id=\"T_5e5d2_level0_row1\" class=\"row_heading level0 row1\" >spring</th>\n",
       "                        <td id=\"T_5e5d2_row1_col0\" class=\"data row1 col0\" >18.46%</td>\n",
       "                        <td id=\"T_5e5d2_row1_col1\" class=\"data row1 col1\" >81.54%</td>\n",
       "            </tr>\n",
       "            <tr>\n",
       "                        <th id=\"T_5e5d2_level0_row2\" class=\"row_heading level0 row2\" >summer</th>\n",
       "                        <td id=\"T_5e5d2_row2_col0\" class=\"data row2 col0\" >16.06%</td>\n",
       "                        <td id=\"T_5e5d2_row2_col1\" class=\"data row2 col1\" >83.94%</td>\n",
       "            </tr>\n",
       "            <tr>\n",
       "                        <th id=\"T_5e5d2_level0_row3\" class=\"row_heading level0 row3\" >winter</th>\n",
       "                        <td id=\"T_5e5d2_row3_col0\" class=\"data row3 col0\" >18.98%</td>\n",
       "                        <td id=\"T_5e5d2_row3_col1\" class=\"data row3 col1\" >81.02%</td>\n",
       "            </tr>\n",
       "    </tbody></table>"
      ],
      "text/plain": [
       "<pandas.io.formats.style.Styler at 0x2b3a5b85988>"
      ]
     },
     "execution_count": 40,
     "metadata": {},
     "output_type": "execute_result"
    }
   ],
   "source": [
    "# Occurence of tinnitus perception by season for users_365\n",
    "pd.crosstab(sub_df.season, sub_df.question1, normalize = 'index').style.format('{:,.2%}')"
   ]
  },
  {
   "cell_type": "markdown",
   "id": "metallic-kansas",
   "metadata": {},
   "source": [
    "## How does the tinnitus occurence vary over the months for users_365?"
   ]
  },
  {
   "cell_type": "code",
   "execution_count": 59,
   "id": "artificial-recognition",
   "metadata": {},
   "outputs": [],
   "source": [
    "# get the month of each answer\n",
    "idx = sub_df.fup_answer_from.dt.month.index\n",
    "sub_df.loc[idx, 'month'] = sub_df.fup_answer_from.dt.month.values.tolist()\n"
   ]
  },
  {
   "cell_type": "code",
   "execution_count": 64,
   "id": "mexican-diabetes",
   "metadata": {},
   "outputs": [
    {
     "data": {
      "text/html": [
       "<style  type=\"text/css\" >\n",
       "</style><table id=\"T_2533b_\" ><thead>    <tr>        <th class=\"index_name level0\" >question1</th>        <th class=\"col_heading level0 col0\" >0.0</th>        <th class=\"col_heading level0 col1\" >1.0</th>    </tr>    <tr>        <th class=\"index_name level0\" >month</th>        <th class=\"blank\" ></th>        <th class=\"blank\" ></th>    </tr></thead><tbody>\n",
       "                <tr>\n",
       "                        <th id=\"T_2533b_level0_row0\" class=\"row_heading level0 row0\" >1</th>\n",
       "                        <td id=\"T_2533b_row0_col0\" class=\"data row0 col0\" >20.54%</td>\n",
       "                        <td id=\"T_2533b_row0_col1\" class=\"data row0 col1\" >79.46%</td>\n",
       "            </tr>\n",
       "            <tr>\n",
       "                        <th id=\"T_2533b_level0_row1\" class=\"row_heading level0 row1\" >2</th>\n",
       "                        <td id=\"T_2533b_row1_col0\" class=\"data row1 col0\" >18.70%</td>\n",
       "                        <td id=\"T_2533b_row1_col1\" class=\"data row1 col1\" >81.30%</td>\n",
       "            </tr>\n",
       "            <tr>\n",
       "                        <th id=\"T_2533b_level0_row2\" class=\"row_heading level0 row2\" >3</th>\n",
       "                        <td id=\"T_2533b_row2_col0\" class=\"data row2 col0\" >20.95%</td>\n",
       "                        <td id=\"T_2533b_row2_col1\" class=\"data row2 col1\" >79.05%</td>\n",
       "            </tr>\n",
       "            <tr>\n",
       "                        <th id=\"T_2533b_level0_row3\" class=\"row_heading level0 row3\" >4</th>\n",
       "                        <td id=\"T_2533b_row3_col0\" class=\"data row3 col0\" >15.90%</td>\n",
       "                        <td id=\"T_2533b_row3_col1\" class=\"data row3 col1\" >84.10%</td>\n",
       "            </tr>\n",
       "            <tr>\n",
       "                        <th id=\"T_2533b_level0_row4\" class=\"row_heading level0 row4\" >5</th>\n",
       "                        <td id=\"T_2533b_row4_col0\" class=\"data row4 col0\" >16.15%</td>\n",
       "                        <td id=\"T_2533b_row4_col1\" class=\"data row4 col1\" >83.85%</td>\n",
       "            </tr>\n",
       "            <tr>\n",
       "                        <th id=\"T_2533b_level0_row5\" class=\"row_heading level0 row5\" >6</th>\n",
       "                        <td id=\"T_2533b_row5_col0\" class=\"data row5 col0\" >21.72%</td>\n",
       "                        <td id=\"T_2533b_row5_col1\" class=\"data row5 col1\" >78.28%</td>\n",
       "            </tr>\n",
       "            <tr>\n",
       "                        <th id=\"T_2533b_level0_row6\" class=\"row_heading level0 row6\" >7</th>\n",
       "                        <td id=\"T_2533b_row6_col0\" class=\"data row6 col0\" >22.59%</td>\n",
       "                        <td id=\"T_2533b_row6_col1\" class=\"data row6 col1\" >77.41%</td>\n",
       "            </tr>\n",
       "            <tr>\n",
       "                        <th id=\"T_2533b_level0_row7\" class=\"row_heading level0 row7\" >8</th>\n",
       "                        <td id=\"T_2533b_row7_col0\" class=\"data row7 col0\" >9.78%</td>\n",
       "                        <td id=\"T_2533b_row7_col1\" class=\"data row7 col1\" >90.22%</td>\n",
       "            </tr>\n",
       "            <tr>\n",
       "                        <th id=\"T_2533b_level0_row8\" class=\"row_heading level0 row8\" >9</th>\n",
       "                        <td id=\"T_2533b_row8_col0\" class=\"data row8 col0\" >10.26%</td>\n",
       "                        <td id=\"T_2533b_row8_col1\" class=\"data row8 col1\" >89.74%</td>\n",
       "            </tr>\n",
       "            <tr>\n",
       "                        <th id=\"T_2533b_level0_row9\" class=\"row_heading level0 row9\" >10</th>\n",
       "                        <td id=\"T_2533b_row9_col0\" class=\"data row9 col0\" >10.10%</td>\n",
       "                        <td id=\"T_2533b_row9_col1\" class=\"data row9 col1\" >89.90%</td>\n",
       "            </tr>\n",
       "            <tr>\n",
       "                        <th id=\"T_2533b_level0_row10\" class=\"row_heading level0 row10\" >11</th>\n",
       "                        <td id=\"T_2533b_row10_col0\" class=\"data row10 col0\" >19.37%</td>\n",
       "                        <td id=\"T_2533b_row10_col1\" class=\"data row10 col1\" >80.63%</td>\n",
       "            </tr>\n",
       "            <tr>\n",
       "                        <th id=\"T_2533b_level0_row11\" class=\"row_heading level0 row11\" >12</th>\n",
       "                        <td id=\"T_2533b_row11_col0\" class=\"data row11 col0\" >16.17%</td>\n",
       "                        <td id=\"T_2533b_row11_col1\" class=\"data row11 col1\" >83.83%</td>\n",
       "            </tr>\n",
       "    </tbody></table>"
      ],
      "text/plain": [
       "<pandas.io.formats.style.Styler at 0x2b3a5fc9dc8>"
      ]
     },
     "execution_count": 64,
     "metadata": {},
     "output_type": "execute_result"
    }
   ],
   "source": [
    "pd.crosstab(sub_df.month, sub_df.question1, normalize = 'index').style.format('{:,.2%}')"
   ]
  },
  {
   "cell_type": "markdown",
   "id": "extensive-vegetation",
   "metadata": {},
   "source": [
    "## How does the tinnitus occruence vary between the months for all users?"
   ]
  },
  {
   "cell_type": "code",
   "execution_count": 68,
   "id": "backed-posting",
   "metadata": {},
   "outputs": [],
   "source": [
    "df['month'] = df.fup_answer_from.dt.month"
   ]
  },
  {
   "cell_type": "code",
   "execution_count": 69,
   "id": "average-luther",
   "metadata": {},
   "outputs": [
    {
     "data": {
      "text/html": [
       "<style  type=\"text/css\" >\n",
       "</style><table id=\"T_acd87_\" ><thead>    <tr>        <th class=\"index_name level0\" >question1</th>        <th class=\"col_heading level0 col0\" >0.0</th>        <th class=\"col_heading level0 col1\" >1.0</th>    </tr>    <tr>        <th class=\"index_name level0\" >month</th>        <th class=\"blank\" ></th>        <th class=\"blank\" ></th>    </tr></thead><tbody>\n",
       "                <tr>\n",
       "                        <th id=\"T_acd87_level0_row0\" class=\"row_heading level0 row0\" >1.0</th>\n",
       "                        <td id=\"T_acd87_row0_col0\" class=\"data row0 col0\" >25.12%</td>\n",
       "                        <td id=\"T_acd87_row0_col1\" class=\"data row0 col1\" >74.88%</td>\n",
       "            </tr>\n",
       "            <tr>\n",
       "                        <th id=\"T_acd87_level0_row1\" class=\"row_heading level0 row1\" >2.0</th>\n",
       "                        <td id=\"T_acd87_row1_col0\" class=\"data row1 col0\" >25.58%</td>\n",
       "                        <td id=\"T_acd87_row1_col1\" class=\"data row1 col1\" >74.42%</td>\n",
       "            </tr>\n",
       "            <tr>\n",
       "                        <th id=\"T_acd87_level0_row2\" class=\"row_heading level0 row2\" >3.0</th>\n",
       "                        <td id=\"T_acd87_row2_col0\" class=\"data row2 col0\" >24.80%</td>\n",
       "                        <td id=\"T_acd87_row2_col1\" class=\"data row2 col1\" >75.20%</td>\n",
       "            </tr>\n",
       "            <tr>\n",
       "                        <th id=\"T_acd87_level0_row3\" class=\"row_heading level0 row3\" >4.0</th>\n",
       "                        <td id=\"T_acd87_row3_col0\" class=\"data row3 col0\" >23.32%</td>\n",
       "                        <td id=\"T_acd87_row3_col1\" class=\"data row3 col1\" >76.68%</td>\n",
       "            </tr>\n",
       "            <tr>\n",
       "                        <th id=\"T_acd87_level0_row4\" class=\"row_heading level0 row4\" >5.0</th>\n",
       "                        <td id=\"T_acd87_row4_col0\" class=\"data row4 col0\" >18.82%</td>\n",
       "                        <td id=\"T_acd87_row4_col1\" class=\"data row4 col1\" >81.18%</td>\n",
       "            </tr>\n",
       "            <tr>\n",
       "                        <th id=\"T_acd87_level0_row5\" class=\"row_heading level0 row5\" >6.0</th>\n",
       "                        <td id=\"T_acd87_row5_col0\" class=\"data row5 col0\" >20.85%</td>\n",
       "                        <td id=\"T_acd87_row5_col1\" class=\"data row5 col1\" >79.15%</td>\n",
       "            </tr>\n",
       "            <tr>\n",
       "                        <th id=\"T_acd87_level0_row6\" class=\"row_heading level0 row6\" >7.0</th>\n",
       "                        <td id=\"T_acd87_row6_col0\" class=\"data row6 col0\" >23.19%</td>\n",
       "                        <td id=\"T_acd87_row6_col1\" class=\"data row6 col1\" >76.81%</td>\n",
       "            </tr>\n",
       "            <tr>\n",
       "                        <th id=\"T_acd87_level0_row7\" class=\"row_heading level0 row7\" >8.0</th>\n",
       "                        <td id=\"T_acd87_row7_col0\" class=\"data row7 col0\" >17.54%</td>\n",
       "                        <td id=\"T_acd87_row7_col1\" class=\"data row7 col1\" >82.46%</td>\n",
       "            </tr>\n",
       "            <tr>\n",
       "                        <th id=\"T_acd87_level0_row8\" class=\"row_heading level0 row8\" >9.0</th>\n",
       "                        <td id=\"T_acd87_row8_col0\" class=\"data row8 col0\" >16.86%</td>\n",
       "                        <td id=\"T_acd87_row8_col1\" class=\"data row8 col1\" >83.14%</td>\n",
       "            </tr>\n",
       "            <tr>\n",
       "                        <th id=\"T_acd87_level0_row9\" class=\"row_heading level0 row9\" >10.0</th>\n",
       "                        <td id=\"T_acd87_row9_col0\" class=\"data row9 col0\" >16.51%</td>\n",
       "                        <td id=\"T_acd87_row9_col1\" class=\"data row9 col1\" >83.49%</td>\n",
       "            </tr>\n",
       "            <tr>\n",
       "                        <th id=\"T_acd87_level0_row10\" class=\"row_heading level0 row10\" >11.0</th>\n",
       "                        <td id=\"T_acd87_row10_col0\" class=\"data row10 col0\" >22.51%</td>\n",
       "                        <td id=\"T_acd87_row10_col1\" class=\"data row10 col1\" >77.49%</td>\n",
       "            </tr>\n",
       "            <tr>\n",
       "                        <th id=\"T_acd87_level0_row11\" class=\"row_heading level0 row11\" >12.0</th>\n",
       "                        <td id=\"T_acd87_row11_col0\" class=\"data row11 col0\" >21.72%</td>\n",
       "                        <td id=\"T_acd87_row11_col1\" class=\"data row11 col1\" >78.28%</td>\n",
       "            </tr>\n",
       "    </tbody></table>"
      ],
      "text/plain": [
       "<pandas.io.formats.style.Styler at 0x2b3a5fb6748>"
      ]
     },
     "execution_count": 69,
     "metadata": {},
     "output_type": "execute_result"
    }
   ],
   "source": [
    "pd.crosstab(df.month, df.question1, normalize = 'index').style.format('{:,.2%}')"
   ]
  },
  {
   "cell_type": "code",
   "execution_count": 70,
   "id": "brilliant-serum",
   "metadata": {},
   "outputs": [
    {
     "data": {
      "text/plain": [
       "1.0    0.785847\n",
       "0.0    0.214153\n",
       "Name: question1, dtype: float64"
      ]
     },
     "execution_count": 70,
     "metadata": {},
     "output_type": "execute_result"
    }
   ],
   "source": [
    "# overall mean as a baseline comparison\n",
    "df.question1.value_counts(normalize = True)"
   ]
  },
  {
   "cell_type": "code",
   "execution_count": null,
   "id": "beginning-firewall",
   "metadata": {},
   "outputs": [],
   "source": []
  }
 ],
 "metadata": {
  "kernelspec": {
   "display_name": "Python 3",
   "language": "python",
   "name": "python3"
  },
  "language_info": {
   "codemirror_mode": {
    "name": "ipython",
    "version": 3
   },
   "file_extension": ".py",
   "mimetype": "text/x-python",
   "name": "python",
   "nbconvert_exporter": "python",
   "pygments_lexer": "ipython3",
   "version": "3.7.6"
  }
 },
 "nbformat": 4,
 "nbformat_minor": 5
}
