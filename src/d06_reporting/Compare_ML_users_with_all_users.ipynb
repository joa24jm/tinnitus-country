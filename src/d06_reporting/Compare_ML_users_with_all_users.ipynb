{
 "cells": [
  {
   "cell_type": "markdown",
   "metadata": {},
   "source": [
    "# Comparison of all users with users used for ML approach"
   ]
  },
  {
   "cell_type": "code",
   "execution_count": 1,
   "metadata": {},
   "outputs": [],
   "source": [
    "# add src to path so the noteboook can import utilities.py\n",
    "import sys\n",
    "sys.path.append('C:\\\\Users\\\\Johannes Allgaier\\\\Documents\\\\tinnitus-country\\\\src\\\\d00_utils')"
   ]
  },
  {
   "cell_type": "code",
   "execution_count": 2,
   "metadata": {},
   "outputs": [],
   "source": [
    "# project location\n",
    "p_loc = 'C:/Users/Johannes Allgaier/Documents/tinnitus-country/'"
   ]
  },
  {
   "cell_type": "code",
   "execution_count": 28,
   "metadata": {},
   "outputs": [],
   "source": [
    "# imports\n",
    "import pandas as pd\n",
    "import seaborn as sns\n",
    "import matplotlib.pyplot as plt\n",
    "import numpy as np\n",
    "import utilities as u\n",
    "from scipy.stats import ks_2samp"
   ]
  },
  {
   "cell_type": "code",
   "execution_count": 4,
   "metadata": {},
   "outputs": [],
   "source": [
    "# read in dfs\n",
    "df = pd.read_csv(p_loc + 'data/02_intermediate/baseline.csv', index_col = 'Unnamed: 0',\n",
    "                parse_dates = ['4', '9', 'created_at'],na_values = ['??.??.????', '27.02.2522']\n",
    "                )\n",
    "\n",
    "ml = pd.read_csv(p_loc + 'data/03_processed/df_equal_splits.csv')"
   ]
  },
  {
   "cell_type": "code",
   "execution_count": 5,
   "metadata": {},
   "outputs": [],
   "source": [
    "# get lists of users for ml approach and all users\n",
    "ml_users = ml.user_id.unique().tolist()\n",
    "# the index of the baseline questionnaire is the user_id\n",
    "al_users = df.index.tolist()"
   ]
  },
  {
   "cell_type": "code",
   "execution_count": 6,
   "metadata": {},
   "outputs": [
    {
     "data": {
      "text/plain": [
       "True     2179\n",
       "False    1512\n",
       "Name: used_for_ml, dtype: int64"
      ]
     },
     "execution_count": 6,
     "metadata": {},
     "output_type": "execute_result"
    }
   ],
   "source": [
    "# create a new column that indicates whether this user has been used for ml or not\n",
    "df['used_for_ml'] = df.index.isin(ml_users)\n",
    "df['used_for_ml'].value_counts()"
   ]
  },
  {
   "cell_type": "code",
   "execution_count": 7,
   "metadata": {},
   "outputs": [],
   "source": [
    "# rename columns\n",
    "df.rename(columns = {'4':'date_of_birth','6':'handedness', '7':'family_history', '5':'sex'}, inplace=True)"
   ]
  },
  {
   "cell_type": "markdown",
   "metadata": {},
   "source": [
    "#### Family history of tinnitus complaints\n"
   ]
  },
  {
   "cell_type": "code",
   "execution_count": 8,
   "metadata": {},
   "outputs": [
    {
     "data": {
      "text/html": [
       "<div>\n",
       "<style scoped>\n",
       "    .dataframe tbody tr th:only-of-type {\n",
       "        vertical-align: middle;\n",
       "    }\n",
       "\n",
       "    .dataframe tbody tr th {\n",
       "        vertical-align: top;\n",
       "    }\n",
       "\n",
       "    .dataframe thead th {\n",
       "        text-align: right;\n",
       "    }\n",
       "</style>\n",
       "<table border=\"1\" class=\"dataframe\">\n",
       "  <thead>\n",
       "    <tr style=\"text-align: right;\">\n",
       "      <th></th>\n",
       "      <th>used_for_ml</th>\n",
       "      <th>family_history</th>\n",
       "      <th>value</th>\n",
       "    </tr>\n",
       "  </thead>\n",
       "  <tbody>\n",
       "    <tr>\n",
       "      <th>0</th>\n",
       "      <td>False</td>\n",
       "      <td>No</td>\n",
       "      <td>0.767622</td>\n",
       "    </tr>\n",
       "    <tr>\n",
       "      <th>1</th>\n",
       "      <td>False</td>\n",
       "      <td>Yes</td>\n",
       "      <td>0.232378</td>\n",
       "    </tr>\n",
       "    <tr>\n",
       "      <th>2</th>\n",
       "      <td>True</td>\n",
       "      <td>No</td>\n",
       "      <td>0.758653</td>\n",
       "    </tr>\n",
       "    <tr>\n",
       "      <th>3</th>\n",
       "      <td>True</td>\n",
       "      <td>Yes</td>\n",
       "      <td>0.241347</td>\n",
       "    </tr>\n",
       "  </tbody>\n",
       "</table>\n",
       "</div>"
      ],
      "text/plain": [
       "   used_for_ml family_history     value\n",
       "0        False             No  0.767622\n",
       "1        False            Yes  0.232378\n",
       "2         True             No  0.758653\n",
       "3         True            Yes  0.241347"
      ]
     },
     "execution_count": 8,
     "metadata": {},
     "output_type": "execute_result"
    }
   ],
   "source": [
    "ct = pd.crosstab(df['used_for_ml'], df['family_history'], normalize = 'index')\n",
    "history = ct.stack().reset_index().rename(columns={0:'value'})\n",
    "history"
   ]
  },
  {
   "cell_type": "code",
   "execution_count": 9,
   "metadata": {},
   "outputs": [
    {
     "data": {
      "image/png": "[encoded data removed]",
      "text/plain": [
       "<Figure size 432x288 with 1 Axes>"
      ]
     },
     "metadata": {
      "needs_background": "light"
     },
     "output_type": "display_data"
    }
   ],
   "source": [
    "# create plot and add annotations\n",
    "fig, ax1 = plt.subplots(1,1)\n",
    "\n",
    "# set grid\n",
    "ax1.grid(axis = 'y', zorder=0)\n",
    "\n",
    "# ax1\n",
    "sns.barplot(x= history['family_history'], y = history.value, hue = history.used_for_ml, ax = ax1, zorder=3)\n",
    "\n",
    "# remove top and right frame\n",
    "ax1.spines['top'].set_visible(False)\n",
    "ax1.spines['right'].set_visible(False)\n",
    "\n",
    "# set log scale and labels\n",
    "ax1.set_xlabel('')\n",
    "ax1.set_ylabel('Ratio')\n",
    "ax1.set_title('Family history of tinnitus complaints', fontsize = 10)\n",
    "\n",
    "# show values on bars\n",
    "u.show_values_on_bars(ax1, h_v = 'v', space = 1, normalize=True)"
   ]
  },
  {
   "cell_type": "markdown",
   "metadata": {},
   "source": [
    "For the baseline dataset at hand, 23.2 % of the users report a family history of tinnitus complaints, whereas 76.8% say that they do not have such a hisotry. Subjects that have been selected for the machine learning datset report existing family history complaints with a chance of 24.1 %, which is 0.9 % higher.\n"
   ]
  },
  {
   "cell_type": "markdown",
   "metadata": {},
   "source": [
    "#### Handedness"
   ]
  },
  {
   "cell_type": "code",
   "execution_count": 10,
   "metadata": {},
   "outputs": [
    {
     "data": {
      "text/html": [
       "<div>\n",
       "<style scoped>\n",
       "    .dataframe tbody tr th:only-of-type {\n",
       "        vertical-align: middle;\n",
       "    }\n",
       "\n",
       "    .dataframe tbody tr th {\n",
       "        vertical-align: top;\n",
       "    }\n",
       "\n",
       "    .dataframe thead th {\n",
       "        text-align: right;\n",
       "    }\n",
       "</style>\n",
       "<table border=\"1\" class=\"dataframe\">\n",
       "  <thead>\n",
       "    <tr style=\"text-align: right;\">\n",
       "      <th></th>\n",
       "      <th>used_for_ml</th>\n",
       "      <th>handedness</th>\n",
       "      <th>value</th>\n",
       "    </tr>\n",
       "  </thead>\n",
       "  <tbody>\n",
       "    <tr>\n",
       "      <th>0</th>\n",
       "      <td>False</td>\n",
       "      <td>Both Sides</td>\n",
       "      <td>0.185328</td>\n",
       "    </tr>\n",
       "    <tr>\n",
       "      <th>1</th>\n",
       "      <td>False</td>\n",
       "      <td>Left</td>\n",
       "      <td>0.137452</td>\n",
       "    </tr>\n",
       "    <tr>\n",
       "      <th>2</th>\n",
       "      <td>False</td>\n",
       "      <td>Right</td>\n",
       "      <td>0.677220</td>\n",
       "    </tr>\n",
       "    <tr>\n",
       "      <th>3</th>\n",
       "      <td>True</td>\n",
       "      <td>Both Sides</td>\n",
       "      <td>0.128170</td>\n",
       "    </tr>\n",
       "    <tr>\n",
       "      <th>4</th>\n",
       "      <td>True</td>\n",
       "      <td>Left</td>\n",
       "      <td>0.115722</td>\n",
       "    </tr>\n",
       "    <tr>\n",
       "      <th>5</th>\n",
       "      <td>True</td>\n",
       "      <td>Right</td>\n",
       "      <td>0.756109</td>\n",
       "    </tr>\n",
       "  </tbody>\n",
       "</table>\n",
       "</div>"
      ],
      "text/plain": [
       "   used_for_ml  handedness     value\n",
       "0        False  Both Sides  0.185328\n",
       "1        False        Left  0.137452\n",
       "2        False       Right  0.677220\n",
       "3         True  Both Sides  0.128170\n",
       "4         True        Left  0.115722\n",
       "5         True       Right  0.756109"
      ]
     },
     "execution_count": 10,
     "metadata": {},
     "output_type": "execute_result"
    }
   ],
   "source": [
    "ct = pd.crosstab(df['used_for_ml'], df['handedness'], normalize = 'index')\n",
    "handedness = ct.stack().reset_index().rename(columns={0:'value'})\n",
    "handedness"
   ]
  },
  {
   "cell_type": "code",
   "execution_count": 11,
   "metadata": {},
   "outputs": [
    {
     "data": {
      "image/png": "[encoded data removed]",
      "text/plain": [
       "<Figure size 432x288 with 1 Axes>"
      ]
     },
     "metadata": {
      "needs_background": "light"
     },
     "output_type": "display_data"
    }
   ],
   "source": [
    "# create plot and add annotations\n",
    "fig, ax1 = plt.subplots(1,1)\n",
    "\n",
    "# set grid\n",
    "ax1.grid(axis = 'y', zorder=0)\n",
    "\n",
    "# ax1\n",
    "sns.barplot(x= handedness['handedness'], y = handedness.value, hue = handedness.used_for_ml, ax = ax1, zorder=3)\n",
    "\n",
    "# remove top and right frame\n",
    "ax1.spines['top'].set_visible(False)\n",
    "ax1.spines['right'].set_visible(False)\n",
    "\n",
    "# set log scale and labels\n",
    "ax1.set_xlabel('')\n",
    "ax1.set_ylabel('Ratio')\n",
    "ax1.set_title('Handedness', fontsize = 10)\n",
    "\n",
    "# show values on bars\n",
    "u.show_values_on_bars(ax1, h_v = 'v', space = 1, normalize=True)"
   ]
  },
  {
   "cell_type": "markdown",
   "metadata": {},
   "source": [
    "For the baseline questionnaire, 67.7 % are right handed, 13.7 % are left handed and 18.5 % report a both sided handedness. For subjects used for the machine learning approach, 75.6 % rare right handed which leads to smaller ratios for both sides and left handedness with 12.8 % , and 11.5 %, respectively."
   ]
  },
  {
   "cell_type": "markdown",
   "metadata": {},
   "source": [
    "#### Age Distribution"
   ]
  },
  {
   "cell_type": "code",
   "execution_count": 12,
   "metadata": {},
   "outputs": [
    {
     "data": {
      "text/html": [
       "<div>\n",
       "<style scoped>\n",
       "    .dataframe tbody tr th:only-of-type {\n",
       "        vertical-align: middle;\n",
       "    }\n",
       "\n",
       "    .dataframe tbody tr th {\n",
       "        vertical-align: top;\n",
       "    }\n",
       "\n",
       "    .dataframe thead th {\n",
       "        text-align: right;\n",
       "    }\n",
       "</style>\n",
       "<table border=\"1\" class=\"dataframe\">\n",
       "  <thead>\n",
       "    <tr style=\"text-align: right;\">\n",
       "      <th></th>\n",
       "      <th>used_for_ml</th>\n",
       "      <th>date_of_birth</th>\n",
       "      <th>value</th>\n",
       "    </tr>\n",
       "  </thead>\n",
       "  <tbody>\n",
       "    <tr>\n",
       "      <th>0</th>\n",
       "      <td>False</td>\n",
       "      <td>(1900, 1910]</td>\n",
       "      <td>0.001634</td>\n",
       "    </tr>\n",
       "    <tr>\n",
       "      <th>1</th>\n",
       "      <td>False</td>\n",
       "      <td>(1910, 1920]</td>\n",
       "      <td>0.000817</td>\n",
       "    </tr>\n",
       "    <tr>\n",
       "      <th>2</th>\n",
       "      <td>False</td>\n",
       "      <td>(1920, 1930]</td>\n",
       "      <td>0.000817</td>\n",
       "    </tr>\n",
       "    <tr>\n",
       "      <th>3</th>\n",
       "      <td>False</td>\n",
       "      <td>(1930, 1940]</td>\n",
       "      <td>0.004902</td>\n",
       "    </tr>\n",
       "    <tr>\n",
       "      <th>4</th>\n",
       "      <td>False</td>\n",
       "      <td>(1940, 1950]</td>\n",
       "      <td>0.056373</td>\n",
       "    </tr>\n",
       "    <tr>\n",
       "      <th>5</th>\n",
       "      <td>False</td>\n",
       "      <td>(1950, 1960]</td>\n",
       "      <td>0.151961</td>\n",
       "    </tr>\n",
       "    <tr>\n",
       "      <th>6</th>\n",
       "      <td>False</td>\n",
       "      <td>(1960, 1970]</td>\n",
       "      <td>0.253268</td>\n",
       "    </tr>\n",
       "    <tr>\n",
       "      <th>7</th>\n",
       "      <td>False</td>\n",
       "      <td>(1970, 1980]</td>\n",
       "      <td>0.224673</td>\n",
       "    </tr>\n",
       "    <tr>\n",
       "      <th>8</th>\n",
       "      <td>False</td>\n",
       "      <td>(1980, 1990]</td>\n",
       "      <td>0.189542</td>\n",
       "    </tr>\n",
       "    <tr>\n",
       "      <th>9</th>\n",
       "      <td>False</td>\n",
       "      <td>(1990, 2000]</td>\n",
       "      <td>0.093954</td>\n",
       "    </tr>\n",
       "    <tr>\n",
       "      <th>10</th>\n",
       "      <td>False</td>\n",
       "      <td>(2000, 2010]</td>\n",
       "      <td>0.006536</td>\n",
       "    </tr>\n",
       "    <tr>\n",
       "      <th>11</th>\n",
       "      <td>False</td>\n",
       "      <td>(2010, 2020]</td>\n",
       "      <td>0.015523</td>\n",
       "    </tr>\n",
       "    <tr>\n",
       "      <th>12</th>\n",
       "      <td>True</td>\n",
       "      <td>(1900, 1910]</td>\n",
       "      <td>0.000000</td>\n",
       "    </tr>\n",
       "    <tr>\n",
       "      <th>13</th>\n",
       "      <td>True</td>\n",
       "      <td>(1910, 1920]</td>\n",
       "      <td>0.000000</td>\n",
       "    </tr>\n",
       "    <tr>\n",
       "      <th>14</th>\n",
       "      <td>True</td>\n",
       "      <td>(1920, 1930]</td>\n",
       "      <td>0.000459</td>\n",
       "    </tr>\n",
       "    <tr>\n",
       "      <th>15</th>\n",
       "      <td>True</td>\n",
       "      <td>(1930, 1940]</td>\n",
       "      <td>0.005510</td>\n",
       "    </tr>\n",
       "    <tr>\n",
       "      <th>16</th>\n",
       "      <td>True</td>\n",
       "      <td>(1940, 1950]</td>\n",
       "      <td>0.050964</td>\n",
       "    </tr>\n",
       "    <tr>\n",
       "      <th>17</th>\n",
       "      <td>True</td>\n",
       "      <td>(1950, 1960]</td>\n",
       "      <td>0.185491</td>\n",
       "    </tr>\n",
       "    <tr>\n",
       "      <th>18</th>\n",
       "      <td>True</td>\n",
       "      <td>(1960, 1970]</td>\n",
       "      <td>0.287879</td>\n",
       "    </tr>\n",
       "    <tr>\n",
       "      <th>19</th>\n",
       "      <td>True</td>\n",
       "      <td>(1970, 1980]</td>\n",
       "      <td>0.217631</td>\n",
       "    </tr>\n",
       "    <tr>\n",
       "      <th>20</th>\n",
       "      <td>True</td>\n",
       "      <td>(1980, 1990]</td>\n",
       "      <td>0.159320</td>\n",
       "    </tr>\n",
       "    <tr>\n",
       "      <th>21</th>\n",
       "      <td>True</td>\n",
       "      <td>(1990, 2000]</td>\n",
       "      <td>0.069330</td>\n",
       "    </tr>\n",
       "    <tr>\n",
       "      <th>22</th>\n",
       "      <td>True</td>\n",
       "      <td>(2000, 2010]</td>\n",
       "      <td>0.007346</td>\n",
       "    </tr>\n",
       "    <tr>\n",
       "      <th>23</th>\n",
       "      <td>True</td>\n",
       "      <td>(2010, 2020]</td>\n",
       "      <td>0.016070</td>\n",
       "    </tr>\n",
       "  </tbody>\n",
       "</table>\n",
       "</div>"
      ],
      "text/plain": [
       "    used_for_ml date_of_birth     value\n",
       "0         False  (1900, 1910]  0.001634\n",
       "1         False  (1910, 1920]  0.000817\n",
       "2         False  (1920, 1930]  0.000817\n",
       "3         False  (1930, 1940]  0.004902\n",
       "4         False  (1940, 1950]  0.056373\n",
       "5         False  (1950, 1960]  0.151961\n",
       "6         False  (1960, 1970]  0.253268\n",
       "7         False  (1970, 1980]  0.224673\n",
       "8         False  (1980, 1990]  0.189542\n",
       "9         False  (1990, 2000]  0.093954\n",
       "10        False  (2000, 2010]  0.006536\n",
       "11        False  (2010, 2020]  0.015523\n",
       "12         True  (1900, 1910]  0.000000\n",
       "13         True  (1910, 1920]  0.000000\n",
       "14         True  (1920, 1930]  0.000459\n",
       "15         True  (1930, 1940]  0.005510\n",
       "16         True  (1940, 1950]  0.050964\n",
       "17         True  (1950, 1960]  0.185491\n",
       "18         True  (1960, 1970]  0.287879\n",
       "19         True  (1970, 1980]  0.217631\n",
       "20         True  (1980, 1990]  0.159320\n",
       "21         True  (1990, 2000]  0.069330\n",
       "22         True  (2000, 2010]  0.007346\n",
       "23         True  (2010, 2020]  0.016070"
      ]
     },
     "execution_count": 12,
     "metadata": {},
     "output_type": "execute_result"
    }
   ],
   "source": [
    "age_bins = pd.cut(df['date_of_birth'].dt.year, np.arange(1900, 2030, 10))\n",
    "ct = pd.crosstab(df['used_for_ml'], age_bins, normalize = 'index')\n",
    "ages = ct.stack().reset_index().rename(columns={0:'value'})\n",
    "ages"
   ]
  },
  {
   "cell_type": "code",
   "execution_count": 13,
   "metadata": {},
   "outputs": [
    {
     "data": {
      "text/plain": [
       "count    3403.000000\n",
       "mean     1971.619747\n",
       "std        14.890389\n",
       "min      1901.000000\n",
       "25%      1961.000000\n",
       "50%      1970.000000\n",
       "75%      1982.000000\n",
       "max      2021.000000\n",
       "Name: date_of_birth, dtype: float64"
      ]
     },
     "execution_count": 13,
     "metadata": {},
     "output_type": "execute_result"
    }
   ],
   "source": [
    "df['date_of_birth'].dt.year.describe()"
   ]
  },
  {
   "cell_type": "code",
   "execution_count": 14,
   "metadata": {},
   "outputs": [
    {
     "data": {
      "text/plain": [
       "count    2179.000000\n",
       "mean     1971.091326\n",
       "std        14.632392\n",
       "min      1930.000000\n",
       "25%      1961.000000\n",
       "50%      1969.000000\n",
       "75%      1981.000000\n",
       "max      2021.000000\n",
       "Name: date_of_birth, dtype: float64"
      ]
     },
     "execution_count": 14,
     "metadata": {},
     "output_type": "execute_result"
    }
   ],
   "source": [
    "df[df['used_for_ml'] == True]['date_of_birth'].dt.year.describe()"
   ]
  },
  {
   "cell_type": "code",
   "execution_count": 15,
   "metadata": {},
   "outputs": [
    {
     "data": {
      "text/plain": [
       "Text(0.5, 1.0, 'Age Distribution')"
      ]
     },
     "execution_count": 15,
     "metadata": {},
     "output_type": "execute_result"
    },
    {
     "data": {
      "image/png": "[encoded data removed]",
      "text/plain": [
       "<Figure size 432x288 with 1 Axes>"
      ]
     },
     "metadata": {
      "needs_background": "light"
     },
     "output_type": "display_data"
    }
   ],
   "source": [
    "# create plot and add annotations\n",
    "fig, ax1 = plt.subplots(1,1)\n",
    "\n",
    "# set grid\n",
    "ax1.grid(axis = 'y', zorder=0)\n",
    "\n",
    "# ax1\n",
    "sns.barplot(x= ages['date_of_birth'], y = ages.value, hue = ages.used_for_ml, ax = ax1, zorder=3)\n",
    "\n",
    "# remove top and right frame\n",
    "ax1.spines['top'].set_visible(False)\n",
    "ax1.spines['right'].set_visible(False)\n",
    "\n",
    "# set log scale and labels\n",
    "xticklabels = ax1.get_xticklabels()\n",
    "ax1.set_xticklabels(xticklabels, rotation = 45, ha=\"right\")\n",
    "ax1.set_ylabel('Ratio')\n",
    "ax1.set_title('Age Distribution', fontsize = 10)\n",
    "\n",
    "\n"
   ]
  },
  {
   "cell_type": "markdown",
   "metadata": {},
   "source": [
    "For the both strate the distribution is bell-shaped with a center for people born in the 19060s with a max height of 25 % (all subjects), and 28 % (subjects used for machine learning). For all users, the median year of birth is 1970 with a standard deviation of 14.89 years, a minimum of 1901 and a maximum of 2021 which is a range of 120 years. For subjects used for machine learning, the median year of birth is 1969 with a standard deviation of 14.63, a minimum of 1930 and a maximum of 2021 which is a range of 91 years."
   ]
  },
  {
   "cell_type": "code",
   "execution_count": 30,
   "metadata": {},
   "outputs": [
    {
     "name": "stdout",
     "output_type": "stream",
     "text": [
      "0.07866212407318 7.975835170093148e-08\n"
     ]
    }
   ],
   "source": [
    "# Compute the Kolmogorov-Smirnov statistic on 2 samples\n",
    "all_ages = df.date_of_birth.dt.year.values\n",
    "ml_ages = df[df.used_for_ml == True].date_of_birth.dt.year.values\n",
    "\n",
    "statistic, pvalue = ks_2samp(all_ages, ml_ages) \n",
    "print(statistic, pvalue)"
   ]
  },
  {
   "cell_type": "markdown",
   "metadata": {},
   "source": [
    "The small pvalue below 1 % indicates that the two samples are *not* drawn from the same distribution."
   ]
  },
  {
   "cell_type": "markdown",
   "metadata": {},
   "source": [
    "#### Gender Distribution"
   ]
  },
  {
   "cell_type": "code",
   "execution_count": 16,
   "metadata": {},
   "outputs": [
    {
     "data": {
      "text/html": [
       "<div>\n",
       "<style scoped>\n",
       "    .dataframe tbody tr th:only-of-type {\n",
       "        vertical-align: middle;\n",
       "    }\n",
       "\n",
       "    .dataframe tbody tr th {\n",
       "        vertical-align: top;\n",
       "    }\n",
       "\n",
       "    .dataframe thead th {\n",
       "        text-align: right;\n",
       "    }\n",
       "</style>\n",
       "<table border=\"1\" class=\"dataframe\">\n",
       "  <thead>\n",
       "    <tr style=\"text-align: right;\">\n",
       "      <th></th>\n",
       "      <th>used_for_ml</th>\n",
       "      <th>sex</th>\n",
       "      <th>value</th>\n",
       "    </tr>\n",
       "  </thead>\n",
       "  <tbody>\n",
       "    <tr>\n",
       "      <th>0</th>\n",
       "      <td>False</td>\n",
       "      <td>Female</td>\n",
       "      <td>0.278549</td>\n",
       "    </tr>\n",
       "    <tr>\n",
       "      <th>1</th>\n",
       "      <td>False</td>\n",
       "      <td>Male</td>\n",
       "      <td>0.721451</td>\n",
       "    </tr>\n",
       "    <tr>\n",
       "      <th>2</th>\n",
       "      <td>True</td>\n",
       "      <td>Female</td>\n",
       "      <td>0.359187</td>\n",
       "    </tr>\n",
       "    <tr>\n",
       "      <th>3</th>\n",
       "      <td>True</td>\n",
       "      <td>Male</td>\n",
       "      <td>0.640813</td>\n",
       "    </tr>\n",
       "  </tbody>\n",
       "</table>\n",
       "</div>"
      ],
      "text/plain": [
       "   used_for_ml     sex     value\n",
       "0        False  Female  0.278549\n",
       "1        False    Male  0.721451\n",
       "2         True  Female  0.359187\n",
       "3         True    Male  0.640813"
      ]
     },
     "execution_count": 16,
     "metadata": {},
     "output_type": "execute_result"
    }
   ],
   "source": [
    "ct = pd.crosstab(df['used_for_ml'], df['sex'], normalize = 'index')\n",
    "gndr = ct.stack().reset_index().rename(columns={0:'value'})\n",
    "gndr"
   ]
  },
  {
   "cell_type": "code",
   "execution_count": 22,
   "metadata": {},
   "outputs": [
    {
     "data": {
      "image/png": "[encoded data removed]",
      "text/plain": [
       "<Figure size 432x288 with 1 Axes>"
      ]
     },
     "metadata": {
      "needs_background": "light"
     },
     "output_type": "display_data"
    }
   ],
   "source": [
    "# create plot and add annotations\n",
    "fig, ax1 = plt.subplots(1,1)\n",
    "\n",
    "# set grid\n",
    "ax1.grid(axis = 'y', zorder=0)\n",
    "\n",
    "# ax1\n",
    "sns.barplot(x= gndr['sex'], y = gndr.value, hue = gndr.used_for_ml, ax = ax1, zorder=3)\n",
    "\n",
    "# remove top and right frame\n",
    "ax1.spines['top'].set_visible(False)\n",
    "ax1.spines['right'].set_visible(False)\n",
    "\n",
    "# set log scale and labels\n",
    "xticklabels = ax1.get_xticklabels()\n",
    "ax1.set_xticklabels(xticklabels, rotation = 0, ha=\"center\")\n",
    "ax1.set_ylabel('Ratio')\n",
    "ax1.set_title('Sex Distribution', fontsize = 10)\n",
    "\n",
    "# show values on bars\n",
    "u.show_values_on_bars(ax1, h_v = 'v', space = 1, normalize=True)\n"
   ]
  },
  {
   "cell_type": "markdown",
   "metadata": {},
   "source": [
    "For all subjects, the ratio of male to female is 72.1 to 27.9. That is, there are 72.1 % men and 27.9 % women in the datset. For subjects used for the machine learning approach, there are 8 % points less men and more women which leads to a ratio of 64.1 to 35.9."
   ]
  },
  {
   "cell_type": "code",
   "execution_count": null,
   "metadata": {},
   "outputs": [],
   "source": []
  }
 ],
 "metadata": {
  "kernelspec": {
   "display_name": "Python 3",
   "language": "python",
   "name": "python3"
  },
  "language_info": {
   "codemirror_mode": {
    "name": "ipython",
    "version": 3
   },
   "file_extension": ".py",
   "mimetype": "text/x-python",
   "name": "python",
   "nbconvert_exporter": "python",
   "pygments_lexer": "ipython3",
   "version": "3.7.4"
  }
 },
 "nbformat": 4,
 "nbformat_minor": 4
}
